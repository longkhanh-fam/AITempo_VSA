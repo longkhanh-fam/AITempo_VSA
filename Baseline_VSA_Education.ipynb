{
  "nbformat": 4,
  "nbformat_minor": 0,
  "metadata": {
    "colab": {
      "provenance": []
    },
    "kernelspec": {
      "name": "python3",
      "display_name": "Python 3"
    },
    "language_info": {
      "name": "python"
    },
    "accelerator": "GPU",
    "gpuClass": "standard",
    "widgets": {
      "application/vnd.jupyter.widget-state+json": {
        "372a03ec38914201922cbfb1ffc9fbfb": {
          "model_module": "@jupyter-widgets/controls",
          "model_name": "HBoxModel",
          "model_module_version": "1.5.0",
          "state": {
            "_dom_classes": [],
            "_model_module": "@jupyter-widgets/controls",
            "_model_module_version": "1.5.0",
            "_model_name": "HBoxModel",
            "_view_count": null,
            "_view_module": "@jupyter-widgets/controls",
            "_view_module_version": "1.5.0",
            "_view_name": "HBoxView",
            "box_style": "",
            "children": [
              "IPY_MODEL_5db9340fd2db4657ae80d636254396f6",
              "IPY_MODEL_d28b915750ed4b24bf6037748b3b5dd8",
              "IPY_MODEL_86b79cb5d7d7487daebf08ba4171553c"
            ],
            "layout": "IPY_MODEL_dda6b94e042d4cc39310c13e59b1a0b6"
          }
        },
        "5db9340fd2db4657ae80d636254396f6": {
          "model_module": "@jupyter-widgets/controls",
          "model_name": "HTMLModel",
          "model_module_version": "1.5.0",
          "state": {
            "_dom_classes": [],
            "_model_module": "@jupyter-widgets/controls",
            "_model_module_version": "1.5.0",
            "_model_name": "HTMLModel",
            "_view_count": null,
            "_view_module": "@jupyter-widgets/controls",
            "_view_module_version": "1.5.0",
            "_view_name": "HTMLView",
            "description": "",
            "description_tooltip": null,
            "layout": "IPY_MODEL_3fe7ab366091436d9e4f3fe0db22ed15",
            "placeholder": "​",
            "style": "IPY_MODEL_99765b288a214471914145343f6a8a02",
            "value": "Map: 100%"
          }
        },
        "d28b915750ed4b24bf6037748b3b5dd8": {
          "model_module": "@jupyter-widgets/controls",
          "model_name": "FloatProgressModel",
          "model_module_version": "1.5.0",
          "state": {
            "_dom_classes": [],
            "_model_module": "@jupyter-widgets/controls",
            "_model_module_version": "1.5.0",
            "_model_name": "FloatProgressModel",
            "_view_count": null,
            "_view_module": "@jupyter-widgets/controls",
            "_view_module_version": "1.5.0",
            "_view_name": "ProgressView",
            "bar_style": "",
            "description": "",
            "description_tooltip": null,
            "layout": "IPY_MODEL_3ad084c6616d4992b142d24dcbee0fdd",
            "max": 3502,
            "min": 0,
            "orientation": "horizontal",
            "style": "IPY_MODEL_cd0a80799d7f44ca8e1a655c1641fadd",
            "value": 3502
          }
        },
        "86b79cb5d7d7487daebf08ba4171553c": {
          "model_module": "@jupyter-widgets/controls",
          "model_name": "HTMLModel",
          "model_module_version": "1.5.0",
          "state": {
            "_dom_classes": [],
            "_model_module": "@jupyter-widgets/controls",
            "_model_module_version": "1.5.0",
            "_model_name": "HTMLModel",
            "_view_count": null,
            "_view_module": "@jupyter-widgets/controls",
            "_view_module_version": "1.5.0",
            "_view_name": "HTMLView",
            "description": "",
            "description_tooltip": null,
            "layout": "IPY_MODEL_1363df66880d44f3bca760ae5a366664",
            "placeholder": "​",
            "style": "IPY_MODEL_12fa68f023204cd895247928a077f203",
            "value": " 3502/3502 [00:01&lt;00:00, 2676.77 examples/s]"
          }
        },
        "dda6b94e042d4cc39310c13e59b1a0b6": {
          "model_module": "@jupyter-widgets/base",
          "model_name": "LayoutModel",
          "model_module_version": "1.2.0",
          "state": {
            "_model_module": "@jupyter-widgets/base",
            "_model_module_version": "1.2.0",
            "_model_name": "LayoutModel",
            "_view_count": null,
            "_view_module": "@jupyter-widgets/base",
            "_view_module_version": "1.2.0",
            "_view_name": "LayoutView",
            "align_content": null,
            "align_items": null,
            "align_self": null,
            "border": null,
            "bottom": null,
            "display": null,
            "flex": null,
            "flex_flow": null,
            "grid_area": null,
            "grid_auto_columns": null,
            "grid_auto_flow": null,
            "grid_auto_rows": null,
            "grid_column": null,
            "grid_gap": null,
            "grid_row": null,
            "grid_template_areas": null,
            "grid_template_columns": null,
            "grid_template_rows": null,
            "height": null,
            "justify_content": null,
            "justify_items": null,
            "left": null,
            "margin": null,
            "max_height": null,
            "max_width": null,
            "min_height": null,
            "min_width": null,
            "object_fit": null,
            "object_position": null,
            "order": null,
            "overflow": null,
            "overflow_x": null,
            "overflow_y": null,
            "padding": null,
            "right": null,
            "top": null,
            "visibility": "hidden",
            "width": null
          }
        },
        "3fe7ab366091436d9e4f3fe0db22ed15": {
          "model_module": "@jupyter-widgets/base",
          "model_name": "LayoutModel",
          "model_module_version": "1.2.0",
          "state": {
            "_model_module": "@jupyter-widgets/base",
            "_model_module_version": "1.2.0",
            "_model_name": "LayoutModel",
            "_view_count": null,
            "_view_module": "@jupyter-widgets/base",
            "_view_module_version": "1.2.0",
            "_view_name": "LayoutView",
            "align_content": null,
            "align_items": null,
            "align_self": null,
            "border": null,
            "bottom": null,
            "display": null,
            "flex": null,
            "flex_flow": null,
            "grid_area": null,
            "grid_auto_columns": null,
            "grid_auto_flow": null,
            "grid_auto_rows": null,
            "grid_column": null,
            "grid_gap": null,
            "grid_row": null,
            "grid_template_areas": null,
            "grid_template_columns": null,
            "grid_template_rows": null,
            "height": null,
            "justify_content": null,
            "justify_items": null,
            "left": null,
            "margin": null,
            "max_height": null,
            "max_width": null,
            "min_height": null,
            "min_width": null,
            "object_fit": null,
            "object_position": null,
            "order": null,
            "overflow": null,
            "overflow_x": null,
            "overflow_y": null,
            "padding": null,
            "right": null,
            "top": null,
            "visibility": null,
            "width": null
          }
        },
        "99765b288a214471914145343f6a8a02": {
          "model_module": "@jupyter-widgets/controls",
          "model_name": "DescriptionStyleModel",
          "model_module_version": "1.5.0",
          "state": {
            "_model_module": "@jupyter-widgets/controls",
            "_model_module_version": "1.5.0",
            "_model_name": "DescriptionStyleModel",
            "_view_count": null,
            "_view_module": "@jupyter-widgets/base",
            "_view_module_version": "1.2.0",
            "_view_name": "StyleView",
            "description_width": ""
          }
        },
        "3ad084c6616d4992b142d24dcbee0fdd": {
          "model_module": "@jupyter-widgets/base",
          "model_name": "LayoutModel",
          "model_module_version": "1.2.0",
          "state": {
            "_model_module": "@jupyter-widgets/base",
            "_model_module_version": "1.2.0",
            "_model_name": "LayoutModel",
            "_view_count": null,
            "_view_module": "@jupyter-widgets/base",
            "_view_module_version": "1.2.0",
            "_view_name": "LayoutView",
            "align_content": null,
            "align_items": null,
            "align_self": null,
            "border": null,
            "bottom": null,
            "display": null,
            "flex": null,
            "flex_flow": null,
            "grid_area": null,
            "grid_auto_columns": null,
            "grid_auto_flow": null,
            "grid_auto_rows": null,
            "grid_column": null,
            "grid_gap": null,
            "grid_row": null,
            "grid_template_areas": null,
            "grid_template_columns": null,
            "grid_template_rows": null,
            "height": null,
            "justify_content": null,
            "justify_items": null,
            "left": null,
            "margin": null,
            "max_height": null,
            "max_width": null,
            "min_height": null,
            "min_width": null,
            "object_fit": null,
            "object_position": null,
            "order": null,
            "overflow": null,
            "overflow_x": null,
            "overflow_y": null,
            "padding": null,
            "right": null,
            "top": null,
            "visibility": null,
            "width": null
          }
        },
        "cd0a80799d7f44ca8e1a655c1641fadd": {
          "model_module": "@jupyter-widgets/controls",
          "model_name": "ProgressStyleModel",
          "model_module_version": "1.5.0",
          "state": {
            "_model_module": "@jupyter-widgets/controls",
            "_model_module_version": "1.5.0",
            "_model_name": "ProgressStyleModel",
            "_view_count": null,
            "_view_module": "@jupyter-widgets/base",
            "_view_module_version": "1.2.0",
            "_view_name": "StyleView",
            "bar_color": null,
            "description_width": ""
          }
        },
        "1363df66880d44f3bca760ae5a366664": {
          "model_module": "@jupyter-widgets/base",
          "model_name": "LayoutModel",
          "model_module_version": "1.2.0",
          "state": {
            "_model_module": "@jupyter-widgets/base",
            "_model_module_version": "1.2.0",
            "_model_name": "LayoutModel",
            "_view_count": null,
            "_view_module": "@jupyter-widgets/base",
            "_view_module_version": "1.2.0",
            "_view_name": "LayoutView",
            "align_content": null,
            "align_items": null,
            "align_self": null,
            "border": null,
            "bottom": null,
            "display": null,
            "flex": null,
            "flex_flow": null,
            "grid_area": null,
            "grid_auto_columns": null,
            "grid_auto_flow": null,
            "grid_auto_rows": null,
            "grid_column": null,
            "grid_gap": null,
            "grid_row": null,
            "grid_template_areas": null,
            "grid_template_columns": null,
            "grid_template_rows": null,
            "height": null,
            "justify_content": null,
            "justify_items": null,
            "left": null,
            "margin": null,
            "max_height": null,
            "max_width": null,
            "min_height": null,
            "min_width": null,
            "object_fit": null,
            "object_position": null,
            "order": null,
            "overflow": null,
            "overflow_x": null,
            "overflow_y": null,
            "padding": null,
            "right": null,
            "top": null,
            "visibility": null,
            "width": null
          }
        },
        "12fa68f023204cd895247928a077f203": {
          "model_module": "@jupyter-widgets/controls",
          "model_name": "DescriptionStyleModel",
          "model_module_version": "1.5.0",
          "state": {
            "_model_module": "@jupyter-widgets/controls",
            "_model_module_version": "1.5.0",
            "_model_name": "DescriptionStyleModel",
            "_view_count": null,
            "_view_module": "@jupyter-widgets/base",
            "_view_module_version": "1.2.0",
            "_view_name": "StyleView",
            "description_width": ""
          }
        },
        "65d23e1c43394f598219804ced6f3471": {
          "model_module": "@jupyter-widgets/controls",
          "model_name": "HBoxModel",
          "model_module_version": "1.5.0",
          "state": {
            "_dom_classes": [],
            "_model_module": "@jupyter-widgets/controls",
            "_model_module_version": "1.5.0",
            "_model_name": "HBoxModel",
            "_view_count": null,
            "_view_module": "@jupyter-widgets/controls",
            "_view_module_version": "1.5.0",
            "_view_name": "HBoxView",
            "box_style": "",
            "children": [
              "IPY_MODEL_07ae705116cb499f820bea23667cad59",
              "IPY_MODEL_e6ecc6556f224746b100f805e4ec58fa",
              "IPY_MODEL_ce4fea5338b3467d9c72b5901e0c7966"
            ],
            "layout": "IPY_MODEL_9713d2185d0d4138a5cca6c90b13ffc8"
          }
        },
        "07ae705116cb499f820bea23667cad59": {
          "model_module": "@jupyter-widgets/controls",
          "model_name": "HTMLModel",
          "model_module_version": "1.5.0",
          "state": {
            "_dom_classes": [],
            "_model_module": "@jupyter-widgets/controls",
            "_model_module_version": "1.5.0",
            "_model_name": "HTMLModel",
            "_view_count": null,
            "_view_module": "@jupyter-widgets/controls",
            "_view_module_version": "1.5.0",
            "_view_name": "HTMLView",
            "description": "",
            "description_tooltip": null,
            "layout": "IPY_MODEL_1eb3f0b61b264206bb3dc4f9436200e5",
            "placeholder": "​",
            "style": "IPY_MODEL_9dbcf8481f864a5ab8be793146d81c6f",
            "value": "Map:   0%"
          }
        },
        "e6ecc6556f224746b100f805e4ec58fa": {
          "model_module": "@jupyter-widgets/controls",
          "model_name": "FloatProgressModel",
          "model_module_version": "1.5.0",
          "state": {
            "_dom_classes": [],
            "_model_module": "@jupyter-widgets/controls",
            "_model_module_version": "1.5.0",
            "_model_name": "FloatProgressModel",
            "_view_count": null,
            "_view_module": "@jupyter-widgets/controls",
            "_view_module_version": "1.5.0",
            "_view_name": "ProgressView",
            "bar_style": "",
            "description": "",
            "description_tooltip": null,
            "layout": "IPY_MODEL_5bf4408eeed54d07abbde28bb395004e",
            "max": 107,
            "min": 0,
            "orientation": "horizontal",
            "style": "IPY_MODEL_d7fb42b743cd42e690ebd367926b9e56",
            "value": 107
          }
        },
        "ce4fea5338b3467d9c72b5901e0c7966": {
          "model_module": "@jupyter-widgets/controls",
          "model_name": "HTMLModel",
          "model_module_version": "1.5.0",
          "state": {
            "_dom_classes": [],
            "_model_module": "@jupyter-widgets/controls",
            "_model_module_version": "1.5.0",
            "_model_name": "HTMLModel",
            "_view_count": null,
            "_view_module": "@jupyter-widgets/controls",
            "_view_module_version": "1.5.0",
            "_view_name": "HTMLView",
            "description": "",
            "description_tooltip": null,
            "layout": "IPY_MODEL_2c0e01eaef8f4c54ab770af37fb42431",
            "placeholder": "​",
            "style": "IPY_MODEL_a32607447d734d99a418d31439dc1766",
            "value": " 0/107 [00:00&lt;?, ? examples/s]"
          }
        },
        "9713d2185d0d4138a5cca6c90b13ffc8": {
          "model_module": "@jupyter-widgets/base",
          "model_name": "LayoutModel",
          "model_module_version": "1.2.0",
          "state": {
            "_model_module": "@jupyter-widgets/base",
            "_model_module_version": "1.2.0",
            "_model_name": "LayoutModel",
            "_view_count": null,
            "_view_module": "@jupyter-widgets/base",
            "_view_module_version": "1.2.0",
            "_view_name": "LayoutView",
            "align_content": null,
            "align_items": null,
            "align_self": null,
            "border": null,
            "bottom": null,
            "display": null,
            "flex": null,
            "flex_flow": null,
            "grid_area": null,
            "grid_auto_columns": null,
            "grid_auto_flow": null,
            "grid_auto_rows": null,
            "grid_column": null,
            "grid_gap": null,
            "grid_row": null,
            "grid_template_areas": null,
            "grid_template_columns": null,
            "grid_template_rows": null,
            "height": null,
            "justify_content": null,
            "justify_items": null,
            "left": null,
            "margin": null,
            "max_height": null,
            "max_width": null,
            "min_height": null,
            "min_width": null,
            "object_fit": null,
            "object_position": null,
            "order": null,
            "overflow": null,
            "overflow_x": null,
            "overflow_y": null,
            "padding": null,
            "right": null,
            "top": null,
            "visibility": "hidden",
            "width": null
          }
        },
        "1eb3f0b61b264206bb3dc4f9436200e5": {
          "model_module": "@jupyter-widgets/base",
          "model_name": "LayoutModel",
          "model_module_version": "1.2.0",
          "state": {
            "_model_module": "@jupyter-widgets/base",
            "_model_module_version": "1.2.0",
            "_model_name": "LayoutModel",
            "_view_count": null,
            "_view_module": "@jupyter-widgets/base",
            "_view_module_version": "1.2.0",
            "_view_name": "LayoutView",
            "align_content": null,
            "align_items": null,
            "align_self": null,
            "border": null,
            "bottom": null,
            "display": null,
            "flex": null,
            "flex_flow": null,
            "grid_area": null,
            "grid_auto_columns": null,
            "grid_auto_flow": null,
            "grid_auto_rows": null,
            "grid_column": null,
            "grid_gap": null,
            "grid_row": null,
            "grid_template_areas": null,
            "grid_template_columns": null,
            "grid_template_rows": null,
            "height": null,
            "justify_content": null,
            "justify_items": null,
            "left": null,
            "margin": null,
            "max_height": null,
            "max_width": null,
            "min_height": null,
            "min_width": null,
            "object_fit": null,
            "object_position": null,
            "order": null,
            "overflow": null,
            "overflow_x": null,
            "overflow_y": null,
            "padding": null,
            "right": null,
            "top": null,
            "visibility": null,
            "width": null
          }
        },
        "9dbcf8481f864a5ab8be793146d81c6f": {
          "model_module": "@jupyter-widgets/controls",
          "model_name": "DescriptionStyleModel",
          "model_module_version": "1.5.0",
          "state": {
            "_model_module": "@jupyter-widgets/controls",
            "_model_module_version": "1.5.0",
            "_model_name": "DescriptionStyleModel",
            "_view_count": null,
            "_view_module": "@jupyter-widgets/base",
            "_view_module_version": "1.2.0",
            "_view_name": "StyleView",
            "description_width": ""
          }
        },
        "5bf4408eeed54d07abbde28bb395004e": {
          "model_module": "@jupyter-widgets/base",
          "model_name": "LayoutModel",
          "model_module_version": "1.2.0",
          "state": {
            "_model_module": "@jupyter-widgets/base",
            "_model_module_version": "1.2.0",
            "_model_name": "LayoutModel",
            "_view_count": null,
            "_view_module": "@jupyter-widgets/base",
            "_view_module_version": "1.2.0",
            "_view_name": "LayoutView",
            "align_content": null,
            "align_items": null,
            "align_self": null,
            "border": null,
            "bottom": null,
            "display": null,
            "flex": null,
            "flex_flow": null,
            "grid_area": null,
            "grid_auto_columns": null,
            "grid_auto_flow": null,
            "grid_auto_rows": null,
            "grid_column": null,
            "grid_gap": null,
            "grid_row": null,
            "grid_template_areas": null,
            "grid_template_columns": null,
            "grid_template_rows": null,
            "height": null,
            "justify_content": null,
            "justify_items": null,
            "left": null,
            "margin": null,
            "max_height": null,
            "max_width": null,
            "min_height": null,
            "min_width": null,
            "object_fit": null,
            "object_position": null,
            "order": null,
            "overflow": null,
            "overflow_x": null,
            "overflow_y": null,
            "padding": null,
            "right": null,
            "top": null,
            "visibility": null,
            "width": null
          }
        },
        "d7fb42b743cd42e690ebd367926b9e56": {
          "model_module": "@jupyter-widgets/controls",
          "model_name": "ProgressStyleModel",
          "model_module_version": "1.5.0",
          "state": {
            "_model_module": "@jupyter-widgets/controls",
            "_model_module_version": "1.5.0",
            "_model_name": "ProgressStyleModel",
            "_view_count": null,
            "_view_module": "@jupyter-widgets/base",
            "_view_module_version": "1.2.0",
            "_view_name": "StyleView",
            "bar_color": null,
            "description_width": ""
          }
        },
        "2c0e01eaef8f4c54ab770af37fb42431": {
          "model_module": "@jupyter-widgets/base",
          "model_name": "LayoutModel",
          "model_module_version": "1.2.0",
          "state": {
            "_model_module": "@jupyter-widgets/base",
            "_model_module_version": "1.2.0",
            "_model_name": "LayoutModel",
            "_view_count": null,
            "_view_module": "@jupyter-widgets/base",
            "_view_module_version": "1.2.0",
            "_view_name": "LayoutView",
            "align_content": null,
            "align_items": null,
            "align_self": null,
            "border": null,
            "bottom": null,
            "display": null,
            "flex": null,
            "flex_flow": null,
            "grid_area": null,
            "grid_auto_columns": null,
            "grid_auto_flow": null,
            "grid_auto_rows": null,
            "grid_column": null,
            "grid_gap": null,
            "grid_row": null,
            "grid_template_areas": null,
            "grid_template_columns": null,
            "grid_template_rows": null,
            "height": null,
            "justify_content": null,
            "justify_items": null,
            "left": null,
            "margin": null,
            "max_height": null,
            "max_width": null,
            "min_height": null,
            "min_width": null,
            "object_fit": null,
            "object_position": null,
            "order": null,
            "overflow": null,
            "overflow_x": null,
            "overflow_y": null,
            "padding": null,
            "right": null,
            "top": null,
            "visibility": null,
            "width": null
          }
        },
        "a32607447d734d99a418d31439dc1766": {
          "model_module": "@jupyter-widgets/controls",
          "model_name": "DescriptionStyleModel",
          "model_module_version": "1.5.0",
          "state": {
            "_model_module": "@jupyter-widgets/controls",
            "_model_module_version": "1.5.0",
            "_model_name": "DescriptionStyleModel",
            "_view_count": null,
            "_view_module": "@jupyter-widgets/base",
            "_view_module_version": "1.2.0",
            "_view_name": "StyleView",
            "description_width": ""
          }
        },
        "ee26de1695214aa783ea46510c4daafa": {
          "model_module": "@jupyter-widgets/controls",
          "model_name": "HBoxModel",
          "model_module_version": "1.5.0",
          "state": {
            "_dom_classes": [],
            "_model_module": "@jupyter-widgets/controls",
            "_model_module_version": "1.5.0",
            "_model_name": "HBoxModel",
            "_view_count": null,
            "_view_module": "@jupyter-widgets/controls",
            "_view_module_version": "1.5.0",
            "_view_name": "HBoxView",
            "box_style": "",
            "children": [
              "IPY_MODEL_eb1a178c4d6e479186d4f6151a15cf1e",
              "IPY_MODEL_e736404940a748ef8b37a88d403d5808",
              "IPY_MODEL_ab86d8116c0a44f48089ff74c7e6ac22"
            ],
            "layout": "IPY_MODEL_c4a65666752945d1bf415a3b1586aa11"
          }
        },
        "eb1a178c4d6e479186d4f6151a15cf1e": {
          "model_module": "@jupyter-widgets/controls",
          "model_name": "HTMLModel",
          "model_module_version": "1.5.0",
          "state": {
            "_dom_classes": [],
            "_model_module": "@jupyter-widgets/controls",
            "_model_module_version": "1.5.0",
            "_model_name": "HTMLModel",
            "_view_count": null,
            "_view_module": "@jupyter-widgets/controls",
            "_view_module_version": "1.5.0",
            "_view_name": "HTMLView",
            "description": "",
            "description_tooltip": null,
            "layout": "IPY_MODEL_bf161fb3789c4461a98bd8f24ec276c2",
            "placeholder": "​",
            "style": "IPY_MODEL_c9f52465ee504b149a91a74c0266e7eb",
            "value": "(…)ation/resolve/main/tokenizer_config.json: 100%"
          }
        },
        "e736404940a748ef8b37a88d403d5808": {
          "model_module": "@jupyter-widgets/controls",
          "model_name": "FloatProgressModel",
          "model_module_version": "1.5.0",
          "state": {
            "_dom_classes": [],
            "_model_module": "@jupyter-widgets/controls",
            "_model_module_version": "1.5.0",
            "_model_name": "FloatProgressModel",
            "_view_count": null,
            "_view_module": "@jupyter-widgets/controls",
            "_view_module_version": "1.5.0",
            "_view_name": "ProgressView",
            "bar_style": "success",
            "description": "",
            "description_tooltip": null,
            "layout": "IPY_MODEL_7d1a9ba2be6746a8972f4329fbb45f91",
            "max": 1189,
            "min": 0,
            "orientation": "horizontal",
            "style": "IPY_MODEL_930b0add86d6420ca4b68b4853ae404c",
            "value": 1189
          }
        },
        "ab86d8116c0a44f48089ff74c7e6ac22": {
          "model_module": "@jupyter-widgets/controls",
          "model_name": "HTMLModel",
          "model_module_version": "1.5.0",
          "state": {
            "_dom_classes": [],
            "_model_module": "@jupyter-widgets/controls",
            "_model_module_version": "1.5.0",
            "_model_name": "HTMLModel",
            "_view_count": null,
            "_view_module": "@jupyter-widgets/controls",
            "_view_module_version": "1.5.0",
            "_view_name": "HTMLView",
            "description": "",
            "description_tooltip": null,
            "layout": "IPY_MODEL_ba4f57d9275b4d659f232fc0e45b4570",
            "placeholder": "​",
            "style": "IPY_MODEL_88500dc849fd4248b10401ed29842e28",
            "value": " 1.19k/1.19k [00:00&lt;00:00, 25.9kB/s]"
          }
        },
        "c4a65666752945d1bf415a3b1586aa11": {
          "model_module": "@jupyter-widgets/base",
          "model_name": "LayoutModel",
          "model_module_version": "1.2.0",
          "state": {
            "_model_module": "@jupyter-widgets/base",
            "_model_module_version": "1.2.0",
            "_model_name": "LayoutModel",
            "_view_count": null,
            "_view_module": "@jupyter-widgets/base",
            "_view_module_version": "1.2.0",
            "_view_name": "LayoutView",
            "align_content": null,
            "align_items": null,
            "align_self": null,
            "border": null,
            "bottom": null,
            "display": null,
            "flex": null,
            "flex_flow": null,
            "grid_area": null,
            "grid_auto_columns": null,
            "grid_auto_flow": null,
            "grid_auto_rows": null,
            "grid_column": null,
            "grid_gap": null,
            "grid_row": null,
            "grid_template_areas": null,
            "grid_template_columns": null,
            "grid_template_rows": null,
            "height": null,
            "justify_content": null,
            "justify_items": null,
            "left": null,
            "margin": null,
            "max_height": null,
            "max_width": null,
            "min_height": null,
            "min_width": null,
            "object_fit": null,
            "object_position": null,
            "order": null,
            "overflow": null,
            "overflow_x": null,
            "overflow_y": null,
            "padding": null,
            "right": null,
            "top": null,
            "visibility": null,
            "width": null
          }
        },
        "bf161fb3789c4461a98bd8f24ec276c2": {
          "model_module": "@jupyter-widgets/base",
          "model_name": "LayoutModel",
          "model_module_version": "1.2.0",
          "state": {
            "_model_module": "@jupyter-widgets/base",
            "_model_module_version": "1.2.0",
            "_model_name": "LayoutModel",
            "_view_count": null,
            "_view_module": "@jupyter-widgets/base",
            "_view_module_version": "1.2.0",
            "_view_name": "LayoutView",
            "align_content": null,
            "align_items": null,
            "align_self": null,
            "border": null,
            "bottom": null,
            "display": null,
            "flex": null,
            "flex_flow": null,
            "grid_area": null,
            "grid_auto_columns": null,
            "grid_auto_flow": null,
            "grid_auto_rows": null,
            "grid_column": null,
            "grid_gap": null,
            "grid_row": null,
            "grid_template_areas": null,
            "grid_template_columns": null,
            "grid_template_rows": null,
            "height": null,
            "justify_content": null,
            "justify_items": null,
            "left": null,
            "margin": null,
            "max_height": null,
            "max_width": null,
            "min_height": null,
            "min_width": null,
            "object_fit": null,
            "object_position": null,
            "order": null,
            "overflow": null,
            "overflow_x": null,
            "overflow_y": null,
            "padding": null,
            "right": null,
            "top": null,
            "visibility": null,
            "width": null
          }
        },
        "c9f52465ee504b149a91a74c0266e7eb": {
          "model_module": "@jupyter-widgets/controls",
          "model_name": "DescriptionStyleModel",
          "model_module_version": "1.5.0",
          "state": {
            "_model_module": "@jupyter-widgets/controls",
            "_model_module_version": "1.5.0",
            "_model_name": "DescriptionStyleModel",
            "_view_count": null,
            "_view_module": "@jupyter-widgets/base",
            "_view_module_version": "1.2.0",
            "_view_name": "StyleView",
            "description_width": ""
          }
        },
        "7d1a9ba2be6746a8972f4329fbb45f91": {
          "model_module": "@jupyter-widgets/base",
          "model_name": "LayoutModel",
          "model_module_version": "1.2.0",
          "state": {
            "_model_module": "@jupyter-widgets/base",
            "_model_module_version": "1.2.0",
            "_model_name": "LayoutModel",
            "_view_count": null,
            "_view_module": "@jupyter-widgets/base",
            "_view_module_version": "1.2.0",
            "_view_name": "LayoutView",
            "align_content": null,
            "align_items": null,
            "align_self": null,
            "border": null,
            "bottom": null,
            "display": null,
            "flex": null,
            "flex_flow": null,
            "grid_area": null,
            "grid_auto_columns": null,
            "grid_auto_flow": null,
            "grid_auto_rows": null,
            "grid_column": null,
            "grid_gap": null,
            "grid_row": null,
            "grid_template_areas": null,
            "grid_template_columns": null,
            "grid_template_rows": null,
            "height": null,
            "justify_content": null,
            "justify_items": null,
            "left": null,
            "margin": null,
            "max_height": null,
            "max_width": null,
            "min_height": null,
            "min_width": null,
            "object_fit": null,
            "object_position": null,
            "order": null,
            "overflow": null,
            "overflow_x": null,
            "overflow_y": null,
            "padding": null,
            "right": null,
            "top": null,
            "visibility": null,
            "width": null
          }
        },
        "930b0add86d6420ca4b68b4853ae404c": {
          "model_module": "@jupyter-widgets/controls",
          "model_name": "ProgressStyleModel",
          "model_module_version": "1.5.0",
          "state": {
            "_model_module": "@jupyter-widgets/controls",
            "_model_module_version": "1.5.0",
            "_model_name": "ProgressStyleModel",
            "_view_count": null,
            "_view_module": "@jupyter-widgets/base",
            "_view_module_version": "1.2.0",
            "_view_name": "StyleView",
            "bar_color": null,
            "description_width": ""
          }
        },
        "ba4f57d9275b4d659f232fc0e45b4570": {
          "model_module": "@jupyter-widgets/base",
          "model_name": "LayoutModel",
          "model_module_version": "1.2.0",
          "state": {
            "_model_module": "@jupyter-widgets/base",
            "_model_module_version": "1.2.0",
            "_model_name": "LayoutModel",
            "_view_count": null,
            "_view_module": "@jupyter-widgets/base",
            "_view_module_version": "1.2.0",
            "_view_name": "LayoutView",
            "align_content": null,
            "align_items": null,
            "align_self": null,
            "border": null,
            "bottom": null,
            "display": null,
            "flex": null,
            "flex_flow": null,
            "grid_area": null,
            "grid_auto_columns": null,
            "grid_auto_flow": null,
            "grid_auto_rows": null,
            "grid_column": null,
            "grid_gap": null,
            "grid_row": null,
            "grid_template_areas": null,
            "grid_template_columns": null,
            "grid_template_rows": null,
            "height": null,
            "justify_content": null,
            "justify_items": null,
            "left": null,
            "margin": null,
            "max_height": null,
            "max_width": null,
            "min_height": null,
            "min_width": null,
            "object_fit": null,
            "object_position": null,
            "order": null,
            "overflow": null,
            "overflow_x": null,
            "overflow_y": null,
            "padding": null,
            "right": null,
            "top": null,
            "visibility": null,
            "width": null
          }
        },
        "88500dc849fd4248b10401ed29842e28": {
          "model_module": "@jupyter-widgets/controls",
          "model_name": "DescriptionStyleModel",
          "model_module_version": "1.5.0",
          "state": {
            "_model_module": "@jupyter-widgets/controls",
            "_model_module_version": "1.5.0",
            "_model_name": "DescriptionStyleModel",
            "_view_count": null,
            "_view_module": "@jupyter-widgets/base",
            "_view_module_version": "1.2.0",
            "_view_name": "StyleView",
            "description_width": ""
          }
        },
        "333554f3ad5b44378f01753baf92136a": {
          "model_module": "@jupyter-widgets/controls",
          "model_name": "HBoxModel",
          "model_module_version": "1.5.0",
          "state": {
            "_dom_classes": [],
            "_model_module": "@jupyter-widgets/controls",
            "_model_module_version": "1.5.0",
            "_model_name": "HBoxModel",
            "_view_count": null,
            "_view_module": "@jupyter-widgets/controls",
            "_view_module_version": "1.5.0",
            "_view_name": "HBoxView",
            "box_style": "",
            "children": [
              "IPY_MODEL_1ab575ea97a7438abcc5e761bec5cf50",
              "IPY_MODEL_fe92cf4fe911481a81e9dfb62beed5f7",
              "IPY_MODEL_3857d70a877747beba4bc5b862ae4e66"
            ],
            "layout": "IPY_MODEL_42e5e3d18635467c9e6f735cc1bfd742"
          }
        },
        "1ab575ea97a7438abcc5e761bec5cf50": {
          "model_module": "@jupyter-widgets/controls",
          "model_name": "HTMLModel",
          "model_module_version": "1.5.0",
          "state": {
            "_dom_classes": [],
            "_model_module": "@jupyter-widgets/controls",
            "_model_module_version": "1.5.0",
            "_model_name": "HTMLModel",
            "_view_count": null,
            "_view_module": "@jupyter-widgets/controls",
            "_view_module_version": "1.5.0",
            "_view_name": "HTMLView",
            "description": "",
            "description_tooltip": null,
            "layout": "IPY_MODEL_e0aa1ce754224a588b0c7bcd262dc9ff",
            "placeholder": "​",
            "style": "IPY_MODEL_53515df4d8fb42ff9a0fa51c236f48a9",
            "value": "spiece.model: 100%"
          }
        },
        "fe92cf4fe911481a81e9dfb62beed5f7": {
          "model_module": "@jupyter-widgets/controls",
          "model_name": "FloatProgressModel",
          "model_module_version": "1.5.0",
          "state": {
            "_dom_classes": [],
            "_model_module": "@jupyter-widgets/controls",
            "_model_module_version": "1.5.0",
            "_model_name": "FloatProgressModel",
            "_view_count": null,
            "_view_module": "@jupyter-widgets/controls",
            "_view_module_version": "1.5.0",
            "_view_name": "ProgressView",
            "bar_style": "success",
            "description": "",
            "description_tooltip": null,
            "layout": "IPY_MODEL_207e0ab654714bef8d29c043b33e4f85",
            "max": 1102207,
            "min": 0,
            "orientation": "horizontal",
            "style": "IPY_MODEL_554331b293d24ec6959520ba73cab54f",
            "value": 1102207
          }
        },
        "3857d70a877747beba4bc5b862ae4e66": {
          "model_module": "@jupyter-widgets/controls",
          "model_name": "HTMLModel",
          "model_module_version": "1.5.0",
          "state": {
            "_dom_classes": [],
            "_model_module": "@jupyter-widgets/controls",
            "_model_module_version": "1.5.0",
            "_model_name": "HTMLModel",
            "_view_count": null,
            "_view_module": "@jupyter-widgets/controls",
            "_view_module_version": "1.5.0",
            "_view_name": "HTMLView",
            "description": "",
            "description_tooltip": null,
            "layout": "IPY_MODEL_5f7526e0ab1a49fd8283a119b1fa0bef",
            "placeholder": "​",
            "style": "IPY_MODEL_4712e1ec6c0e473d9044cdcaca816d8d",
            "value": " 1.10M/1.10M [00:00&lt;00:00, 2.38MB/s]"
          }
        },
        "42e5e3d18635467c9e6f735cc1bfd742": {
          "model_module": "@jupyter-widgets/base",
          "model_name": "LayoutModel",
          "model_module_version": "1.2.0",
          "state": {
            "_model_module": "@jupyter-widgets/base",
            "_model_module_version": "1.2.0",
            "_model_name": "LayoutModel",
            "_view_count": null,
            "_view_module": "@jupyter-widgets/base",
            "_view_module_version": "1.2.0",
            "_view_name": "LayoutView",
            "align_content": null,
            "align_items": null,
            "align_self": null,
            "border": null,
            "bottom": null,
            "display": null,
            "flex": null,
            "flex_flow": null,
            "grid_area": null,
            "grid_auto_columns": null,
            "grid_auto_flow": null,
            "grid_auto_rows": null,
            "grid_column": null,
            "grid_gap": null,
            "grid_row": null,
            "grid_template_areas": null,
            "grid_template_columns": null,
            "grid_template_rows": null,
            "height": null,
            "justify_content": null,
            "justify_items": null,
            "left": null,
            "margin": null,
            "max_height": null,
            "max_width": null,
            "min_height": null,
            "min_width": null,
            "object_fit": null,
            "object_position": null,
            "order": null,
            "overflow": null,
            "overflow_x": null,
            "overflow_y": null,
            "padding": null,
            "right": null,
            "top": null,
            "visibility": null,
            "width": null
          }
        },
        "e0aa1ce754224a588b0c7bcd262dc9ff": {
          "model_module": "@jupyter-widgets/base",
          "model_name": "LayoutModel",
          "model_module_version": "1.2.0",
          "state": {
            "_model_module": "@jupyter-widgets/base",
            "_model_module_version": "1.2.0",
            "_model_name": "LayoutModel",
            "_view_count": null,
            "_view_module": "@jupyter-widgets/base",
            "_view_module_version": "1.2.0",
            "_view_name": "LayoutView",
            "align_content": null,
            "align_items": null,
            "align_self": null,
            "border": null,
            "bottom": null,
            "display": null,
            "flex": null,
            "flex_flow": null,
            "grid_area": null,
            "grid_auto_columns": null,
            "grid_auto_flow": null,
            "grid_auto_rows": null,
            "grid_column": null,
            "grid_gap": null,
            "grid_row": null,
            "grid_template_areas": null,
            "grid_template_columns": null,
            "grid_template_rows": null,
            "height": null,
            "justify_content": null,
            "justify_items": null,
            "left": null,
            "margin": null,
            "max_height": null,
            "max_width": null,
            "min_height": null,
            "min_width": null,
            "object_fit": null,
            "object_position": null,
            "order": null,
            "overflow": null,
            "overflow_x": null,
            "overflow_y": null,
            "padding": null,
            "right": null,
            "top": null,
            "visibility": null,
            "width": null
          }
        },
        "53515df4d8fb42ff9a0fa51c236f48a9": {
          "model_module": "@jupyter-widgets/controls",
          "model_name": "DescriptionStyleModel",
          "model_module_version": "1.5.0",
          "state": {
            "_model_module": "@jupyter-widgets/controls",
            "_model_module_version": "1.5.0",
            "_model_name": "DescriptionStyleModel",
            "_view_count": null,
            "_view_module": "@jupyter-widgets/base",
            "_view_module_version": "1.2.0",
            "_view_name": "StyleView",
            "description_width": ""
          }
        },
        "207e0ab654714bef8d29c043b33e4f85": {
          "model_module": "@jupyter-widgets/base",
          "model_name": "LayoutModel",
          "model_module_version": "1.2.0",
          "state": {
            "_model_module": "@jupyter-widgets/base",
            "_model_module_version": "1.2.0",
            "_model_name": "LayoutModel",
            "_view_count": null,
            "_view_module": "@jupyter-widgets/base",
            "_view_module_version": "1.2.0",
            "_view_name": "LayoutView",
            "align_content": null,
            "align_items": null,
            "align_self": null,
            "border": null,
            "bottom": null,
            "display": null,
            "flex": null,
            "flex_flow": null,
            "grid_area": null,
            "grid_auto_columns": null,
            "grid_auto_flow": null,
            "grid_auto_rows": null,
            "grid_column": null,
            "grid_gap": null,
            "grid_row": null,
            "grid_template_areas": null,
            "grid_template_columns": null,
            "grid_template_rows": null,
            "height": null,
            "justify_content": null,
            "justify_items": null,
            "left": null,
            "margin": null,
            "max_height": null,
            "max_width": null,
            "min_height": null,
            "min_width": null,
            "object_fit": null,
            "object_position": null,
            "order": null,
            "overflow": null,
            "overflow_x": null,
            "overflow_y": null,
            "padding": null,
            "right": null,
            "top": null,
            "visibility": null,
            "width": null
          }
        },
        "554331b293d24ec6959520ba73cab54f": {
          "model_module": "@jupyter-widgets/controls",
          "model_name": "ProgressStyleModel",
          "model_module_version": "1.5.0",
          "state": {
            "_model_module": "@jupyter-widgets/controls",
            "_model_module_version": "1.5.0",
            "_model_name": "ProgressStyleModel",
            "_view_count": null,
            "_view_module": "@jupyter-widgets/base",
            "_view_module_version": "1.2.0",
            "_view_name": "StyleView",
            "bar_color": null,
            "description_width": ""
          }
        },
        "5f7526e0ab1a49fd8283a119b1fa0bef": {
          "model_module": "@jupyter-widgets/base",
          "model_name": "LayoutModel",
          "model_module_version": "1.2.0",
          "state": {
            "_model_module": "@jupyter-widgets/base",
            "_model_module_version": "1.2.0",
            "_model_name": "LayoutModel",
            "_view_count": null,
            "_view_module": "@jupyter-widgets/base",
            "_view_module_version": "1.2.0",
            "_view_name": "LayoutView",
            "align_content": null,
            "align_items": null,
            "align_self": null,
            "border": null,
            "bottom": null,
            "display": null,
            "flex": null,
            "flex_flow": null,
            "grid_area": null,
            "grid_auto_columns": null,
            "grid_auto_flow": null,
            "grid_auto_rows": null,
            "grid_column": null,
            "grid_gap": null,
            "grid_row": null,
            "grid_template_areas": null,
            "grid_template_columns": null,
            "grid_template_rows": null,
            "height": null,
            "justify_content": null,
            "justify_items": null,
            "left": null,
            "margin": null,
            "max_height": null,
            "max_width": null,
            "min_height": null,
            "min_width": null,
            "object_fit": null,
            "object_position": null,
            "order": null,
            "overflow": null,
            "overflow_x": null,
            "overflow_y": null,
            "padding": null,
            "right": null,
            "top": null,
            "visibility": null,
            "width": null
          }
        },
        "4712e1ec6c0e473d9044cdcaca816d8d": {
          "model_module": "@jupyter-widgets/controls",
          "model_name": "DescriptionStyleModel",
          "model_module_version": "1.5.0",
          "state": {
            "_model_module": "@jupyter-widgets/controls",
            "_model_module_version": "1.5.0",
            "_model_name": "DescriptionStyleModel",
            "_view_count": null,
            "_view_module": "@jupyter-widgets/base",
            "_view_module_version": "1.2.0",
            "_view_name": "StyleView",
            "description_width": ""
          }
        },
        "82abbf925ffe4c79b17b645737618b6b": {
          "model_module": "@jupyter-widgets/controls",
          "model_name": "HBoxModel",
          "model_module_version": "1.5.0",
          "state": {
            "_dom_classes": [],
            "_model_module": "@jupyter-widgets/controls",
            "_model_module_version": "1.5.0",
            "_model_name": "HBoxModel",
            "_view_count": null,
            "_view_module": "@jupyter-widgets/controls",
            "_view_module_version": "1.5.0",
            "_view_name": "HBoxView",
            "box_style": "",
            "children": [
              "IPY_MODEL_27b9053154e944868aab56b4d5f7e7e4",
              "IPY_MODEL_76387cf54e5c4d59bd4f785554c39bc9",
              "IPY_MODEL_e1854a95b2af480fabe1c13f9f9afc53"
            ],
            "layout": "IPY_MODEL_f91ca9dec7a94a96ab2224905b5310e6"
          }
        },
        "27b9053154e944868aab56b4d5f7e7e4": {
          "model_module": "@jupyter-widgets/controls",
          "model_name": "HTMLModel",
          "model_module_version": "1.5.0",
          "state": {
            "_dom_classes": [],
            "_model_module": "@jupyter-widgets/controls",
            "_model_module_version": "1.5.0",
            "_model_name": "HTMLModel",
            "_view_count": null,
            "_view_module": "@jupyter-widgets/controls",
            "_view_module_version": "1.5.0",
            "_view_name": "HTMLView",
            "description": "",
            "description_tooltip": null,
            "layout": "IPY_MODEL_a52660f2e6314ae9810324731789747b",
            "placeholder": "​",
            "style": "IPY_MODEL_d7ae39fbac8d45a59a53706ae1accff2",
            "value": "(…)-translation/resolve/main/tokenizer.json: 100%"
          }
        },
        "76387cf54e5c4d59bd4f785554c39bc9": {
          "model_module": "@jupyter-widgets/controls",
          "model_name": "FloatProgressModel",
          "model_module_version": "1.5.0",
          "state": {
            "_dom_classes": [],
            "_model_module": "@jupyter-widgets/controls",
            "_model_module_version": "1.5.0",
            "_model_name": "FloatProgressModel",
            "_view_count": null,
            "_view_module": "@jupyter-widgets/controls",
            "_view_module_version": "1.5.0",
            "_view_name": "ProgressView",
            "bar_style": "success",
            "description": "",
            "description_tooltip": null,
            "layout": "IPY_MODEL_2b3a15f98d614815b17657e38549eede",
            "max": 3488920,
            "min": 0,
            "orientation": "horizontal",
            "style": "IPY_MODEL_92e48d7cee3c4c3f89ffe8602a3f2050",
            "value": 3488920
          }
        },
        "e1854a95b2af480fabe1c13f9f9afc53": {
          "model_module": "@jupyter-widgets/controls",
          "model_name": "HTMLModel",
          "model_module_version": "1.5.0",
          "state": {
            "_dom_classes": [],
            "_model_module": "@jupyter-widgets/controls",
            "_model_module_version": "1.5.0",
            "_model_name": "HTMLModel",
            "_view_count": null,
            "_view_module": "@jupyter-widgets/controls",
            "_view_module_version": "1.5.0",
            "_view_name": "HTMLView",
            "description": "",
            "description_tooltip": null,
            "layout": "IPY_MODEL_bdd2f3d71d8049b5b7391bbdbafd333a",
            "placeholder": "​",
            "style": "IPY_MODEL_19f154e728c8403ca5b139a269e609dd",
            "value": " 3.49M/3.49M [00:00&lt;00:00, 7.02MB/s]"
          }
        },
        "f91ca9dec7a94a96ab2224905b5310e6": {
          "model_module": "@jupyter-widgets/base",
          "model_name": "LayoutModel",
          "model_module_version": "1.2.0",
          "state": {
            "_model_module": "@jupyter-widgets/base",
            "_model_module_version": "1.2.0",
            "_model_name": "LayoutModel",
            "_view_count": null,
            "_view_module": "@jupyter-widgets/base",
            "_view_module_version": "1.2.0",
            "_view_name": "LayoutView",
            "align_content": null,
            "align_items": null,
            "align_self": null,
            "border": null,
            "bottom": null,
            "display": null,
            "flex": null,
            "flex_flow": null,
            "grid_area": null,
            "grid_auto_columns": null,
            "grid_auto_flow": null,
            "grid_auto_rows": null,
            "grid_column": null,
            "grid_gap": null,
            "grid_row": null,
            "grid_template_areas": null,
            "grid_template_columns": null,
            "grid_template_rows": null,
            "height": null,
            "justify_content": null,
            "justify_items": null,
            "left": null,
            "margin": null,
            "max_height": null,
            "max_width": null,
            "min_height": null,
            "min_width": null,
            "object_fit": null,
            "object_position": null,
            "order": null,
            "overflow": null,
            "overflow_x": null,
            "overflow_y": null,
            "padding": null,
            "right": null,
            "top": null,
            "visibility": null,
            "width": null
          }
        },
        "a52660f2e6314ae9810324731789747b": {
          "model_module": "@jupyter-widgets/base",
          "model_name": "LayoutModel",
          "model_module_version": "1.2.0",
          "state": {
            "_model_module": "@jupyter-widgets/base",
            "_model_module_version": "1.2.0",
            "_model_name": "LayoutModel",
            "_view_count": null,
            "_view_module": "@jupyter-widgets/base",
            "_view_module_version": "1.2.0",
            "_view_name": "LayoutView",
            "align_content": null,
            "align_items": null,
            "align_self": null,
            "border": null,
            "bottom": null,
            "display": null,
            "flex": null,
            "flex_flow": null,
            "grid_area": null,
            "grid_auto_columns": null,
            "grid_auto_flow": null,
            "grid_auto_rows": null,
            "grid_column": null,
            "grid_gap": null,
            "grid_row": null,
            "grid_template_areas": null,
            "grid_template_columns": null,
            "grid_template_rows": null,
            "height": null,
            "justify_content": null,
            "justify_items": null,
            "left": null,
            "margin": null,
            "max_height": null,
            "max_width": null,
            "min_height": null,
            "min_width": null,
            "object_fit": null,
            "object_position": null,
            "order": null,
            "overflow": null,
            "overflow_x": null,
            "overflow_y": null,
            "padding": null,
            "right": null,
            "top": null,
            "visibility": null,
            "width": null
          }
        },
        "d7ae39fbac8d45a59a53706ae1accff2": {
          "model_module": "@jupyter-widgets/controls",
          "model_name": "DescriptionStyleModel",
          "model_module_version": "1.5.0",
          "state": {
            "_model_module": "@jupyter-widgets/controls",
            "_model_module_version": "1.5.0",
            "_model_name": "DescriptionStyleModel",
            "_view_count": null,
            "_view_module": "@jupyter-widgets/base",
            "_view_module_version": "1.2.0",
            "_view_name": "StyleView",
            "description_width": ""
          }
        },
        "2b3a15f98d614815b17657e38549eede": {
          "model_module": "@jupyter-widgets/base",
          "model_name": "LayoutModel",
          "model_module_version": "1.2.0",
          "state": {
            "_model_module": "@jupyter-widgets/base",
            "_model_module_version": "1.2.0",
            "_model_name": "LayoutModel",
            "_view_count": null,
            "_view_module": "@jupyter-widgets/base",
            "_view_module_version": "1.2.0",
            "_view_name": "LayoutView",
            "align_content": null,
            "align_items": null,
            "align_self": null,
            "border": null,
            "bottom": null,
            "display": null,
            "flex": null,
            "flex_flow": null,
            "grid_area": null,
            "grid_auto_columns": null,
            "grid_auto_flow": null,
            "grid_auto_rows": null,
            "grid_column": null,
            "grid_gap": null,
            "grid_row": null,
            "grid_template_areas": null,
            "grid_template_columns": null,
            "grid_template_rows": null,
            "height": null,
            "justify_content": null,
            "justify_items": null,
            "left": null,
            "margin": null,
            "max_height": null,
            "max_width": null,
            "min_height": null,
            "min_width": null,
            "object_fit": null,
            "object_position": null,
            "order": null,
            "overflow": null,
            "overflow_x": null,
            "overflow_y": null,
            "padding": null,
            "right": null,
            "top": null,
            "visibility": null,
            "width": null
          }
        },
        "92e48d7cee3c4c3f89ffe8602a3f2050": {
          "model_module": "@jupyter-widgets/controls",
          "model_name": "ProgressStyleModel",
          "model_module_version": "1.5.0",
          "state": {
            "_model_module": "@jupyter-widgets/controls",
            "_model_module_version": "1.5.0",
            "_model_name": "ProgressStyleModel",
            "_view_count": null,
            "_view_module": "@jupyter-widgets/base",
            "_view_module_version": "1.2.0",
            "_view_name": "StyleView",
            "bar_color": null,
            "description_width": ""
          }
        },
        "bdd2f3d71d8049b5b7391bbdbafd333a": {
          "model_module": "@jupyter-widgets/base",
          "model_name": "LayoutModel",
          "model_module_version": "1.2.0",
          "state": {
            "_model_module": "@jupyter-widgets/base",
            "_model_module_version": "1.2.0",
            "_model_name": "LayoutModel",
            "_view_count": null,
            "_view_module": "@jupyter-widgets/base",
            "_view_module_version": "1.2.0",
            "_view_name": "LayoutView",
            "align_content": null,
            "align_items": null,
            "align_self": null,
            "border": null,
            "bottom": null,
            "display": null,
            "flex": null,
            "flex_flow": null,
            "grid_area": null,
            "grid_auto_columns": null,
            "grid_auto_flow": null,
            "grid_auto_rows": null,
            "grid_column": null,
            "grid_gap": null,
            "grid_row": null,
            "grid_template_areas": null,
            "grid_template_columns": null,
            "grid_template_rows": null,
            "height": null,
            "justify_content": null,
            "justify_items": null,
            "left": null,
            "margin": null,
            "max_height": null,
            "max_width": null,
            "min_height": null,
            "min_width": null,
            "object_fit": null,
            "object_position": null,
            "order": null,
            "overflow": null,
            "overflow_x": null,
            "overflow_y": null,
            "padding": null,
            "right": null,
            "top": null,
            "visibility": null,
            "width": null
          }
        },
        "19f154e728c8403ca5b139a269e609dd": {
          "model_module": "@jupyter-widgets/controls",
          "model_name": "DescriptionStyleModel",
          "model_module_version": "1.5.0",
          "state": {
            "_model_module": "@jupyter-widgets/controls",
            "_model_module_version": "1.5.0",
            "_model_name": "DescriptionStyleModel",
            "_view_count": null,
            "_view_module": "@jupyter-widgets/base",
            "_view_module_version": "1.2.0",
            "_view_name": "StyleView",
            "description_width": ""
          }
        },
        "6564959a258544999d7f122d44881033": {
          "model_module": "@jupyter-widgets/controls",
          "model_name": "HBoxModel",
          "model_module_version": "1.5.0",
          "state": {
            "_dom_classes": [],
            "_model_module": "@jupyter-widgets/controls",
            "_model_module_version": "1.5.0",
            "_model_name": "HBoxModel",
            "_view_count": null,
            "_view_module": "@jupyter-widgets/controls",
            "_view_module_version": "1.5.0",
            "_view_name": "HBoxView",
            "box_style": "",
            "children": [
              "IPY_MODEL_92e2c5043443468899312127ffcb2dea",
              "IPY_MODEL_ba63971194ca481d8927beb0c0d65d5d",
              "IPY_MODEL_07ab0d24e5824e5eaa70671ead1615b2"
            ],
            "layout": "IPY_MODEL_8054632277084a1c85a881bbcaf81791"
          }
        },
        "92e2c5043443468899312127ffcb2dea": {
          "model_module": "@jupyter-widgets/controls",
          "model_name": "HTMLModel",
          "model_module_version": "1.5.0",
          "state": {
            "_dom_classes": [],
            "_model_module": "@jupyter-widgets/controls",
            "_model_module_version": "1.5.0",
            "_model_name": "HTMLModel",
            "_view_count": null,
            "_view_module": "@jupyter-widgets/controls",
            "_view_module_version": "1.5.0",
            "_view_name": "HTMLView",
            "description": "",
            "description_tooltip": null,
            "layout": "IPY_MODEL_9cec8e1699e1424690565cb50f73b0d1",
            "placeholder": "​",
            "style": "IPY_MODEL_998ec4ba579a46fabe21d5f76f3b0a28",
            "value": "(…)ion/resolve/main/special_tokens_map.json: 100%"
          }
        },
        "ba63971194ca481d8927beb0c0d65d5d": {
          "model_module": "@jupyter-widgets/controls",
          "model_name": "FloatProgressModel",
          "model_module_version": "1.5.0",
          "state": {
            "_dom_classes": [],
            "_model_module": "@jupyter-widgets/controls",
            "_model_module_version": "1.5.0",
            "_model_name": "FloatProgressModel",
            "_view_count": null,
            "_view_module": "@jupyter-widgets/controls",
            "_view_module_version": "1.5.0",
            "_view_name": "ProgressView",
            "bar_style": "success",
            "description": "",
            "description_tooltip": null,
            "layout": "IPY_MODEL_6f85bd26e3fd432692c66387c9721823",
            "max": 1109,
            "min": 0,
            "orientation": "horizontal",
            "style": "IPY_MODEL_fa0ed3d8f109468eafedcfbd8aaaadb8",
            "value": 1109
          }
        },
        "07ab0d24e5824e5eaa70671ead1615b2": {
          "model_module": "@jupyter-widgets/controls",
          "model_name": "HTMLModel",
          "model_module_version": "1.5.0",
          "state": {
            "_dom_classes": [],
            "_model_module": "@jupyter-widgets/controls",
            "_model_module_version": "1.5.0",
            "_model_name": "HTMLModel",
            "_view_count": null,
            "_view_module": "@jupyter-widgets/controls",
            "_view_module_version": "1.5.0",
            "_view_name": "HTMLView",
            "description": "",
            "description_tooltip": null,
            "layout": "IPY_MODEL_38b2db365cb64940a33f10c4b484e318",
            "placeholder": "​",
            "style": "IPY_MODEL_495deca2806f4853afceb0a640d04d91",
            "value": " 1.11k/1.11k [00:00&lt;00:00, 55.1kB/s]"
          }
        },
        "8054632277084a1c85a881bbcaf81791": {
          "model_module": "@jupyter-widgets/base",
          "model_name": "LayoutModel",
          "model_module_version": "1.2.0",
          "state": {
            "_model_module": "@jupyter-widgets/base",
            "_model_module_version": "1.2.0",
            "_model_name": "LayoutModel",
            "_view_count": null,
            "_view_module": "@jupyter-widgets/base",
            "_view_module_version": "1.2.0",
            "_view_name": "LayoutView",
            "align_content": null,
            "align_items": null,
            "align_self": null,
            "border": null,
            "bottom": null,
            "display": null,
            "flex": null,
            "flex_flow": null,
            "grid_area": null,
            "grid_auto_columns": null,
            "grid_auto_flow": null,
            "grid_auto_rows": null,
            "grid_column": null,
            "grid_gap": null,
            "grid_row": null,
            "grid_template_areas": null,
            "grid_template_columns": null,
            "grid_template_rows": null,
            "height": null,
            "justify_content": null,
            "justify_items": null,
            "left": null,
            "margin": null,
            "max_height": null,
            "max_width": null,
            "min_height": null,
            "min_width": null,
            "object_fit": null,
            "object_position": null,
            "order": null,
            "overflow": null,
            "overflow_x": null,
            "overflow_y": null,
            "padding": null,
            "right": null,
            "top": null,
            "visibility": null,
            "width": null
          }
        },
        "9cec8e1699e1424690565cb50f73b0d1": {
          "model_module": "@jupyter-widgets/base",
          "model_name": "LayoutModel",
          "model_module_version": "1.2.0",
          "state": {
            "_model_module": "@jupyter-widgets/base",
            "_model_module_version": "1.2.0",
            "_model_name": "LayoutModel",
            "_view_count": null,
            "_view_module": "@jupyter-widgets/base",
            "_view_module_version": "1.2.0",
            "_view_name": "LayoutView",
            "align_content": null,
            "align_items": null,
            "align_self": null,
            "border": null,
            "bottom": null,
            "display": null,
            "flex": null,
            "flex_flow": null,
            "grid_area": null,
            "grid_auto_columns": null,
            "grid_auto_flow": null,
            "grid_auto_rows": null,
            "grid_column": null,
            "grid_gap": null,
            "grid_row": null,
            "grid_template_areas": null,
            "grid_template_columns": null,
            "grid_template_rows": null,
            "height": null,
            "justify_content": null,
            "justify_items": null,
            "left": null,
            "margin": null,
            "max_height": null,
            "max_width": null,
            "min_height": null,
            "min_width": null,
            "object_fit": null,
            "object_position": null,
            "order": null,
            "overflow": null,
            "overflow_x": null,
            "overflow_y": null,
            "padding": null,
            "right": null,
            "top": null,
            "visibility": null,
            "width": null
          }
        },
        "998ec4ba579a46fabe21d5f76f3b0a28": {
          "model_module": "@jupyter-widgets/controls",
          "model_name": "DescriptionStyleModel",
          "model_module_version": "1.5.0",
          "state": {
            "_model_module": "@jupyter-widgets/controls",
            "_model_module_version": "1.5.0",
            "_model_name": "DescriptionStyleModel",
            "_view_count": null,
            "_view_module": "@jupyter-widgets/base",
            "_view_module_version": "1.2.0",
            "_view_name": "StyleView",
            "description_width": ""
          }
        },
        "6f85bd26e3fd432692c66387c9721823": {
          "model_module": "@jupyter-widgets/base",
          "model_name": "LayoutModel",
          "model_module_version": "1.2.0",
          "state": {
            "_model_module": "@jupyter-widgets/base",
            "_model_module_version": "1.2.0",
            "_model_name": "LayoutModel",
            "_view_count": null,
            "_view_module": "@jupyter-widgets/base",
            "_view_module_version": "1.2.0",
            "_view_name": "LayoutView",
            "align_content": null,
            "align_items": null,
            "align_self": null,
            "border": null,
            "bottom": null,
            "display": null,
            "flex": null,
            "flex_flow": null,
            "grid_area": null,
            "grid_auto_columns": null,
            "grid_auto_flow": null,
            "grid_auto_rows": null,
            "grid_column": null,
            "grid_gap": null,
            "grid_row": null,
            "grid_template_areas": null,
            "grid_template_columns": null,
            "grid_template_rows": null,
            "height": null,
            "justify_content": null,
            "justify_items": null,
            "left": null,
            "margin": null,
            "max_height": null,
            "max_width": null,
            "min_height": null,
            "min_width": null,
            "object_fit": null,
            "object_position": null,
            "order": null,
            "overflow": null,
            "overflow_x": null,
            "overflow_y": null,
            "padding": null,
            "right": null,
            "top": null,
            "visibility": null,
            "width": null
          }
        },
        "fa0ed3d8f109468eafedcfbd8aaaadb8": {
          "model_module": "@jupyter-widgets/controls",
          "model_name": "ProgressStyleModel",
          "model_module_version": "1.5.0",
          "state": {
            "_model_module": "@jupyter-widgets/controls",
            "_model_module_version": "1.5.0",
            "_model_name": "ProgressStyleModel",
            "_view_count": null,
            "_view_module": "@jupyter-widgets/base",
            "_view_module_version": "1.2.0",
            "_view_name": "StyleView",
            "bar_color": null,
            "description_width": ""
          }
        },
        "38b2db365cb64940a33f10c4b484e318": {
          "model_module": "@jupyter-widgets/base",
          "model_name": "LayoutModel",
          "model_module_version": "1.2.0",
          "state": {
            "_model_module": "@jupyter-widgets/base",
            "_model_module_version": "1.2.0",
            "_model_name": "LayoutModel",
            "_view_count": null,
            "_view_module": "@jupyter-widgets/base",
            "_view_module_version": "1.2.0",
            "_view_name": "LayoutView",
            "align_content": null,
            "align_items": null,
            "align_self": null,
            "border": null,
            "bottom": null,
            "display": null,
            "flex": null,
            "flex_flow": null,
            "grid_area": null,
            "grid_auto_columns": null,
            "grid_auto_flow": null,
            "grid_auto_rows": null,
            "grid_column": null,
            "grid_gap": null,
            "grid_row": null,
            "grid_template_areas": null,
            "grid_template_columns": null,
            "grid_template_rows": null,
            "height": null,
            "justify_content": null,
            "justify_items": null,
            "left": null,
            "margin": null,
            "max_height": null,
            "max_width": null,
            "min_height": null,
            "min_width": null,
            "object_fit": null,
            "object_position": null,
            "order": null,
            "overflow": null,
            "overflow_x": null,
            "overflow_y": null,
            "padding": null,
            "right": null,
            "top": null,
            "visibility": null,
            "width": null
          }
        },
        "495deca2806f4853afceb0a640d04d91": {
          "model_module": "@jupyter-widgets/controls",
          "model_name": "DescriptionStyleModel",
          "model_module_version": "1.5.0",
          "state": {
            "_model_module": "@jupyter-widgets/controls",
            "_model_module_version": "1.5.0",
            "_model_name": "DescriptionStyleModel",
            "_view_count": null,
            "_view_module": "@jupyter-widgets/base",
            "_view_module_version": "1.2.0",
            "_view_name": "StyleView",
            "description_width": ""
          }
        },
        "17efaac0dbf64ae38b167c314a5195b3": {
          "model_module": "@jupyter-widgets/controls",
          "model_name": "HBoxModel",
          "model_module_version": "1.5.0",
          "state": {
            "_dom_classes": [],
            "_model_module": "@jupyter-widgets/controls",
            "_model_module_version": "1.5.0",
            "_model_name": "HBoxModel",
            "_view_count": null,
            "_view_module": "@jupyter-widgets/controls",
            "_view_module_version": "1.5.0",
            "_view_name": "HBoxView",
            "box_style": "",
            "children": [
              "IPY_MODEL_d12eb050ebe3483da1409cd5d284d764",
              "IPY_MODEL_565700540275409fa050cbfc5ce2b98b",
              "IPY_MODEL_a77b515ff8a44a62b0d3aba7b6f0cd2f"
            ],
            "layout": "IPY_MODEL_11097f753f7d48439925fba43c0a99f1"
          }
        },
        "d12eb050ebe3483da1409cd5d284d764": {
          "model_module": "@jupyter-widgets/controls",
          "model_name": "HTMLModel",
          "model_module_version": "1.5.0",
          "state": {
            "_dom_classes": [],
            "_model_module": "@jupyter-widgets/controls",
            "_model_module_version": "1.5.0",
            "_model_name": "HTMLModel",
            "_view_count": null,
            "_view_module": "@jupyter-widgets/controls",
            "_view_module_version": "1.5.0",
            "_view_name": "HTMLView",
            "description": "",
            "description_tooltip": null,
            "layout": "IPY_MODEL_3976243b9c7e4b6397aaebacf4b1fa95",
            "placeholder": "​",
            "style": "IPY_MODEL_d846b8fce10140759a071549823cd7f9",
            "value": "(…)it5-translation/resolve/main/config.json: 100%"
          }
        },
        "565700540275409fa050cbfc5ce2b98b": {
          "model_module": "@jupyter-widgets/controls",
          "model_name": "FloatProgressModel",
          "model_module_version": "1.5.0",
          "state": {
            "_dom_classes": [],
            "_model_module": "@jupyter-widgets/controls",
            "_model_module_version": "1.5.0",
            "_model_name": "FloatProgressModel",
            "_view_count": null,
            "_view_module": "@jupyter-widgets/controls",
            "_view_module_version": "1.5.0",
            "_view_name": "ProgressView",
            "bar_style": "success",
            "description": "",
            "description_tooltip": null,
            "layout": "IPY_MODEL_dc09226c9c474c2494f6a96b63f7a299",
            "max": 721,
            "min": 0,
            "orientation": "horizontal",
            "style": "IPY_MODEL_668bbd050c1545cd9d0f6d2596dae37a",
            "value": 721
          }
        },
        "a77b515ff8a44a62b0d3aba7b6f0cd2f": {
          "model_module": "@jupyter-widgets/controls",
          "model_name": "HTMLModel",
          "model_module_version": "1.5.0",
          "state": {
            "_dom_classes": [],
            "_model_module": "@jupyter-widgets/controls",
            "_model_module_version": "1.5.0",
            "_model_name": "HTMLModel",
            "_view_count": null,
            "_view_module": "@jupyter-widgets/controls",
            "_view_module_version": "1.5.0",
            "_view_name": "HTMLView",
            "description": "",
            "description_tooltip": null,
            "layout": "IPY_MODEL_ac7e15c966834ab4ad653294972ce955",
            "placeholder": "​",
            "style": "IPY_MODEL_fb31e3c630084f9aa0154beb76fdc1bc",
            "value": " 721/721 [00:00&lt;00:00, 47.7kB/s]"
          }
        },
        "11097f753f7d48439925fba43c0a99f1": {
          "model_module": "@jupyter-widgets/base",
          "model_name": "LayoutModel",
          "model_module_version": "1.2.0",
          "state": {
            "_model_module": "@jupyter-widgets/base",
            "_model_module_version": "1.2.0",
            "_model_name": "LayoutModel",
            "_view_count": null,
            "_view_module": "@jupyter-widgets/base",
            "_view_module_version": "1.2.0",
            "_view_name": "LayoutView",
            "align_content": null,
            "align_items": null,
            "align_self": null,
            "border": null,
            "bottom": null,
            "display": null,
            "flex": null,
            "flex_flow": null,
            "grid_area": null,
            "grid_auto_columns": null,
            "grid_auto_flow": null,
            "grid_auto_rows": null,
            "grid_column": null,
            "grid_gap": null,
            "grid_row": null,
            "grid_template_areas": null,
            "grid_template_columns": null,
            "grid_template_rows": null,
            "height": null,
            "justify_content": null,
            "justify_items": null,
            "left": null,
            "margin": null,
            "max_height": null,
            "max_width": null,
            "min_height": null,
            "min_width": null,
            "object_fit": null,
            "object_position": null,
            "order": null,
            "overflow": null,
            "overflow_x": null,
            "overflow_y": null,
            "padding": null,
            "right": null,
            "top": null,
            "visibility": null,
            "width": null
          }
        },
        "3976243b9c7e4b6397aaebacf4b1fa95": {
          "model_module": "@jupyter-widgets/base",
          "model_name": "LayoutModel",
          "model_module_version": "1.2.0",
          "state": {
            "_model_module": "@jupyter-widgets/base",
            "_model_module_version": "1.2.0",
            "_model_name": "LayoutModel",
            "_view_count": null,
            "_view_module": "@jupyter-widgets/base",
            "_view_module_version": "1.2.0",
            "_view_name": "LayoutView",
            "align_content": null,
            "align_items": null,
            "align_self": null,
            "border": null,
            "bottom": null,
            "display": null,
            "flex": null,
            "flex_flow": null,
            "grid_area": null,
            "grid_auto_columns": null,
            "grid_auto_flow": null,
            "grid_auto_rows": null,
            "grid_column": null,
            "grid_gap": null,
            "grid_row": null,
            "grid_template_areas": null,
            "grid_template_columns": null,
            "grid_template_rows": null,
            "height": null,
            "justify_content": null,
            "justify_items": null,
            "left": null,
            "margin": null,
            "max_height": null,
            "max_width": null,
            "min_height": null,
            "min_width": null,
            "object_fit": null,
            "object_position": null,
            "order": null,
            "overflow": null,
            "overflow_x": null,
            "overflow_y": null,
            "padding": null,
            "right": null,
            "top": null,
            "visibility": null,
            "width": null
          }
        },
        "d846b8fce10140759a071549823cd7f9": {
          "model_module": "@jupyter-widgets/controls",
          "model_name": "DescriptionStyleModel",
          "model_module_version": "1.5.0",
          "state": {
            "_model_module": "@jupyter-widgets/controls",
            "_model_module_version": "1.5.0",
            "_model_name": "DescriptionStyleModel",
            "_view_count": null,
            "_view_module": "@jupyter-widgets/base",
            "_view_module_version": "1.2.0",
            "_view_name": "StyleView",
            "description_width": ""
          }
        },
        "dc09226c9c474c2494f6a96b63f7a299": {
          "model_module": "@jupyter-widgets/base",
          "model_name": "LayoutModel",
          "model_module_version": "1.2.0",
          "state": {
            "_model_module": "@jupyter-widgets/base",
            "_model_module_version": "1.2.0",
            "_model_name": "LayoutModel",
            "_view_count": null,
            "_view_module": "@jupyter-widgets/base",
            "_view_module_version": "1.2.0",
            "_view_name": "LayoutView",
            "align_content": null,
            "align_items": null,
            "align_self": null,
            "border": null,
            "bottom": null,
            "display": null,
            "flex": null,
            "flex_flow": null,
            "grid_area": null,
            "grid_auto_columns": null,
            "grid_auto_flow": null,
            "grid_auto_rows": null,
            "grid_column": null,
            "grid_gap": null,
            "grid_row": null,
            "grid_template_areas": null,
            "grid_template_columns": null,
            "grid_template_rows": null,
            "height": null,
            "justify_content": null,
            "justify_items": null,
            "left": null,
            "margin": null,
            "max_height": null,
            "max_width": null,
            "min_height": null,
            "min_width": null,
            "object_fit": null,
            "object_position": null,
            "order": null,
            "overflow": null,
            "overflow_x": null,
            "overflow_y": null,
            "padding": null,
            "right": null,
            "top": null,
            "visibility": null,
            "width": null
          }
        },
        "668bbd050c1545cd9d0f6d2596dae37a": {
          "model_module": "@jupyter-widgets/controls",
          "model_name": "ProgressStyleModel",
          "model_module_version": "1.5.0",
          "state": {
            "_model_module": "@jupyter-widgets/controls",
            "_model_module_version": "1.5.0",
            "_model_name": "ProgressStyleModel",
            "_view_count": null,
            "_view_module": "@jupyter-widgets/base",
            "_view_module_version": "1.2.0",
            "_view_name": "StyleView",
            "bar_color": null,
            "description_width": ""
          }
        },
        "ac7e15c966834ab4ad653294972ce955": {
          "model_module": "@jupyter-widgets/base",
          "model_name": "LayoutModel",
          "model_module_version": "1.2.0",
          "state": {
            "_model_module": "@jupyter-widgets/base",
            "_model_module_version": "1.2.0",
            "_model_name": "LayoutModel",
            "_view_count": null,
            "_view_module": "@jupyter-widgets/base",
            "_view_module_version": "1.2.0",
            "_view_name": "LayoutView",
            "align_content": null,
            "align_items": null,
            "align_self": null,
            "border": null,
            "bottom": null,
            "display": null,
            "flex": null,
            "flex_flow": null,
            "grid_area": null,
            "grid_auto_columns": null,
            "grid_auto_flow": null,
            "grid_auto_rows": null,
            "grid_column": null,
            "grid_gap": null,
            "grid_row": null,
            "grid_template_areas": null,
            "grid_template_columns": null,
            "grid_template_rows": null,
            "height": null,
            "justify_content": null,
            "justify_items": null,
            "left": null,
            "margin": null,
            "max_height": null,
            "max_width": null,
            "min_height": null,
            "min_width": null,
            "object_fit": null,
            "object_position": null,
            "order": null,
            "overflow": null,
            "overflow_x": null,
            "overflow_y": null,
            "padding": null,
            "right": null,
            "top": null,
            "visibility": null,
            "width": null
          }
        },
        "fb31e3c630084f9aa0154beb76fdc1bc": {
          "model_module": "@jupyter-widgets/controls",
          "model_name": "DescriptionStyleModel",
          "model_module_version": "1.5.0",
          "state": {
            "_model_module": "@jupyter-widgets/controls",
            "_model_module_version": "1.5.0",
            "_model_name": "DescriptionStyleModel",
            "_view_count": null,
            "_view_module": "@jupyter-widgets/base",
            "_view_module_version": "1.2.0",
            "_view_name": "StyleView",
            "description_width": ""
          }
        },
        "c78ebc1ec97c4df88376938af3b8627d": {
          "model_module": "@jupyter-widgets/controls",
          "model_name": "HBoxModel",
          "model_module_version": "1.5.0",
          "state": {
            "_dom_classes": [],
            "_model_module": "@jupyter-widgets/controls",
            "_model_module_version": "1.5.0",
            "_model_name": "HBoxModel",
            "_view_count": null,
            "_view_module": "@jupyter-widgets/controls",
            "_view_module_version": "1.5.0",
            "_view_name": "HBoxView",
            "box_style": "",
            "children": [
              "IPY_MODEL_a8f77024ba6b4276afda73fbd0f4dd0b",
              "IPY_MODEL_d495b99f30e8495b958b8f26a49a9787",
              "IPY_MODEL_b12aa37b08d7414d95f957b4afc8f2d6"
            ],
            "layout": "IPY_MODEL_5332602cce564c2ab34939e1d9b00d12"
          }
        },
        "a8f77024ba6b4276afda73fbd0f4dd0b": {
          "model_module": "@jupyter-widgets/controls",
          "model_name": "HTMLModel",
          "model_module_version": "1.5.0",
          "state": {
            "_dom_classes": [],
            "_model_module": "@jupyter-widgets/controls",
            "_model_module_version": "1.5.0",
            "_model_name": "HTMLModel",
            "_view_count": null,
            "_view_module": "@jupyter-widgets/controls",
            "_view_module_version": "1.5.0",
            "_view_name": "HTMLView",
            "description": "",
            "description_tooltip": null,
            "layout": "IPY_MODEL_6c486c36651046aa95963d31dd4ce74f",
            "placeholder": "​",
            "style": "IPY_MODEL_0d74b83b63354617b721c226cfcea6e9",
            "value": "pytorch_model.bin: 100%"
          }
        },
        "d495b99f30e8495b958b8f26a49a9787": {
          "model_module": "@jupyter-widgets/controls",
          "model_name": "FloatProgressModel",
          "model_module_version": "1.5.0",
          "state": {
            "_dom_classes": [],
            "_model_module": "@jupyter-widgets/controls",
            "_model_module_version": "1.5.0",
            "_model_name": "FloatProgressModel",
            "_view_count": null,
            "_view_module": "@jupyter-widgets/controls",
            "_view_module_version": "1.5.0",
            "_view_name": "ProgressView",
            "bar_style": "success",
            "description": "",
            "description_tooltip": null,
            "layout": "IPY_MODEL_81deb93636d94c808a8a0cc324d4c5e3",
            "max": 1100503117,
            "min": 0,
            "orientation": "horizontal",
            "style": "IPY_MODEL_d187776f1aa54bf0bec7866ff208ce1b",
            "value": 1100503117
          }
        },
        "b12aa37b08d7414d95f957b4afc8f2d6": {
          "model_module": "@jupyter-widgets/controls",
          "model_name": "HTMLModel",
          "model_module_version": "1.5.0",
          "state": {
            "_dom_classes": [],
            "_model_module": "@jupyter-widgets/controls",
            "_model_module_version": "1.5.0",
            "_model_name": "HTMLModel",
            "_view_count": null,
            "_view_module": "@jupyter-widgets/controls",
            "_view_module_version": "1.5.0",
            "_view_name": "HTMLView",
            "description": "",
            "description_tooltip": null,
            "layout": "IPY_MODEL_022ff7f6e20f4dfdb7720a82b5adc841",
            "placeholder": "​",
            "style": "IPY_MODEL_d0080b7aaa1349e79e297795356b8460",
            "value": " 1.10G/1.10G [00:40&lt;00:00, 33.1MB/s]"
          }
        },
        "5332602cce564c2ab34939e1d9b00d12": {
          "model_module": "@jupyter-widgets/base",
          "model_name": "LayoutModel",
          "model_module_version": "1.2.0",
          "state": {
            "_model_module": "@jupyter-widgets/base",
            "_model_module_version": "1.2.0",
            "_model_name": "LayoutModel",
            "_view_count": null,
            "_view_module": "@jupyter-widgets/base",
            "_view_module_version": "1.2.0",
            "_view_name": "LayoutView",
            "align_content": null,
            "align_items": null,
            "align_self": null,
            "border": null,
            "bottom": null,
            "display": null,
            "flex": null,
            "flex_flow": null,
            "grid_area": null,
            "grid_auto_columns": null,
            "grid_auto_flow": null,
            "grid_auto_rows": null,
            "grid_column": null,
            "grid_gap": null,
            "grid_row": null,
            "grid_template_areas": null,
            "grid_template_columns": null,
            "grid_template_rows": null,
            "height": null,
            "justify_content": null,
            "justify_items": null,
            "left": null,
            "margin": null,
            "max_height": null,
            "max_width": null,
            "min_height": null,
            "min_width": null,
            "object_fit": null,
            "object_position": null,
            "order": null,
            "overflow": null,
            "overflow_x": null,
            "overflow_y": null,
            "padding": null,
            "right": null,
            "top": null,
            "visibility": null,
            "width": null
          }
        },
        "6c486c36651046aa95963d31dd4ce74f": {
          "model_module": "@jupyter-widgets/base",
          "model_name": "LayoutModel",
          "model_module_version": "1.2.0",
          "state": {
            "_model_module": "@jupyter-widgets/base",
            "_model_module_version": "1.2.0",
            "_model_name": "LayoutModel",
            "_view_count": null,
            "_view_module": "@jupyter-widgets/base",
            "_view_module_version": "1.2.0",
            "_view_name": "LayoutView",
            "align_content": null,
            "align_items": null,
            "align_self": null,
            "border": null,
            "bottom": null,
            "display": null,
            "flex": null,
            "flex_flow": null,
            "grid_area": null,
            "grid_auto_columns": null,
            "grid_auto_flow": null,
            "grid_auto_rows": null,
            "grid_column": null,
            "grid_gap": null,
            "grid_row": null,
            "grid_template_areas": null,
            "grid_template_columns": null,
            "grid_template_rows": null,
            "height": null,
            "justify_content": null,
            "justify_items": null,
            "left": null,
            "margin": null,
            "max_height": null,
            "max_width": null,
            "min_height": null,
            "min_width": null,
            "object_fit": null,
            "object_position": null,
            "order": null,
            "overflow": null,
            "overflow_x": null,
            "overflow_y": null,
            "padding": null,
            "right": null,
            "top": null,
            "visibility": null,
            "width": null
          }
        },
        "0d74b83b63354617b721c226cfcea6e9": {
          "model_module": "@jupyter-widgets/controls",
          "model_name": "DescriptionStyleModel",
          "model_module_version": "1.5.0",
          "state": {
            "_model_module": "@jupyter-widgets/controls",
            "_model_module_version": "1.5.0",
            "_model_name": "DescriptionStyleModel",
            "_view_count": null,
            "_view_module": "@jupyter-widgets/base",
            "_view_module_version": "1.2.0",
            "_view_name": "StyleView",
            "description_width": ""
          }
        },
        "81deb93636d94c808a8a0cc324d4c5e3": {
          "model_module": "@jupyter-widgets/base",
          "model_name": "LayoutModel",
          "model_module_version": "1.2.0",
          "state": {
            "_model_module": "@jupyter-widgets/base",
            "_model_module_version": "1.2.0",
            "_model_name": "LayoutModel",
            "_view_count": null,
            "_view_module": "@jupyter-widgets/base",
            "_view_module_version": "1.2.0",
            "_view_name": "LayoutView",
            "align_content": null,
            "align_items": null,
            "align_self": null,
            "border": null,
            "bottom": null,
            "display": null,
            "flex": null,
            "flex_flow": null,
            "grid_area": null,
            "grid_auto_columns": null,
            "grid_auto_flow": null,
            "grid_auto_rows": null,
            "grid_column": null,
            "grid_gap": null,
            "grid_row": null,
            "grid_template_areas": null,
            "grid_template_columns": null,
            "grid_template_rows": null,
            "height": null,
            "justify_content": null,
            "justify_items": null,
            "left": null,
            "margin": null,
            "max_height": null,
            "max_width": null,
            "min_height": null,
            "min_width": null,
            "object_fit": null,
            "object_position": null,
            "order": null,
            "overflow": null,
            "overflow_x": null,
            "overflow_y": null,
            "padding": null,
            "right": null,
            "top": null,
            "visibility": null,
            "width": null
          }
        },
        "d187776f1aa54bf0bec7866ff208ce1b": {
          "model_module": "@jupyter-widgets/controls",
          "model_name": "ProgressStyleModel",
          "model_module_version": "1.5.0",
          "state": {
            "_model_module": "@jupyter-widgets/controls",
            "_model_module_version": "1.5.0",
            "_model_name": "ProgressStyleModel",
            "_view_count": null,
            "_view_module": "@jupyter-widgets/base",
            "_view_module_version": "1.2.0",
            "_view_name": "StyleView",
            "bar_color": null,
            "description_width": ""
          }
        },
        "022ff7f6e20f4dfdb7720a82b5adc841": {
          "model_module": "@jupyter-widgets/base",
          "model_name": "LayoutModel",
          "model_module_version": "1.2.0",
          "state": {
            "_model_module": "@jupyter-widgets/base",
            "_model_module_version": "1.2.0",
            "_model_name": "LayoutModel",
            "_view_count": null,
            "_view_module": "@jupyter-widgets/base",
            "_view_module_version": "1.2.0",
            "_view_name": "LayoutView",
            "align_content": null,
            "align_items": null,
            "align_self": null,
            "border": null,
            "bottom": null,
            "display": null,
            "flex": null,
            "flex_flow": null,
            "grid_area": null,
            "grid_auto_columns": null,
            "grid_auto_flow": null,
            "grid_auto_rows": null,
            "grid_column": null,
            "grid_gap": null,
            "grid_row": null,
            "grid_template_areas": null,
            "grid_template_columns": null,
            "grid_template_rows": null,
            "height": null,
            "justify_content": null,
            "justify_items": null,
            "left": null,
            "margin": null,
            "max_height": null,
            "max_width": null,
            "min_height": null,
            "min_width": null,
            "object_fit": null,
            "object_position": null,
            "order": null,
            "overflow": null,
            "overflow_x": null,
            "overflow_y": null,
            "padding": null,
            "right": null,
            "top": null,
            "visibility": null,
            "width": null
          }
        },
        "d0080b7aaa1349e79e297795356b8460": {
          "model_module": "@jupyter-widgets/controls",
          "model_name": "DescriptionStyleModel",
          "model_module_version": "1.5.0",
          "state": {
            "_model_module": "@jupyter-widgets/controls",
            "_model_module_version": "1.5.0",
            "_model_name": "DescriptionStyleModel",
            "_view_count": null,
            "_view_module": "@jupyter-widgets/base",
            "_view_module_version": "1.2.0",
            "_view_name": "StyleView",
            "description_width": ""
          }
        }
      }
    }
  },
  "cells": [
    {
      "cell_type": "code",
      "source": [
        "from google.colab import drive\n",
        "drive.mount('/content/drive')"
      ],
      "metadata": {
        "id": "ogc_JhtpfrrU",
        "colab": {
          "base_uri": "https://localhost:8080/"
        },
        "outputId": "6c30979e-1560-435d-8b09-e893cc4543d5"
      },
      "execution_count": null,
      "outputs": [
        {
          "output_type": "stream",
          "name": "stdout",
          "text": [
            "Mounted at /content/drive\n"
          ]
        }
      ]
    },
    {
      "cell_type": "markdown",
      "source": [
        "#Clone Transformers and Prepare env"
      ],
      "metadata": {
        "id": "vj5lKd7AGqAC"
      }
    },
    {
      "cell_type": "code",
      "source": [
        "%cd /content"
      ],
      "metadata": {
        "id": "vwI2u5QOP_bT",
        "colab": {
          "base_uri": "https://localhost:8080/"
        },
        "outputId": "a83e1b66-b4ba-45e2-d3d4-939d62206b8f"
      },
      "execution_count": null,
      "outputs": [
        {
          "output_type": "stream",
          "name": "stdout",
          "text": [
            "/content/transformers\n"
          ]
        }
      ]
    },
    {
      "cell_type": "code",
      "source": [
        "!git clone --single-branch --branch fast_tokenizers_BARTpho_PhoBERT_BERTweet https://github.com/datquocnguyen/transformers.git\n"
      ],
      "metadata": {
        "id": "6aqvAvamPtrd",
        "colab": {
          "base_uri": "https://localhost:8080/"
        },
        "outputId": "de43f5c2-bd5e-4e1e-dcd2-663e05c2dc00"
      },
      "execution_count": null,
      "outputs": [
        {
          "output_type": "stream",
          "name": "stdout",
          "text": [
            "Cloning into 'transformers'...\n",
            "remote: Enumerating objects: 138580, done.\u001b[K\n",
            "remote: Counting objects: 100% (47/47), done.\u001b[K\n",
            "remote: Compressing objects: 100% (46/46), done.\u001b[K\n",
            "remote: Total 138580 (delta 1), reused 47 (delta 1), pack-reused 138533\u001b[K\n",
            "Receiving objects: 100% (138580/138580), 145.05 MiB | 12.88 MiB/s, done.\n",
            "Resolving deltas: 100% (104082/104082), done.\n"
          ]
        }
      ]
    },
    {
      "cell_type": "code",
      "source": [
        "%cd /content/transformers\n",
        "!pip3 install --upgrade ."
      ],
      "metadata": {
        "id": "8Hqk6sxsXVeK",
        "colab": {
          "base_uri": "https://localhost:8080/"
        },
        "outputId": "1c71f96a-bbc3-4780-b18e-8b1f3253719f"
      },
      "execution_count": null,
      "outputs": [
        {
          "output_type": "stream",
          "name": "stdout",
          "text": [
            "/content/transformers\n",
            "Processing /content/transformers\n",
            "  Installing build dependencies ... \u001b[?25l\u001b[?25hdone\n",
            "  Getting requirements to build wheel ... \u001b[?25l\u001b[?25hdone\n",
            "  Preparing metadata (pyproject.toml) ... \u001b[?25l\u001b[?25hdone\n",
            "Requirement already satisfied: filelock in /usr/local/lib/python3.10/dist-packages (from transformers==4.32.0.dev0) (3.12.4)\n",
            "Collecting huggingface-hub<1.0,>=0.14.1 (from transformers==4.32.0.dev0)\n",
            "  Downloading huggingface_hub-0.18.0-py3-none-any.whl (301 kB)\n",
            "\u001b[2K     \u001b[90m━━━━━━━━━━━━━━━━━━━━━━━━━━━━━━━━━━━━━━━━\u001b[0m \u001b[32m302.0/302.0 kB\u001b[0m \u001b[31m5.4 MB/s\u001b[0m eta \u001b[36m0:00:00\u001b[0m\n",
            "\u001b[?25hRequirement already satisfied: numpy>=1.17 in /usr/local/lib/python3.10/dist-packages (from transformers==4.32.0.dev0) (1.23.5)\n",
            "Requirement already satisfied: packaging>=20.0 in /usr/local/lib/python3.10/dist-packages (from transformers==4.32.0.dev0) (23.2)\n",
            "Requirement already satisfied: pyyaml>=5.1 in /usr/local/lib/python3.10/dist-packages (from transformers==4.32.0.dev0) (6.0.1)\n",
            "Requirement already satisfied: regex!=2019.12.17 in /usr/local/lib/python3.10/dist-packages (from transformers==4.32.0.dev0) (2023.6.3)\n",
            "Requirement already satisfied: requests in /usr/local/lib/python3.10/dist-packages (from transformers==4.32.0.dev0) (2.31.0)\n",
            "Collecting tokenizers!=0.11.3,<0.14,>=0.11.1 (from transformers==4.32.0.dev0)\n",
            "  Downloading tokenizers-0.13.3-cp310-cp310-manylinux_2_17_x86_64.manylinux2014_x86_64.whl (7.8 MB)\n",
            "\u001b[2K     \u001b[90m━━━━━━━━━━━━━━━━━━━━━━━━━━━━━━━━━━━━━━━━\u001b[0m \u001b[32m7.8/7.8 MB\u001b[0m \u001b[31m32.3 MB/s\u001b[0m eta \u001b[36m0:00:00\u001b[0m\n",
            "\u001b[?25hCollecting safetensors>=0.3.1 (from transformers==4.32.0.dev0)\n",
            "  Downloading safetensors-0.4.0-cp310-cp310-manylinux_2_17_x86_64.manylinux2014_x86_64.whl (1.3 MB)\n",
            "\u001b[2K     \u001b[90m━━━━━━━━━━━━━━━━━━━━━━━━━━━━━━━━━━━━━━━━\u001b[0m \u001b[32m1.3/1.3 MB\u001b[0m \u001b[31m52.0 MB/s\u001b[0m eta \u001b[36m0:00:00\u001b[0m\n",
            "\u001b[?25hRequirement already satisfied: tqdm>=4.27 in /usr/local/lib/python3.10/dist-packages (from transformers==4.32.0.dev0) (4.66.1)\n",
            "Requirement already satisfied: fsspec>=2023.5.0 in /usr/local/lib/python3.10/dist-packages (from huggingface-hub<1.0,>=0.14.1->transformers==4.32.0.dev0) (2023.6.0)\n",
            "Requirement already satisfied: typing-extensions>=3.7.4.3 in /usr/local/lib/python3.10/dist-packages (from huggingface-hub<1.0,>=0.14.1->transformers==4.32.0.dev0) (4.5.0)\n",
            "Requirement already satisfied: charset-normalizer<4,>=2 in /usr/local/lib/python3.10/dist-packages (from requests->transformers==4.32.0.dev0) (3.3.0)\n",
            "Requirement already satisfied: idna<4,>=2.5 in /usr/local/lib/python3.10/dist-packages (from requests->transformers==4.32.0.dev0) (3.4)\n",
            "Requirement already satisfied: urllib3<3,>=1.21.1 in /usr/local/lib/python3.10/dist-packages (from requests->transformers==4.32.0.dev0) (2.0.6)\n",
            "Requirement already satisfied: certifi>=2017.4.17 in /usr/local/lib/python3.10/dist-packages (from requests->transformers==4.32.0.dev0) (2023.7.22)\n",
            "Building wheels for collected packages: transformers\n",
            "  Building wheel for transformers (pyproject.toml) ... \u001b[?25l\u001b[?25hdone\n",
            "  Created wheel for transformers: filename=transformers-4.32.0.dev0-py3-none-any.whl size=7416891 sha256=d71e5889462c10e05fbe6b981da412e69c1cd10a06905e78eb991bda9001d629\n",
            "  Stored in directory: /tmp/pip-ephem-wheel-cache-bj6g1woy/wheels/7c/35/80/e946b22a081210c6642e607ed65b2a5b9a4d9259695ee2caf5\n",
            "Successfully built transformers\n",
            "Installing collected packages: tokenizers, safetensors, huggingface-hub, transformers\n",
            "Successfully installed huggingface-hub-0.18.0 safetensors-0.4.0 tokenizers-0.13.3 transformers-4.32.0.dev0\n"
          ]
        }
      ]
    },
    {
      "cell_type": "code",
      "source": [
        "!pip install py_vncorenlp"
      ],
      "metadata": {
        "id": "amt8CvdSFE5Y",
        "colab": {
          "base_uri": "https://localhost:8080/"
        },
        "outputId": "ba1bf262-ac89-4038-fbf8-0a9c3b1fd314"
      },
      "execution_count": null,
      "outputs": [
        {
          "output_type": "stream",
          "name": "stdout",
          "text": [
            "Collecting py_vncorenlp\n",
            "  Downloading py_vncorenlp-0.1.4.tar.gz (3.9 kB)\n",
            "  Preparing metadata (setup.py) ... \u001b[?25l\u001b[?25hdone\n",
            "Collecting pyjnius (from py_vncorenlp)\n",
            "  Downloading pyjnius-1.6.0-cp310-cp310-manylinux_2_17_x86_64.manylinux2014_x86_64.whl (1.5 MB)\n",
            "\u001b[2K     \u001b[90m━━━━━━━━━━━━━━━━━━━━━━━━━━━━━━━━━━━━━━━━\u001b[0m \u001b[32m1.5/1.5 MB\u001b[0m \u001b[31m12.8 MB/s\u001b[0m eta \u001b[36m0:00:00\u001b[0m\n",
            "\u001b[?25hBuilding wheels for collected packages: py_vncorenlp\n",
            "  Building wheel for py_vncorenlp (setup.py) ... \u001b[?25l\u001b[?25hdone\n",
            "  Created wheel for py_vncorenlp: filename=py_vncorenlp-0.1.4-py3-none-any.whl size=4306 sha256=a501479726c11bb95d3163dd57003f20b971280ce0c85686b94ecbd23660ed00\n",
            "  Stored in directory: /root/.cache/pip/wheels/d5/d9/bf/62632cdb007c702a0664091e92a0bb1f18a2fcecbe962d9827\n",
            "Successfully built py_vncorenlp\n",
            "Installing collected packages: pyjnius, py_vncorenlp\n",
            "Successfully installed py_vncorenlp-0.1.4 pyjnius-1.6.0\n"
          ]
        }
      ]
    },
    {
      "cell_type": "code",
      "source": [
        "!pip install datasets"
      ],
      "metadata": {
        "id": "I6NcaRwCma8n",
        "colab": {
          "base_uri": "https://localhost:8080/"
        },
        "outputId": "b90e77ea-4aae-4cf4-9558-a7790aff6fe2"
      },
      "execution_count": null,
      "outputs": [
        {
          "output_type": "stream",
          "name": "stdout",
          "text": [
            "Collecting datasets\n",
            "  Downloading datasets-2.14.5-py3-none-any.whl (519 kB)\n",
            "\u001b[2K     \u001b[90m━━━━━━━━━━━━━━━━━━━━━━━━━━━━━━━━━━━━━━━━\u001b[0m \u001b[32m519.6/519.6 kB\u001b[0m \u001b[31m7.9 MB/s\u001b[0m eta \u001b[36m0:00:00\u001b[0m\n",
            "\u001b[?25hRequirement already satisfied: numpy>=1.17 in /usr/local/lib/python3.10/dist-packages (from datasets) (1.23.5)\n",
            "Requirement already satisfied: pyarrow>=8.0.0 in /usr/local/lib/python3.10/dist-packages (from datasets) (9.0.0)\n",
            "Collecting dill<0.3.8,>=0.3.0 (from datasets)\n",
            "  Downloading dill-0.3.7-py3-none-any.whl (115 kB)\n",
            "\u001b[2K     \u001b[90m━━━━━━━━━━━━━━━━━━━━━━━━━━━━━━━━━━━━━━━━\u001b[0m \u001b[32m115.3/115.3 kB\u001b[0m \u001b[31m8.9 MB/s\u001b[0m eta \u001b[36m0:00:00\u001b[0m\n",
            "\u001b[?25hRequirement already satisfied: pandas in /usr/local/lib/python3.10/dist-packages (from datasets) (1.5.3)\n",
            "Requirement already satisfied: requests>=2.19.0 in /usr/local/lib/python3.10/dist-packages (from datasets) (2.31.0)\n",
            "Requirement already satisfied: tqdm>=4.62.1 in /usr/local/lib/python3.10/dist-packages (from datasets) (4.66.1)\n",
            "Collecting xxhash (from datasets)\n",
            "  Downloading xxhash-3.4.1-cp310-cp310-manylinux_2_17_x86_64.manylinux2014_x86_64.whl (194 kB)\n",
            "\u001b[2K     \u001b[90m━━━━━━━━━━━━━━━━━━━━━━━━━━━━━━━━━━━━━━━━\u001b[0m \u001b[32m194.1/194.1 kB\u001b[0m \u001b[31m9.8 MB/s\u001b[0m eta \u001b[36m0:00:00\u001b[0m\n",
            "\u001b[?25hCollecting multiprocess (from datasets)\n",
            "  Downloading multiprocess-0.70.15-py310-none-any.whl (134 kB)\n",
            "\u001b[2K     \u001b[90m━━━━━━━━━━━━━━━━━━━━━━━━━━━━━━━━━━━━━━━━\u001b[0m \u001b[32m134.8/134.8 kB\u001b[0m \u001b[31m6.7 MB/s\u001b[0m eta \u001b[36m0:00:00\u001b[0m\n",
            "\u001b[?25hRequirement already satisfied: fsspec[http]<2023.9.0,>=2023.1.0 in /usr/local/lib/python3.10/dist-packages (from datasets) (2023.6.0)\n",
            "Requirement already satisfied: aiohttp in /usr/local/lib/python3.10/dist-packages (from datasets) (3.8.6)\n",
            "Requirement already satisfied: huggingface-hub<1.0.0,>=0.14.0 in /usr/local/lib/python3.10/dist-packages (from datasets) (0.18.0)\n",
            "Requirement already satisfied: packaging in /usr/local/lib/python3.10/dist-packages (from datasets) (23.2)\n",
            "Requirement already satisfied: pyyaml>=5.1 in /usr/local/lib/python3.10/dist-packages (from datasets) (6.0.1)\n",
            "Requirement already satisfied: attrs>=17.3.0 in /usr/local/lib/python3.10/dist-packages (from aiohttp->datasets) (23.1.0)\n",
            "Requirement already satisfied: charset-normalizer<4.0,>=2.0 in /usr/local/lib/python3.10/dist-packages (from aiohttp->datasets) (3.3.0)\n",
            "Requirement already satisfied: multidict<7.0,>=4.5 in /usr/local/lib/python3.10/dist-packages (from aiohttp->datasets) (6.0.4)\n",
            "Requirement already satisfied: async-timeout<5.0,>=4.0.0a3 in /usr/local/lib/python3.10/dist-packages (from aiohttp->datasets) (4.0.3)\n",
            "Requirement already satisfied: yarl<2.0,>=1.0 in /usr/local/lib/python3.10/dist-packages (from aiohttp->datasets) (1.9.2)\n",
            "Requirement already satisfied: frozenlist>=1.1.1 in /usr/local/lib/python3.10/dist-packages (from aiohttp->datasets) (1.4.0)\n",
            "Requirement already satisfied: aiosignal>=1.1.2 in /usr/local/lib/python3.10/dist-packages (from aiohttp->datasets) (1.3.1)\n",
            "Requirement already satisfied: filelock in /usr/local/lib/python3.10/dist-packages (from huggingface-hub<1.0.0,>=0.14.0->datasets) (3.12.4)\n",
            "Requirement already satisfied: typing-extensions>=3.7.4.3 in /usr/local/lib/python3.10/dist-packages (from huggingface-hub<1.0.0,>=0.14.0->datasets) (4.5.0)\n",
            "Requirement already satisfied: idna<4,>=2.5 in /usr/local/lib/python3.10/dist-packages (from requests>=2.19.0->datasets) (3.4)\n",
            "Requirement already satisfied: urllib3<3,>=1.21.1 in /usr/local/lib/python3.10/dist-packages (from requests>=2.19.0->datasets) (2.0.6)\n",
            "Requirement already satisfied: certifi>=2017.4.17 in /usr/local/lib/python3.10/dist-packages (from requests>=2.19.0->datasets) (2023.7.22)\n",
            "Requirement already satisfied: python-dateutil>=2.8.1 in /usr/local/lib/python3.10/dist-packages (from pandas->datasets) (2.8.2)\n",
            "Requirement already satisfied: pytz>=2020.1 in /usr/local/lib/python3.10/dist-packages (from pandas->datasets) (2023.3.post1)\n",
            "Requirement already satisfied: six>=1.5 in /usr/local/lib/python3.10/dist-packages (from python-dateutil>=2.8.1->pandas->datasets) (1.16.0)\n",
            "Installing collected packages: xxhash, dill, multiprocess, datasets\n",
            "Successfully installed datasets-2.14.5 dill-0.3.7 multiprocess-0.70.15 xxhash-3.4.1\n"
          ]
        }
      ]
    },
    {
      "cell_type": "markdown",
      "source": [
        "#Preprocessing Data"
      ],
      "metadata": {
        "id": "pKt5HbC0QeZd"
      }
    },
    {
      "cell_type": "code",
      "source": [
        "def xoa_trung_lap(s):\n",
        "  loop = \"\"\n",
        "  le = len(s)\n",
        "  i=1\n",
        "  while i <= len(s)-1:\n",
        "    if s[i]==s[i-1] and (i==len(s)-1 or s[i+1]==' '):\n",
        "      j=i\n",
        "      loop=s[i]\n",
        "      while s[j-1] == s[j]:\n",
        "        loop+=s[j]\n",
        "        j-=1\n",
        "      s = s.replace(loop, s[i])\n",
        "    i+=1\n",
        "  return s\n",
        "\n",
        "print(xoa_trung_lap(\"thầy rất dễ thươngggggggggg đó là điều mà em không bao giờ nói  dạy học mà như dân chợ búaaaaa\"))"
      ],
      "metadata": {
        "colab": {
          "base_uri": "https://localhost:8080/"
        },
        "id": "f13Ef31XU623",
        "outputId": "8779304f-2039-4de3-adb3-ef11053fef69"
      },
      "execution_count": null,
      "outputs": [
        {
          "output_type": "stream",
          "name": "stdout",
          "text": [
            "thầy rất dễ thương đó là điều mà em không bao giờ nói  dạy học mà như dân chợ búa\n"
          ]
        }
      ]
    },
    {
      "cell_type": "code",
      "source": [
        "#load dictionary guid\n",
        "import pandas as pd\n",
        "dic_guid = pd.read_csv('/content/drive/MyDrive/dict_guid/DicGuid.csv')\n",
        "dic_guid"
      ],
      "metadata": {
        "colab": {
          "base_uri": "https://localhost:8080/",
          "height": 423
        },
        "id": "9-FZDY_i4zcg",
        "outputId": "6da637f7-c8a7-4daa-9c74-7bbe255119ae"
      },
      "execution_count": null,
      "outputs": [
        {
          "output_type": "execute_result",
          "data": {
            "text/plain": [
              "               word       target\n",
              "0              good          tốt\n",
              "1                zn          cảm\n",
              "2                ez           dễ\n",
              "3               zời          vời\n",
              "4              full         toàn\n",
              "..              ...          ...\n",
              "101           \"yêu\"  không thích\n",
              "102          \"được\"           bị\n",
              "103           \"sớm\"         muộn\n",
              "104            quas          quá\n",
              "105  nothing to say  bình thường\n",
              "\n",
              "[106 rows x 2 columns]"
            ],
            "text/html": [
              "\n",
              "  <div id=\"df-d0dcd4a8-fca9-4eb4-803c-66d43814d2de\">\n",
              "    <div class=\"colab-df-container\">\n",
              "      <div>\n",
              "<style scoped>\n",
              "    .dataframe tbody tr th:only-of-type {\n",
              "        vertical-align: middle;\n",
              "    }\n",
              "\n",
              "    .dataframe tbody tr th {\n",
              "        vertical-align: top;\n",
              "    }\n",
              "\n",
              "    .dataframe thead th {\n",
              "        text-align: right;\n",
              "    }\n",
              "</style>\n",
              "<table border=\"1\" class=\"dataframe\">\n",
              "  <thead>\n",
              "    <tr style=\"text-align: right;\">\n",
              "      <th></th>\n",
              "      <th>word</th>\n",
              "      <th>target</th>\n",
              "    </tr>\n",
              "  </thead>\n",
              "  <tbody>\n",
              "    <tr>\n",
              "      <th>0</th>\n",
              "      <td>good</td>\n",
              "      <td>tốt</td>\n",
              "    </tr>\n",
              "    <tr>\n",
              "      <th>1</th>\n",
              "      <td>zn</td>\n",
              "      <td>cảm</td>\n",
              "    </tr>\n",
              "    <tr>\n",
              "      <th>2</th>\n",
              "      <td>ez</td>\n",
              "      <td>dễ</td>\n",
              "    </tr>\n",
              "    <tr>\n",
              "      <th>3</th>\n",
              "      <td>zời</td>\n",
              "      <td>vời</td>\n",
              "    </tr>\n",
              "    <tr>\n",
              "      <th>4</th>\n",
              "      <td>full</td>\n",
              "      <td>toàn</td>\n",
              "    </tr>\n",
              "    <tr>\n",
              "      <th>...</th>\n",
              "      <td>...</td>\n",
              "      <td>...</td>\n",
              "    </tr>\n",
              "    <tr>\n",
              "      <th>101</th>\n",
              "      <td>\"yêu\"</td>\n",
              "      <td>không thích</td>\n",
              "    </tr>\n",
              "    <tr>\n",
              "      <th>102</th>\n",
              "      <td>\"được\"</td>\n",
              "      <td>bị</td>\n",
              "    </tr>\n",
              "    <tr>\n",
              "      <th>103</th>\n",
              "      <td>\"sớm\"</td>\n",
              "      <td>muộn</td>\n",
              "    </tr>\n",
              "    <tr>\n",
              "      <th>104</th>\n",
              "      <td>quas</td>\n",
              "      <td>quá</td>\n",
              "    </tr>\n",
              "    <tr>\n",
              "      <th>105</th>\n",
              "      <td>nothing to say</td>\n",
              "      <td>bình thường</td>\n",
              "    </tr>\n",
              "  </tbody>\n",
              "</table>\n",
              "<p>106 rows × 2 columns</p>\n",
              "</div>\n",
              "      <button class=\"colab-df-convert\" onclick=\"convertToInteractive('df-d0dcd4a8-fca9-4eb4-803c-66d43814d2de')\"\n",
              "              title=\"Convert this dataframe to an interactive table.\"\n",
              "              style=\"display:none;\">\n",
              "        \n",
              "  <svg xmlns=\"http://www.w3.org/2000/svg\" height=\"24px\"viewBox=\"0 0 24 24\"\n",
              "       width=\"24px\">\n",
              "    <path d=\"M0 0h24v24H0V0z\" fill=\"none\"/>\n",
              "    <path d=\"M18.56 5.44l.94 2.06.94-2.06 2.06-.94-2.06-.94-.94-2.06-.94 2.06-2.06.94zm-11 1L8.5 8.5l.94-2.06 2.06-.94-2.06-.94L8.5 2.5l-.94 2.06-2.06.94zm10 10l.94 2.06.94-2.06 2.06-.94-2.06-.94-.94-2.06-.94 2.06-2.06.94z\"/><path d=\"M17.41 7.96l-1.37-1.37c-.4-.4-.92-.59-1.43-.59-.52 0-1.04.2-1.43.59L10.3 9.45l-7.72 7.72c-.78.78-.78 2.05 0 2.83L4 21.41c.39.39.9.59 1.41.59.51 0 1.02-.2 1.41-.59l7.78-7.78 2.81-2.81c.8-.78.8-2.07 0-2.86zM5.41 20L4 18.59l7.72-7.72 1.47 1.35L5.41 20z\"/>\n",
              "  </svg>\n",
              "      </button>\n",
              "      \n",
              "  <style>\n",
              "    .colab-df-container {\n",
              "      display:flex;\n",
              "      flex-wrap:wrap;\n",
              "      gap: 12px;\n",
              "    }\n",
              "\n",
              "    .colab-df-convert {\n",
              "      background-color: #E8F0FE;\n",
              "      border: none;\n",
              "      border-radius: 50%;\n",
              "      cursor: pointer;\n",
              "      display: none;\n",
              "      fill: #1967D2;\n",
              "      height: 32px;\n",
              "      padding: 0 0 0 0;\n",
              "      width: 32px;\n",
              "    }\n",
              "\n",
              "    .colab-df-convert:hover {\n",
              "      background-color: #E2EBFA;\n",
              "      box-shadow: 0px 1px 2px rgba(60, 64, 67, 0.3), 0px 1px 3px 1px rgba(60, 64, 67, 0.15);\n",
              "      fill: #174EA6;\n",
              "    }\n",
              "\n",
              "    [theme=dark] .colab-df-convert {\n",
              "      background-color: #3B4455;\n",
              "      fill: #D2E3FC;\n",
              "    }\n",
              "\n",
              "    [theme=dark] .colab-df-convert:hover {\n",
              "      background-color: #434B5C;\n",
              "      box-shadow: 0px 1px 3px 1px rgba(0, 0, 0, 0.15);\n",
              "      filter: drop-shadow(0px 1px 2px rgba(0, 0, 0, 0.3));\n",
              "      fill: #FFFFFF;\n",
              "    }\n",
              "  </style>\n",
              "\n",
              "      <script>\n",
              "        const buttonEl =\n",
              "          document.querySelector('#df-d0dcd4a8-fca9-4eb4-803c-66d43814d2de button.colab-df-convert');\n",
              "        buttonEl.style.display =\n",
              "          google.colab.kernel.accessAllowed ? 'block' : 'none';\n",
              "\n",
              "        async function convertToInteractive(key) {\n",
              "          const element = document.querySelector('#df-d0dcd4a8-fca9-4eb4-803c-66d43814d2de');\n",
              "          const dataTable =\n",
              "            await google.colab.kernel.invokeFunction('convertToInteractive',\n",
              "                                                     [key], {});\n",
              "          if (!dataTable) return;\n",
              "\n",
              "          const docLinkHtml = 'Like what you see? Visit the ' +\n",
              "            '<a target=\"_blank\" href=https://colab.research.google.com/notebooks/data_table.ipynb>data table notebook</a>'\n",
              "            + ' to learn more about interactive tables.';\n",
              "          element.innerHTML = '';\n",
              "          dataTable['output_type'] = 'display_data';\n",
              "          await google.colab.output.renderOutput(dataTable, element);\n",
              "          const docLink = document.createElement('div');\n",
              "          docLink.innerHTML = docLinkHtml;\n",
              "          element.appendChild(docLink);\n",
              "        }\n",
              "      </script>\n",
              "    </div>\n",
              "  </div>\n",
              "  "
            ]
          },
          "metadata": {},
          "execution_count": 41
        }
      ]
    },
    {
      "cell_type": "code",
      "source": [
        "def map2good(sen, dic):\n",
        "  for i in dic.values:\n",
        "    sen=sen.replace(i[0], i[1])\n",
        "  return sen"
      ],
      "metadata": {
        "id": "ScFLCGxN_Ijf"
      },
      "execution_count": null,
      "outputs": []
    },
    {
      "cell_type": "code",
      "source": [
        "sentence = 'được học nhiều good nghiệm từ thầy wzjwz163 .'\n",
        "def scanerr(sentence):\n",
        "  sentence=sentence.lower()\n",
        "  #chuyen tu tieng viet, teencode, tu kho hieu sang dang de hon\n",
        "  #sentence = map2good(sentence, dic_guid)\n",
        "\n",
        "  #xoa ky tu nghi la spam\n",
        "  tem=''\n",
        "  i=0\n",
        "  while sentence[i] != '.' and sentence[i] != '!' and i<len(sentence)-1:\n",
        "\n",
        "    if sentence[i] == 'w' or sentence[i] == 'z' or sentence[i]=='f' or sentence[i]=='j':\n",
        "      tem = sentence[i]\n",
        "      j=i\n",
        "      while sentence[j-1] != ' ':\n",
        "        tem = sentence[j-1]+tem\n",
        "        j-=1\n",
        "      while sentence[j+1] != ' ' and j+1 < len(sentence)-1:\n",
        "        tem = tem + sentence[j+1]\n",
        "        j+=1\n",
        "    i+=1\n",
        "\n",
        "  sentence=sentence.replace(tem, '')\n",
        "  #xoa ky tu dac biet\n",
        "  sentence=sentence.replace(\":3\", '')\n",
        "  sentence=sentence.replace(\"<3\", '')\n",
        "  sentence=sentence.replace(\":>\", '')\n",
        "  sentence=sentence.replace(\":v\", '')\n",
        "  sentence=sentence.replace(\":)\", '')\n",
        "  sentence=sentence.replace(\"=)\", '')\n",
        "  sentence=sentence.replace(\")\", '')\n",
        "  sentence=sentence.replace(\":(\", '')\n",
        "  sentence=sentence.replace(\"(\", '')\n",
        "  sentence=sentence.replace(\"!\", '')\n",
        "  sentence=sentence.replace(\"?\", '')\n",
        "  sentence=sentence.replace(\",\", '')\n",
        "  sentence=sentence.replace(\"'\", '')\n",
        "  sentence=sentence.replace('\"', '')\n",
        "  sentence=sentence.replace('^', '')\n",
        "  sentence=sentence.replace('_', '')\n",
        "\n",
        "  sentence = xoa_trung_lap(sentence)\n",
        "\n",
        "  return sentence"
      ],
      "metadata": {
        "id": "gC9OfCSyQd9I"
      },
      "execution_count": null,
      "outputs": []
    },
    {
      "cell_type": "code",
      "source": [
        "scanerr(sentence)"
      ],
      "metadata": {
        "colab": {
          "base_uri": "https://localhost:8080/",
          "height": 36
        },
        "id": "izZZReRIBPvD",
        "outputId": "8c387198-d1e1-4974-b291-60923648aa90"
      },
      "execution_count": null,
      "outputs": [
        {
          "output_type": "execute_result",
          "data": {
            "text/plain": [
              "'được học nhiều tốt nghiệm từ thầy wzjwz163 .'"
            ],
            "application/vnd.google.colaboratory.intrinsic+json": {
              "type": "string"
            }
          },
          "metadata": {},
          "execution_count": 55
        }
      ]
    },
    {
      "cell_type": "code",
      "source": [
        "#word_segment\n",
        "import py_vncorenlp\n",
        "\n",
        "py_vncorenlp.download_model(save_dir='/content')\n",
        "\n",
        "rdrsegmenter = py_vncorenlp.VnCoreNLP(annotators=[\"wseg\"], save_dir='/content')\n",
        "\n",
        "text = \"Ông Nguyễn Khắc Chúc  đang làm việc tại Đại học Quốc gia Hà Nội. Bà Lan, vợ ông Chúc, cũng làm việc tại đây.\"\n",
        "\n",
        "output = rdrsegmenter.word_segment(text)\n",
        "\n",
        "print(output)"
      ],
      "metadata": {
        "id": "_rPuiac9FGyK",
        "colab": {
          "base_uri": "https://localhost:8080/"
        },
        "outputId": "6b32b45f-4282-4d3e-a4e8-fd61c6691811"
      },
      "execution_count": null,
      "outputs": [
        {
          "output_type": "stream",
          "name": "stdout",
          "text": [
            "['Ông Nguyễn_Khắc_Chúc đang làm_việc tại Đại_học Quốc_gia Hà_Nội .', 'Bà Lan , vợ ông Chúc , cũng làm_việc tại đây .']\n"
          ]
        }
      ]
    },
    {
      "cell_type": "markdown",
      "source": [
        "#TXT2CSV"
      ],
      "metadata": {
        "id": "QdrSIUv4dzn_"
      }
    },
    {
      "cell_type": "code",
      "source": [
        "import pandas as pd"
      ],
      "metadata": {
        "id": "swioV1Ot1i0O"
      },
      "execution_count": null,
      "outputs": []
    },
    {
      "cell_type": "code",
      "source": [
        "df = pd.read_csv(\"/content/drive/MyDrive/train.txt\", sep=\"\\t\", header=None)\n",
        "df[:5]"
      ],
      "metadata": {
        "colab": {
          "base_uri": "https://localhost:8080/",
          "height": 206
        },
        "id": "IDatlX9zKfvn",
        "outputId": "635b3115-98c3-4d5b-a860-b6e5dfed3b85"
      },
      "execution_count": null,
      "outputs": [
        {
          "output_type": "execute_result",
          "data": {
            "text/plain": [
              "          0                                                  1\n",
              "0  positive  tài liệu được bổ sung nhiều và đầy đủ trên moo...\n",
              "1  positive  giảng viên phải nên cho ví dụ cụ thể những phầ...\n",
              "2  positive                         bài tập đa dạng , cụ thể .\n",
              "3  positive               slide up đầy đủ trước mỗi buổi học .\n",
              "4  negative      nội dung giảng dạy quá nhàm chán , khô khan ."
            ],
            "text/html": [
              "\n",
              "  <div id=\"df-468ab423-c603-4773-9b7a-32764e631a40\">\n",
              "    <div class=\"colab-df-container\">\n",
              "      <div>\n",
              "<style scoped>\n",
              "    .dataframe tbody tr th:only-of-type {\n",
              "        vertical-align: middle;\n",
              "    }\n",
              "\n",
              "    .dataframe tbody tr th {\n",
              "        vertical-align: top;\n",
              "    }\n",
              "\n",
              "    .dataframe thead th {\n",
              "        text-align: right;\n",
              "    }\n",
              "</style>\n",
              "<table border=\"1\" class=\"dataframe\">\n",
              "  <thead>\n",
              "    <tr style=\"text-align: right;\">\n",
              "      <th></th>\n",
              "      <th>0</th>\n",
              "      <th>1</th>\n",
              "    </tr>\n",
              "  </thead>\n",
              "  <tbody>\n",
              "    <tr>\n",
              "      <th>0</th>\n",
              "      <td>positive</td>\n",
              "      <td>tài liệu được bổ sung nhiều và đầy đủ trên moo...</td>\n",
              "    </tr>\n",
              "    <tr>\n",
              "      <th>1</th>\n",
              "      <td>positive</td>\n",
              "      <td>giảng viên phải nên cho ví dụ cụ thể những phầ...</td>\n",
              "    </tr>\n",
              "    <tr>\n",
              "      <th>2</th>\n",
              "      <td>positive</td>\n",
              "      <td>bài tập đa dạng , cụ thể .</td>\n",
              "    </tr>\n",
              "    <tr>\n",
              "      <th>3</th>\n",
              "      <td>positive</td>\n",
              "      <td>slide up đầy đủ trước mỗi buổi học .</td>\n",
              "    </tr>\n",
              "    <tr>\n",
              "      <th>4</th>\n",
              "      <td>negative</td>\n",
              "      <td>nội dung giảng dạy quá nhàm chán , khô khan .</td>\n",
              "    </tr>\n",
              "  </tbody>\n",
              "</table>\n",
              "</div>\n",
              "      <button class=\"colab-df-convert\" onclick=\"convertToInteractive('df-468ab423-c603-4773-9b7a-32764e631a40')\"\n",
              "              title=\"Convert this dataframe to an interactive table.\"\n",
              "              style=\"display:none;\">\n",
              "        \n",
              "  <svg xmlns=\"http://www.w3.org/2000/svg\" height=\"24px\"viewBox=\"0 0 24 24\"\n",
              "       width=\"24px\">\n",
              "    <path d=\"M0 0h24v24H0V0z\" fill=\"none\"/>\n",
              "    <path d=\"M18.56 5.44l.94 2.06.94-2.06 2.06-.94-2.06-.94-.94-2.06-.94 2.06-2.06.94zm-11 1L8.5 8.5l.94-2.06 2.06-.94-2.06-.94L8.5 2.5l-.94 2.06-2.06.94zm10 10l.94 2.06.94-2.06 2.06-.94-2.06-.94-.94-2.06-.94 2.06-2.06.94z\"/><path d=\"M17.41 7.96l-1.37-1.37c-.4-.4-.92-.59-1.43-.59-.52 0-1.04.2-1.43.59L10.3 9.45l-7.72 7.72c-.78.78-.78 2.05 0 2.83L4 21.41c.39.39.9.59 1.41.59.51 0 1.02-.2 1.41-.59l7.78-7.78 2.81-2.81c.8-.78.8-2.07 0-2.86zM5.41 20L4 18.59l7.72-7.72 1.47 1.35L5.41 20z\"/>\n",
              "  </svg>\n",
              "      </button>\n",
              "      \n",
              "  <style>\n",
              "    .colab-df-container {\n",
              "      display:flex;\n",
              "      flex-wrap:wrap;\n",
              "      gap: 12px;\n",
              "    }\n",
              "\n",
              "    .colab-df-convert {\n",
              "      background-color: #E8F0FE;\n",
              "      border: none;\n",
              "      border-radius: 50%;\n",
              "      cursor: pointer;\n",
              "      display: none;\n",
              "      fill: #1967D2;\n",
              "      height: 32px;\n",
              "      padding: 0 0 0 0;\n",
              "      width: 32px;\n",
              "    }\n",
              "\n",
              "    .colab-df-convert:hover {\n",
              "      background-color: #E2EBFA;\n",
              "      box-shadow: 0px 1px 2px rgba(60, 64, 67, 0.3), 0px 1px 3px 1px rgba(60, 64, 67, 0.15);\n",
              "      fill: #174EA6;\n",
              "    }\n",
              "\n",
              "    [theme=dark] .colab-df-convert {\n",
              "      background-color: #3B4455;\n",
              "      fill: #D2E3FC;\n",
              "    }\n",
              "\n",
              "    [theme=dark] .colab-df-convert:hover {\n",
              "      background-color: #434B5C;\n",
              "      box-shadow: 0px 1px 3px 1px rgba(0, 0, 0, 0.15);\n",
              "      filter: drop-shadow(0px 1px 2px rgba(0, 0, 0, 0.3));\n",
              "      fill: #FFFFFF;\n",
              "    }\n",
              "  </style>\n",
              "\n",
              "      <script>\n",
              "        const buttonEl =\n",
              "          document.querySelector('#df-468ab423-c603-4773-9b7a-32764e631a40 button.colab-df-convert');\n",
              "        buttonEl.style.display =\n",
              "          google.colab.kernel.accessAllowed ? 'block' : 'none';\n",
              "\n",
              "        async function convertToInteractive(key) {\n",
              "          const element = document.querySelector('#df-468ab423-c603-4773-9b7a-32764e631a40');\n",
              "          const dataTable =\n",
              "            await google.colab.kernel.invokeFunction('convertToInteractive',\n",
              "                                                     [key], {});\n",
              "          if (!dataTable) return;\n",
              "\n",
              "          const docLinkHtml = 'Like what you see? Visit the ' +\n",
              "            '<a target=\"_blank\" href=https://colab.research.google.com/notebooks/data_table.ipynb>data table notebook</a>'\n",
              "            + ' to learn more about interactive tables.';\n",
              "          element.innerHTML = '';\n",
              "          dataTable['output_type'] = 'display_data';\n",
              "          await google.colab.output.renderOutput(dataTable, element);\n",
              "          const docLink = document.createElement('div');\n",
              "          docLink.innerHTML = docLinkHtml;\n",
              "          element.appendChild(docLink);\n",
              "        }\n",
              "      </script>\n",
              "    </div>\n",
              "  </div>\n",
              "  "
            ]
          },
          "metadata": {},
          "execution_count": 59
        }
      ]
    },
    {
      "cell_type": "code",
      "source": [
        "train_df=df[:4000].dropna(axis=0)"
      ],
      "metadata": {
        "id": "cfSRDEu_JSGL"
      },
      "execution_count": null,
      "outputs": []
    },
    {
      "cell_type": "code",
      "source": [
        "len(train_df)"
      ],
      "metadata": {
        "colab": {
          "base_uri": "https://localhost:8080/"
        },
        "id": "Pi0qk6ltJhc4",
        "outputId": "2c2c0463-4b00-4d25-8399-3d331de3cc0d"
      },
      "execution_count": null,
      "outputs": [
        {
          "output_type": "execute_result",
          "data": {
            "text/plain": [
              "3997"
            ]
          },
          "metadata": {},
          "execution_count": 61
        }
      ]
    },
    {
      "cell_type": "code",
      "source": [
        "test_df = df[4000:].dropna(axis=0)"
      ],
      "metadata": {
        "id": "tr-h3X5fJhap"
      },
      "execution_count": null,
      "outputs": []
    },
    {
      "cell_type": "code",
      "source": [
        "len(test_df)"
      ],
      "metadata": {
        "colab": {
          "base_uri": "https://localhost:8080/"
        },
        "id": "ngCgP3QKJyXY",
        "outputId": "78c9330f-4a03-4a39-b70b-41cbe7fff940"
      },
      "execution_count": null,
      "outputs": [
        {
          "output_type": "execute_result",
          "data": {
            "text/plain": [
              "1000"
            ]
          },
          "metadata": {},
          "execution_count": 63
        }
      ]
    },
    {
      "cell_type": "code",
      "source": [
        "def process_data2(row):\n",
        "  sentence = scanerr(row[1])\n",
        "  sen_af = rdrsegmenter.word_segment(sentence)\n",
        "  label = 0\n",
        "  if row[0] == 'negative':\n",
        "    label = 0\n",
        "  elif row[0] == 'positive':\n",
        "    label = 1\n",
        "  else:\n",
        "    label = 2\n",
        "  return sen_af[0], label"
      ],
      "metadata": {
        "id": "rNm8GxC2duaL"
      },
      "execution_count": null,
      "outputs": []
    },
    {
      "cell_type": "code",
      "source": [
        "arr1 = []\n",
        "arr2 = []\n",
        "for i in train_df.values:\n",
        "  x, y = process_data2(i)\n",
        "  arr1.append(x)\n",
        "  arr2.append(y)"
      ],
      "metadata": {
        "id": "GzfRW6yQ25BO"
      },
      "execution_count": null,
      "outputs": []
    },
    {
      "cell_type": "code",
      "source": [
        "d={'text':arr1, 'label': arr2}\n",
        "df_csv = pd.DataFrame(data=d)"
      ],
      "metadata": {
        "id": "1r0f8uY-_6uR"
      },
      "execution_count": null,
      "outputs": []
    },
    {
      "cell_type": "code",
      "source": [
        "df_csv[:5]"
      ],
      "metadata": {
        "id": "5hR4qhP1QluZ",
        "outputId": "1edd9e97-c203-45d6-86e0-e34b0cb364c3",
        "colab": {
          "base_uri": "https://localhost:8080/",
          "height": 206
        }
      },
      "execution_count": null,
      "outputs": [
        {
          "output_type": "execute_result",
          "data": {
            "text/plain": [
              "                                                text  label\n",
              "0  tài_liệu được bổ_sung nhiều và đầy_đủ trên moo...      1\n",
              "1  giảng_viên phải nên cho ví_dụ cụ_thể những phầ...      1\n",
              "2                           bài_tập đa_dạng cụ_thể .      1\n",
              "3               slide up đầy_đủ trước mỗi buổi học .      1\n",
              "4        nội_dung giảng_dạy quá nhàm_chán khô_khan .      0"
            ],
            "text/html": [
              "\n",
              "  <div id=\"df-409e0117-3000-48c4-a5bc-a1a7de8f1a2c\">\n",
              "    <div class=\"colab-df-container\">\n",
              "      <div>\n",
              "<style scoped>\n",
              "    .dataframe tbody tr th:only-of-type {\n",
              "        vertical-align: middle;\n",
              "    }\n",
              "\n",
              "    .dataframe tbody tr th {\n",
              "        vertical-align: top;\n",
              "    }\n",
              "\n",
              "    .dataframe thead th {\n",
              "        text-align: right;\n",
              "    }\n",
              "</style>\n",
              "<table border=\"1\" class=\"dataframe\">\n",
              "  <thead>\n",
              "    <tr style=\"text-align: right;\">\n",
              "      <th></th>\n",
              "      <th>text</th>\n",
              "      <th>label</th>\n",
              "    </tr>\n",
              "  </thead>\n",
              "  <tbody>\n",
              "    <tr>\n",
              "      <th>0</th>\n",
              "      <td>tài_liệu được bổ_sung nhiều và đầy_đủ trên moo...</td>\n",
              "      <td>1</td>\n",
              "    </tr>\n",
              "    <tr>\n",
              "      <th>1</th>\n",
              "      <td>giảng_viên phải nên cho ví_dụ cụ_thể những phầ...</td>\n",
              "      <td>1</td>\n",
              "    </tr>\n",
              "    <tr>\n",
              "      <th>2</th>\n",
              "      <td>bài_tập đa_dạng cụ_thể .</td>\n",
              "      <td>1</td>\n",
              "    </tr>\n",
              "    <tr>\n",
              "      <th>3</th>\n",
              "      <td>slide up đầy_đủ trước mỗi buổi học .</td>\n",
              "      <td>1</td>\n",
              "    </tr>\n",
              "    <tr>\n",
              "      <th>4</th>\n",
              "      <td>nội_dung giảng_dạy quá nhàm_chán khô_khan .</td>\n",
              "      <td>0</td>\n",
              "    </tr>\n",
              "  </tbody>\n",
              "</table>\n",
              "</div>\n",
              "      <button class=\"colab-df-convert\" onclick=\"convertToInteractive('df-409e0117-3000-48c4-a5bc-a1a7de8f1a2c')\"\n",
              "              title=\"Convert this dataframe to an interactive table.\"\n",
              "              style=\"display:none;\">\n",
              "        \n",
              "  <svg xmlns=\"http://www.w3.org/2000/svg\" height=\"24px\"viewBox=\"0 0 24 24\"\n",
              "       width=\"24px\">\n",
              "    <path d=\"M0 0h24v24H0V0z\" fill=\"none\"/>\n",
              "    <path d=\"M18.56 5.44l.94 2.06.94-2.06 2.06-.94-2.06-.94-.94-2.06-.94 2.06-2.06.94zm-11 1L8.5 8.5l.94-2.06 2.06-.94-2.06-.94L8.5 2.5l-.94 2.06-2.06.94zm10 10l.94 2.06.94-2.06 2.06-.94-2.06-.94-.94-2.06-.94 2.06-2.06.94z\"/><path d=\"M17.41 7.96l-1.37-1.37c-.4-.4-.92-.59-1.43-.59-.52 0-1.04.2-1.43.59L10.3 9.45l-7.72 7.72c-.78.78-.78 2.05 0 2.83L4 21.41c.39.39.9.59 1.41.59.51 0 1.02-.2 1.41-.59l7.78-7.78 2.81-2.81c.8-.78.8-2.07 0-2.86zM5.41 20L4 18.59l7.72-7.72 1.47 1.35L5.41 20z\"/>\n",
              "  </svg>\n",
              "      </button>\n",
              "      \n",
              "  <style>\n",
              "    .colab-df-container {\n",
              "      display:flex;\n",
              "      flex-wrap:wrap;\n",
              "      gap: 12px;\n",
              "    }\n",
              "\n",
              "    .colab-df-convert {\n",
              "      background-color: #E8F0FE;\n",
              "      border: none;\n",
              "      border-radius: 50%;\n",
              "      cursor: pointer;\n",
              "      display: none;\n",
              "      fill: #1967D2;\n",
              "      height: 32px;\n",
              "      padding: 0 0 0 0;\n",
              "      width: 32px;\n",
              "    }\n",
              "\n",
              "    .colab-df-convert:hover {\n",
              "      background-color: #E2EBFA;\n",
              "      box-shadow: 0px 1px 2px rgba(60, 64, 67, 0.3), 0px 1px 3px 1px rgba(60, 64, 67, 0.15);\n",
              "      fill: #174EA6;\n",
              "    }\n",
              "\n",
              "    [theme=dark] .colab-df-convert {\n",
              "      background-color: #3B4455;\n",
              "      fill: #D2E3FC;\n",
              "    }\n",
              "\n",
              "    [theme=dark] .colab-df-convert:hover {\n",
              "      background-color: #434B5C;\n",
              "      box-shadow: 0px 1px 3px 1px rgba(0, 0, 0, 0.15);\n",
              "      filter: drop-shadow(0px 1px 2px rgba(0, 0, 0, 0.3));\n",
              "      fill: #FFFFFF;\n",
              "    }\n",
              "  </style>\n",
              "\n",
              "      <script>\n",
              "        const buttonEl =\n",
              "          document.querySelector('#df-409e0117-3000-48c4-a5bc-a1a7de8f1a2c button.colab-df-convert');\n",
              "        buttonEl.style.display =\n",
              "          google.colab.kernel.accessAllowed ? 'block' : 'none';\n",
              "\n",
              "        async function convertToInteractive(key) {\n",
              "          const element = document.querySelector('#df-409e0117-3000-48c4-a5bc-a1a7de8f1a2c');\n",
              "          const dataTable =\n",
              "            await google.colab.kernel.invokeFunction('convertToInteractive',\n",
              "                                                     [key], {});\n",
              "          if (!dataTable) return;\n",
              "\n",
              "          const docLinkHtml = 'Like what you see? Visit the ' +\n",
              "            '<a target=\"_blank\" href=https://colab.research.google.com/notebooks/data_table.ipynb>data table notebook</a>'\n",
              "            + ' to learn more about interactive tables.';\n",
              "          element.innerHTML = '';\n",
              "          dataTable['output_type'] = 'display_data';\n",
              "          await google.colab.output.renderOutput(dataTable, element);\n",
              "          const docLink = document.createElement('div');\n",
              "          docLink.innerHTML = docLinkHtml;\n",
              "          element.appendChild(docLink);\n",
              "        }\n",
              "      </script>\n",
              "    </div>\n",
              "  </div>\n",
              "  "
            ]
          },
          "metadata": {},
          "execution_count": 67
        }
      ]
    },
    {
      "cell_type": "code",
      "source": [
        "arr3 = []\n",
        "arr4 = []\n",
        "for i in test_df.values:\n",
        "  x, y = process_data2(i)\n",
        "  arr3.append(x)\n",
        "  arr4.append(y)"
      ],
      "metadata": {
        "id": "qnR3xGoyOBCP"
      },
      "execution_count": null,
      "outputs": []
    },
    {
      "cell_type": "code",
      "source": [
        "dt={'text':arr3, 'label': arr4}\n",
        "dft_csv = pd.DataFrame(data=dt)"
      ],
      "metadata": {
        "id": "dMNNE1xfPKkh"
      },
      "execution_count": null,
      "outputs": []
    },
    {
      "cell_type": "code",
      "source": [
        "dft_csv[:5]"
      ],
      "metadata": {
        "colab": {
          "base_uri": "https://localhost:8080/",
          "height": 206
        },
        "id": "foBPgjxuPTe2",
        "outputId": "642e6d81-3ef4-4713-92fc-45e93f6f8c13"
      },
      "execution_count": null,
      "outputs": [
        {
          "output_type": "execute_result",
          "data": {
            "text/plain": [
              "                                                text  label\n",
              "0  ngoài_ra cũng cần có tiết học để sinh_viên đượ...      0\n",
              "1  nên để sinh_viên tự tìm_hiểu lý_thuyết trước ở...      0\n",
              "2                                         nhập_tâm .      1\n",
              "3  nên cho bài_tập hàng tuần sát với nội_dung bài...      1\n",
              "4                               cô giải ít bài_tập .      1"
            ],
            "text/html": [
              "\n",
              "  <div id=\"df-0d587624-9fd0-4241-ac13-dee93ab22cc3\">\n",
              "    <div class=\"colab-df-container\">\n",
              "      <div>\n",
              "<style scoped>\n",
              "    .dataframe tbody tr th:only-of-type {\n",
              "        vertical-align: middle;\n",
              "    }\n",
              "\n",
              "    .dataframe tbody tr th {\n",
              "        vertical-align: top;\n",
              "    }\n",
              "\n",
              "    .dataframe thead th {\n",
              "        text-align: right;\n",
              "    }\n",
              "</style>\n",
              "<table border=\"1\" class=\"dataframe\">\n",
              "  <thead>\n",
              "    <tr style=\"text-align: right;\">\n",
              "      <th></th>\n",
              "      <th>text</th>\n",
              "      <th>label</th>\n",
              "    </tr>\n",
              "  </thead>\n",
              "  <tbody>\n",
              "    <tr>\n",
              "      <th>0</th>\n",
              "      <td>ngoài_ra cũng cần có tiết học để sinh_viên đượ...</td>\n",
              "      <td>0</td>\n",
              "    </tr>\n",
              "    <tr>\n",
              "      <th>1</th>\n",
              "      <td>nên để sinh_viên tự tìm_hiểu lý_thuyết trước ở...</td>\n",
              "      <td>0</td>\n",
              "    </tr>\n",
              "    <tr>\n",
              "      <th>2</th>\n",
              "      <td>nhập_tâm .</td>\n",
              "      <td>1</td>\n",
              "    </tr>\n",
              "    <tr>\n",
              "      <th>3</th>\n",
              "      <td>nên cho bài_tập hàng tuần sát với nội_dung bài...</td>\n",
              "      <td>1</td>\n",
              "    </tr>\n",
              "    <tr>\n",
              "      <th>4</th>\n",
              "      <td>cô giải ít bài_tập .</td>\n",
              "      <td>1</td>\n",
              "    </tr>\n",
              "  </tbody>\n",
              "</table>\n",
              "</div>\n",
              "      <button class=\"colab-df-convert\" onclick=\"convertToInteractive('df-0d587624-9fd0-4241-ac13-dee93ab22cc3')\"\n",
              "              title=\"Convert this dataframe to an interactive table.\"\n",
              "              style=\"display:none;\">\n",
              "        \n",
              "  <svg xmlns=\"http://www.w3.org/2000/svg\" height=\"24px\"viewBox=\"0 0 24 24\"\n",
              "       width=\"24px\">\n",
              "    <path d=\"M0 0h24v24H0V0z\" fill=\"none\"/>\n",
              "    <path d=\"M18.56 5.44l.94 2.06.94-2.06 2.06-.94-2.06-.94-.94-2.06-.94 2.06-2.06.94zm-11 1L8.5 8.5l.94-2.06 2.06-.94-2.06-.94L8.5 2.5l-.94 2.06-2.06.94zm10 10l.94 2.06.94-2.06 2.06-.94-2.06-.94-.94-2.06-.94 2.06-2.06.94z\"/><path d=\"M17.41 7.96l-1.37-1.37c-.4-.4-.92-.59-1.43-.59-.52 0-1.04.2-1.43.59L10.3 9.45l-7.72 7.72c-.78.78-.78 2.05 0 2.83L4 21.41c.39.39.9.59 1.41.59.51 0 1.02-.2 1.41-.59l7.78-7.78 2.81-2.81c.8-.78.8-2.07 0-2.86zM5.41 20L4 18.59l7.72-7.72 1.47 1.35L5.41 20z\"/>\n",
              "  </svg>\n",
              "      </button>\n",
              "      \n",
              "  <style>\n",
              "    .colab-df-container {\n",
              "      display:flex;\n",
              "      flex-wrap:wrap;\n",
              "      gap: 12px;\n",
              "    }\n",
              "\n",
              "    .colab-df-convert {\n",
              "      background-color: #E8F0FE;\n",
              "      border: none;\n",
              "      border-radius: 50%;\n",
              "      cursor: pointer;\n",
              "      display: none;\n",
              "      fill: #1967D2;\n",
              "      height: 32px;\n",
              "      padding: 0 0 0 0;\n",
              "      width: 32px;\n",
              "    }\n",
              "\n",
              "    .colab-df-convert:hover {\n",
              "      background-color: #E2EBFA;\n",
              "      box-shadow: 0px 1px 2px rgba(60, 64, 67, 0.3), 0px 1px 3px 1px rgba(60, 64, 67, 0.15);\n",
              "      fill: #174EA6;\n",
              "    }\n",
              "\n",
              "    [theme=dark] .colab-df-convert {\n",
              "      background-color: #3B4455;\n",
              "      fill: #D2E3FC;\n",
              "    }\n",
              "\n",
              "    [theme=dark] .colab-df-convert:hover {\n",
              "      background-color: #434B5C;\n",
              "      box-shadow: 0px 1px 3px 1px rgba(0, 0, 0, 0.15);\n",
              "      filter: drop-shadow(0px 1px 2px rgba(0, 0, 0, 0.3));\n",
              "      fill: #FFFFFF;\n",
              "    }\n",
              "  </style>\n",
              "\n",
              "      <script>\n",
              "        const buttonEl =\n",
              "          document.querySelector('#df-0d587624-9fd0-4241-ac13-dee93ab22cc3 button.colab-df-convert');\n",
              "        buttonEl.style.display =\n",
              "          google.colab.kernel.accessAllowed ? 'block' : 'none';\n",
              "\n",
              "        async function convertToInteractive(key) {\n",
              "          const element = document.querySelector('#df-0d587624-9fd0-4241-ac13-dee93ab22cc3');\n",
              "          const dataTable =\n",
              "            await google.colab.kernel.invokeFunction('convertToInteractive',\n",
              "                                                     [key], {});\n",
              "          if (!dataTable) return;\n",
              "\n",
              "          const docLinkHtml = 'Like what you see? Visit the ' +\n",
              "            '<a target=\"_blank\" href=https://colab.research.google.com/notebooks/data_table.ipynb>data table notebook</a>'\n",
              "            + ' to learn more about interactive tables.';\n",
              "          element.innerHTML = '';\n",
              "          dataTable['output_type'] = 'display_data';\n",
              "          await google.colab.output.renderOutput(dataTable, element);\n",
              "          const docLink = document.createElement('div');\n",
              "          docLink.innerHTML = docLinkHtml;\n",
              "          element.appendChild(docLink);\n",
              "        }\n",
              "      </script>\n",
              "    </div>\n",
              "  </div>\n",
              "  "
            ]
          },
          "metadata": {},
          "execution_count": 70
        }
      ]
    },
    {
      "cell_type": "code",
      "source": [
        "%cd /content/drive/MyDrive\n",
        "!mkdir data_tempo\n",
        "%cd /content"
      ],
      "metadata": {
        "colab": {
          "base_uri": "https://localhost:8080/"
        },
        "id": "9as3KvReNO4p",
        "outputId": "ad5b4c9a-8256-4a35-aa1e-8a8489442f45"
      },
      "execution_count": null,
      "outputs": [
        {
          "output_type": "stream",
          "name": "stdout",
          "text": [
            "/content/drive/MyDrive\n",
            "/content\n"
          ]
        }
      ]
    },
    {
      "cell_type": "code",
      "source": [
        "df_csv.to_csv(\"/content/drive/MyDrive/data_tempo/train.csv\", index=False)"
      ],
      "metadata": {
        "id": "9SwoUbSkAwGw"
      },
      "execution_count": null,
      "outputs": []
    },
    {
      "cell_type": "code",
      "source": [
        "dft_csv.to_csv(\"/content/drive/MyDrive/data_tempo/test.csv\", index=False)"
      ],
      "metadata": {
        "id": "EY8UrzEoQfVI"
      },
      "execution_count": null,
      "outputs": []
    },
    {
      "cell_type": "markdown",
      "source": [
        "#Loading Model to Train"
      ],
      "metadata": {
        "id": "k33iPCVQP9QT"
      }
    },
    {
      "cell_type": "code",
      "execution_count": null,
      "metadata": {
        "id": "Rsgu0ea6OFkX"
      },
      "outputs": [],
      "source": [
        "import torch\n",
        "from transformers import RobertaForSequenceClassification, AutoTokenizer\n",
        "\n",
        "model = RobertaForSequenceClassification.from_pretrained(\"wonrax/phobert-base-vietnamese-sentiment\")\n",
        "\n",
        "tokenizer=AutoTokenizer.from_pretrained(\"vinai/phobert-base\")"
      ]
    },
    {
      "cell_type": "markdown",
      "source": [
        "#Load data"
      ],
      "metadata": {
        "id": "KD8gVnHRG9c3"
      }
    },
    {
      "cell_type": "code",
      "source": [
        "from datasets import load_dataset\n",
        "data_files = {\"train\": \"train.csv\", \"test\": \"test.csv\"}\n",
        "train_dataset = load_dataset(\"/content/drive/MyDrive/data_temp\", split=\"train\")\n",
        "val_dataset = load_dataset(\"/content/drive/MyDrive/data_temp\", split=\"test\")"
      ],
      "metadata": {
        "colab": {
          "base_uri": "https://localhost:8080/",
          "height": 425
        },
        "id": "gkDtJBT2RmiC",
        "outputId": "2174ee5b-f446-4caa-f7a2-7f95b326f798"
      },
      "execution_count": null,
      "outputs": [
        {
          "output_type": "error",
          "ename": "FileNotFoundError",
          "evalue": "ignored",
          "traceback": [
            "\u001b[0;31m---------------------------------------------------------------------------\u001b[0m",
            "\u001b[0;31mFileNotFoundError\u001b[0m                         Traceback (most recent call last)",
            "\u001b[0;32m<ipython-input-10-53c7d8c8174e>\u001b[0m in \u001b[0;36m<cell line: 3>\u001b[0;34m()\u001b[0m\n\u001b[1;32m      1\u001b[0m \u001b[0;32mfrom\u001b[0m \u001b[0mdatasets\u001b[0m \u001b[0;32mimport\u001b[0m \u001b[0mload_dataset\u001b[0m\u001b[0;34m\u001b[0m\u001b[0;34m\u001b[0m\u001b[0m\n\u001b[1;32m      2\u001b[0m \u001b[0mdata_files\u001b[0m \u001b[0;34m=\u001b[0m \u001b[0;34m{\u001b[0m\u001b[0;34m\"train\"\u001b[0m\u001b[0;34m:\u001b[0m \u001b[0;34m\"train.csv\"\u001b[0m\u001b[0;34m,\u001b[0m \u001b[0;34m\"test\"\u001b[0m\u001b[0;34m:\u001b[0m \u001b[0;34m\"test.csv\"\u001b[0m\u001b[0;34m}\u001b[0m\u001b[0;34m\u001b[0m\u001b[0;34m\u001b[0m\u001b[0m\n\u001b[0;32m----> 3\u001b[0;31m \u001b[0mtrain_dataset\u001b[0m \u001b[0;34m=\u001b[0m \u001b[0mload_dataset\u001b[0m\u001b[0;34m(\u001b[0m\u001b[0;34m\"/content/drive/MyDrive/data_temp\"\u001b[0m\u001b[0;34m,\u001b[0m \u001b[0msplit\u001b[0m\u001b[0;34m=\u001b[0m\u001b[0;34m\"train\"\u001b[0m\u001b[0;34m)\u001b[0m\u001b[0;34m\u001b[0m\u001b[0;34m\u001b[0m\u001b[0m\n\u001b[0m\u001b[1;32m      4\u001b[0m \u001b[0mval_dataset\u001b[0m \u001b[0;34m=\u001b[0m \u001b[0mload_dataset\u001b[0m\u001b[0;34m(\u001b[0m\u001b[0;34m\"/content/drive/MyDrive/data_temp\"\u001b[0m\u001b[0;34m,\u001b[0m \u001b[0msplit\u001b[0m\u001b[0;34m=\u001b[0m\u001b[0;34m\"test\"\u001b[0m\u001b[0;34m)\u001b[0m\u001b[0;34m\u001b[0m\u001b[0;34m\u001b[0m\u001b[0m\n",
            "\u001b[0;32m/usr/local/lib/python3.10/dist-packages/datasets/load.py\u001b[0m in \u001b[0;36mload_dataset\u001b[0;34m(path, name, data_dir, data_files, split, cache_dir, features, download_config, download_mode, verification_mode, ignore_verifications, keep_in_memory, save_infos, revision, token, use_auth_token, task, streaming, num_proc, storage_options, **config_kwargs)\u001b[0m\n\u001b[1;32m   2127\u001b[0m \u001b[0;34m\u001b[0m\u001b[0m\n\u001b[1;32m   2128\u001b[0m     \u001b[0;31m# Create a dataset builder\u001b[0m\u001b[0;34m\u001b[0m\u001b[0;34m\u001b[0m\u001b[0m\n\u001b[0;32m-> 2129\u001b[0;31m     builder_instance = load_dataset_builder(\n\u001b[0m\u001b[1;32m   2130\u001b[0m         \u001b[0mpath\u001b[0m\u001b[0;34m=\u001b[0m\u001b[0mpath\u001b[0m\u001b[0;34m,\u001b[0m\u001b[0;34m\u001b[0m\u001b[0;34m\u001b[0m\u001b[0m\n\u001b[1;32m   2131\u001b[0m         \u001b[0mname\u001b[0m\u001b[0;34m=\u001b[0m\u001b[0mname\u001b[0m\u001b[0;34m,\u001b[0m\u001b[0;34m\u001b[0m\u001b[0;34m\u001b[0m\u001b[0m\n",
            "\u001b[0;32m/usr/local/lib/python3.10/dist-packages/datasets/load.py\u001b[0m in \u001b[0;36mload_dataset_builder\u001b[0;34m(path, name, data_dir, data_files, cache_dir, features, download_config, download_mode, revision, token, use_auth_token, storage_options, **config_kwargs)\u001b[0m\n\u001b[1;32m   1813\u001b[0m         \u001b[0mdownload_config\u001b[0m \u001b[0;34m=\u001b[0m \u001b[0mdownload_config\u001b[0m\u001b[0;34m.\u001b[0m\u001b[0mcopy\u001b[0m\u001b[0;34m(\u001b[0m\u001b[0;34m)\u001b[0m \u001b[0;32mif\u001b[0m \u001b[0mdownload_config\u001b[0m \u001b[0;32melse\u001b[0m \u001b[0mDownloadConfig\u001b[0m\u001b[0;34m(\u001b[0m\u001b[0;34m)\u001b[0m\u001b[0;34m\u001b[0m\u001b[0;34m\u001b[0m\u001b[0m\n\u001b[1;32m   1814\u001b[0m         \u001b[0mdownload_config\u001b[0m\u001b[0;34m.\u001b[0m\u001b[0mstorage_options\u001b[0m\u001b[0;34m.\u001b[0m\u001b[0mupdate\u001b[0m\u001b[0;34m(\u001b[0m\u001b[0mstorage_options\u001b[0m\u001b[0;34m)\u001b[0m\u001b[0;34m\u001b[0m\u001b[0;34m\u001b[0m\u001b[0m\n\u001b[0;32m-> 1815\u001b[0;31m     dataset_module = dataset_module_factory(\n\u001b[0m\u001b[1;32m   1816\u001b[0m         \u001b[0mpath\u001b[0m\u001b[0;34m,\u001b[0m\u001b[0;34m\u001b[0m\u001b[0;34m\u001b[0m\u001b[0m\n\u001b[1;32m   1817\u001b[0m         \u001b[0mrevision\u001b[0m\u001b[0;34m=\u001b[0m\u001b[0mrevision\u001b[0m\u001b[0;34m,\u001b[0m\u001b[0;34m\u001b[0m\u001b[0;34m\u001b[0m\u001b[0m\n",
            "\u001b[0;32m/usr/local/lib/python3.10/dist-packages/datasets/load.py\u001b[0m in \u001b[0;36mdataset_module_factory\u001b[0;34m(path, revision, download_config, download_mode, dynamic_modules_path, data_dir, data_files, **download_kwargs)\u001b[0m\n\u001b[1;32m   1512\u001b[0m                 \u001b[0;32mraise\u001b[0m \u001b[0me1\u001b[0m \u001b[0;32mfrom\u001b[0m \u001b[0;32mNone\u001b[0m\u001b[0;34m\u001b[0m\u001b[0;34m\u001b[0m\u001b[0m\n\u001b[1;32m   1513\u001b[0m     \u001b[0;32melse\u001b[0m\u001b[0;34m:\u001b[0m\u001b[0;34m\u001b[0m\u001b[0;34m\u001b[0m\u001b[0m\n\u001b[0;32m-> 1514\u001b[0;31m         raise FileNotFoundError(\n\u001b[0m\u001b[1;32m   1515\u001b[0m             \u001b[0;34mf\"Couldn't find a dataset script at {relative_to_absolute_path(combined_path)} or any data file in the same directory.\"\u001b[0m\u001b[0;34m\u001b[0m\u001b[0;34m\u001b[0m\u001b[0m\n\u001b[1;32m   1516\u001b[0m         )\n",
            "\u001b[0;31mFileNotFoundError\u001b[0m: Couldn't find a dataset script at /content/drive/MyDrive/data_temp/data_temp.py or any data file in the same directory."
          ]
        }
      ]
    },
    {
      "cell_type": "code",
      "source": [
        "print(val_dataset[2], train_dataset[2])"
      ],
      "metadata": {
        "colab": {
          "base_uri": "https://localhost:8080/"
        },
        "id": "1DF_1GNaSESX",
        "outputId": "ac1bc19a-860c-4baa-944e-586e86ff26c2"
      },
      "execution_count": null,
      "outputs": [
        {
          "output_type": "stream",
          "name": "stdout",
          "text": [
            "{'text': 'bài_tập đa_dạng , cụ_thể .', 'label': 1} {'text': 'bạn nào khá thì có _ thể áp _ dụng_công _ thức vào bài _ tập cả lớp chưa đến 30% còn thực _ sự hiểu môn _ học thì rất ít người hiểu', 'label': 0}\n"
          ]
        }
      ]
    },
    {
      "cell_type": "markdown",
      "source": [
        "#Traning"
      ],
      "metadata": {
        "id": "rG2cNql9eLCN"
      }
    },
    {
      "cell_type": "code",
      "source": [
        "from typing import List\n",
        "from transformers import TrainingArguments, Trainer"
      ],
      "metadata": {
        "id": "VsSEyq15XaPY"
      },
      "execution_count": null,
      "outputs": []
    },
    {
      "cell_type": "code",
      "source": [
        "def tokenization(batched_text):\n",
        "    return tokenizer(batched_text['text'], padding = True, truncation=True)\n",
        "\n",
        "\n",
        "train_dataset = train_dataset.map(tokenization, batched = True, batch_size = len(train_dataset))\n",
        "val_dataset = val_dataset.map(tokenization, batched = True, batch_size = len(val_dataset))"
      ],
      "metadata": {
        "colab": {
          "base_uri": "https://localhost:8080/",
          "height": 17,
          "referenced_widgets": [
            "372a03ec38914201922cbfb1ffc9fbfb",
            "5db9340fd2db4657ae80d636254396f6",
            "d28b915750ed4b24bf6037748b3b5dd8",
            "86b79cb5d7d7487daebf08ba4171553c",
            "dda6b94e042d4cc39310c13e59b1a0b6",
            "3fe7ab366091436d9e4f3fe0db22ed15",
            "99765b288a214471914145343f6a8a02",
            "3ad084c6616d4992b142d24dcbee0fdd",
            "cd0a80799d7f44ca8e1a655c1641fadd",
            "1363df66880d44f3bca760ae5a366664",
            "12fa68f023204cd895247928a077f203",
            "65d23e1c43394f598219804ced6f3471",
            "07ae705116cb499f820bea23667cad59",
            "e6ecc6556f224746b100f805e4ec58fa",
            "ce4fea5338b3467d9c72b5901e0c7966",
            "9713d2185d0d4138a5cca6c90b13ffc8",
            "1eb3f0b61b264206bb3dc4f9436200e5",
            "9dbcf8481f864a5ab8be793146d81c6f",
            "5bf4408eeed54d07abbde28bb395004e",
            "d7fb42b743cd42e690ebd367926b9e56",
            "2c0e01eaef8f4c54ab770af37fb42431",
            "a32607447d734d99a418d31439dc1766"
          ]
        },
        "id": "vqHibZHFtGLT",
        "outputId": "43b53cb0-c893-431d-a231-00350a3e13c0"
      },
      "execution_count": null,
      "outputs": [
        {
          "output_type": "display_data",
          "data": {
            "text/plain": [
              "Map:   0%|          | 0/3502 [00:00<?, ? examples/s]"
            ],
            "application/vnd.jupyter.widget-view+json": {
              "version_major": 2,
              "version_minor": 0,
              "model_id": "372a03ec38914201922cbfb1ffc9fbfb"
            }
          },
          "metadata": {}
        },
        {
          "output_type": "display_data",
          "data": {
            "text/plain": [
              "Map:   0%|          | 0/107 [00:00<?, ? examples/s]"
            ],
            "application/vnd.jupyter.widget-view+json": {
              "version_major": 2,
              "version_minor": 0,
              "model_id": "65d23e1c43394f598219804ced6f3471"
            }
          },
          "metadata": {}
        }
      ]
    },
    {
      "cell_type": "code",
      "source": [
        "train_dataset.set_format('torch', columns=['input_ids', 'attention_mask', 'label'])\n",
        "val_dataset.set_format('torch', columns=['input_ids', 'attention_mask', 'label'])"
      ],
      "metadata": {
        "id": "fTPqSIYPuJDU"
      },
      "execution_count": null,
      "outputs": []
    },
    {
      "cell_type": "code",
      "source": [
        "from sklearn.metrics import precision_recall_fscore_support, accuracy_score\n",
        "\n",
        "def compute_metrics(pred):\n",
        "    labels = pred.label_ids\n",
        "    preds = pred.predictions.argmax(-1)\n",
        "    precision, recall, f1, _ = precision_recall_fscore_support(labels, preds, average='macro')\n",
        "    acc = accuracy_score(labels, preds)\n",
        "    return {\n",
        "        'accuracy': acc,\n",
        "        'f1': f1,\n",
        "        'precision': precision,\n",
        "        'recall': recall\n",
        "    }"
      ],
      "metadata": {
        "id": "KA_boUDxuv4U"
      },
      "execution_count": null,
      "outputs": []
    },
    {
      "cell_type": "code",
      "source": [
        "training_args = TrainingArguments(\n",
        "  output_dir='./results',\n",
        "  num_train_epochs=3,\n",
        "  per_device_train_batch_size=8,\n",
        "  per_device_eval_batch_size=16,\n",
        "  remove_unused_columns=False,\n",
        ")\n",
        "\n",
        "trainer = Trainer(\n",
        "    model=model,\n",
        "    compute_metrics=compute_metrics,\n",
        "    args=training_args,\n",
        "    train_dataset=train_dataset,\n",
        "    eval_dataset=val_dataset,\n",
        ")\n"
      ],
      "metadata": {
        "id": "lblMo5EzNvII"
      },
      "execution_count": null,
      "outputs": []
    },
    {
      "cell_type": "code",
      "source": [
        "trainer.train()"
      ],
      "metadata": {
        "id": "lcmaCRyeW9mc",
        "colab": {
          "base_uri": "https://localhost:8080/",
          "height": 249
        },
        "outputId": "a382005d-3cd7-47c5-93dd-c07093199a47"
      },
      "execution_count": null,
      "outputs": [
        {
          "output_type": "stream",
          "name": "stderr",
          "text": [
            "/usr/local/lib/python3.9/dist-packages/transformers/optimization.py:391: FutureWarning: This implementation of AdamW is deprecated and will be removed in a future version. Use the PyTorch implementation torch.optim.AdamW instead, or set `no_deprecation_warning=True` to disable this warning\n",
            "  warnings.warn(\n"
          ]
        },
        {
          "output_type": "display_data",
          "data": {
            "text/plain": [
              "<IPython.core.display.HTML object>"
            ],
            "text/html": [
              "\n",
              "    <div>\n",
              "      \n",
              "      <progress value='1314' max='1314' style='width:300px; height:20px; vertical-align: middle;'></progress>\n",
              "      [1314/1314 04:37, Epoch 3/3]\n",
              "    </div>\n",
              "    <table border=\"1\" class=\"dataframe\">\n",
              "  <thead>\n",
              " <tr style=\"text-align: left;\">\n",
              "      <th>Step</th>\n",
              "      <th>Training Loss</th>\n",
              "    </tr>\n",
              "  </thead>\n",
              "  <tbody>\n",
              "    <tr>\n",
              "      <td>500</td>\n",
              "      <td>0.471900</td>\n",
              "    </tr>\n",
              "    <tr>\n",
              "      <td>1000</td>\n",
              "      <td>0.319700</td>\n",
              "    </tr>\n",
              "  </tbody>\n",
              "</table><p>"
            ]
          },
          "metadata": {}
        },
        {
          "output_type": "execute_result",
          "data": {
            "text/plain": [
              "TrainOutput(global_step=1314, training_loss=0.3531654160498121, metrics={'train_runtime': 280.295, 'train_samples_per_second': 37.482, 'train_steps_per_second': 4.688, 'total_flos': 631678787691588.0, 'train_loss': 0.3531654160498121, 'epoch': 3.0})"
            ]
          },
          "metadata": {},
          "execution_count": 82
        }
      ]
    },
    {
      "cell_type": "code",
      "source": [
        "device = torch.device(\"cuda\")\n",
        "model.cuda()"
      ],
      "metadata": {
        "id": "vUSY88VB-oKS",
        "colab": {
          "base_uri": "https://localhost:8080/"
        },
        "outputId": "564607e2-d435-443c-ceb7-e2e03525d96f"
      },
      "execution_count": null,
      "outputs": [
        {
          "output_type": "execute_result",
          "data": {
            "text/plain": [
              "RobertaForSequenceClassification(\n",
              "  (roberta): RobertaModel(\n",
              "    (embeddings): RobertaEmbeddings(\n",
              "      (word_embeddings): Embedding(64001, 768, padding_idx=1)\n",
              "      (position_embeddings): Embedding(258, 768, padding_idx=1)\n",
              "      (token_type_embeddings): Embedding(1, 768)\n",
              "      (LayerNorm): LayerNorm((768,), eps=1e-05, elementwise_affine=True)\n",
              "      (dropout): Dropout(p=0.1, inplace=False)\n",
              "    )\n",
              "    (encoder): RobertaEncoder(\n",
              "      (layer): ModuleList(\n",
              "        (0-11): 12 x RobertaLayer(\n",
              "          (attention): RobertaAttention(\n",
              "            (self): RobertaSelfAttention(\n",
              "              (query): Linear(in_features=768, out_features=768, bias=True)\n",
              "              (key): Linear(in_features=768, out_features=768, bias=True)\n",
              "              (value): Linear(in_features=768, out_features=768, bias=True)\n",
              "              (dropout): Dropout(p=0.1, inplace=False)\n",
              "            )\n",
              "            (output): RobertaSelfOutput(\n",
              "              (dense): Linear(in_features=768, out_features=768, bias=True)\n",
              "              (LayerNorm): LayerNorm((768,), eps=1e-05, elementwise_affine=True)\n",
              "              (dropout): Dropout(p=0.1, inplace=False)\n",
              "            )\n",
              "          )\n",
              "          (intermediate): RobertaIntermediate(\n",
              "            (dense): Linear(in_features=768, out_features=3072, bias=True)\n",
              "            (intermediate_act_fn): GELUActivation()\n",
              "          )\n",
              "          (output): RobertaOutput(\n",
              "            (dense): Linear(in_features=3072, out_features=768, bias=True)\n",
              "            (LayerNorm): LayerNorm((768,), eps=1e-05, elementwise_affine=True)\n",
              "            (dropout): Dropout(p=0.1, inplace=False)\n",
              "          )\n",
              "        )\n",
              "      )\n",
              "    )\n",
              "  )\n",
              "  (classifier): RobertaClassificationHead(\n",
              "    (dense): Linear(in_features=768, out_features=768, bias=True)\n",
              "    (dropout): Dropout(p=0.1, inplace=False)\n",
              "    (out_proj): Linear(in_features=768, out_features=3, bias=True)\n",
              "  )\n",
              ")"
            ]
          },
          "metadata": {},
          "execution_count": 11
        }
      ]
    },
    {
      "cell_type": "code",
      "source": [
        "#predict thu 1 example\n",
        "import numpy as np\n",
        "ans=[]\n",
        "sentence = 'Trường Đại học Khoa học Tự nhiên'\n",
        "be = sentence\n",
        "sentence = scanerr(sentence)\n",
        "sen_af = rdrsegmenter.word_segment(sentence)\n",
        "input_ids = torch.tensor([tokenizer.encode(sen_af[0])]).to(device)\n",
        "\n",
        "\n",
        "with torch.no_grad():\n",
        "\n",
        "    out = model(input_ids)\n",
        "    if np.argmax(out.logits.softmax(dim=-1).tolist())==0:\n",
        "      ans.append('negative')\n",
        "    elif np.argmax(out.logits.softmax(dim=-1).tolist())==1:\n",
        "      ans.append('positive')\n",
        "    else:\n",
        "      ans.append('neutral')\n",
        "    print(np.argmax(out.logits.softmax(dim=-1).tolist()))\n",
        "    print(be)\n",
        "    print(sentence)\n",
        "    print(out.logits.softmax(dim=-1).tolist())\n",
        "    print(ans)"
      ],
      "metadata": {
        "id": "5MCVER6x98vo",
        "colab": {
          "base_uri": "https://localhost:8080/"
        },
        "outputId": "010d6195-9b0b-4be7-cd4a-ece65c6063eb"
      },
      "execution_count": null,
      "outputs": [
        {
          "output_type": "stream",
          "name": "stdout",
          "text": [
            "2\n",
            "Trường Đại học Khoa học Tự nhiên\n",
            "trường đại học khoa học tự nhiên\n",
            "[[0.039241716265678406, 0.08462852984666824, 0.8761298060417175]]\n",
            "['neutral']\n"
          ]
        }
      ]
    },
    {
      "cell_type": "code",
      "source": [
        "model.save_pretrained('/content/out_model') #dir to the folder save model"
      ],
      "metadata": {
        "id": "ag41M8BW_VkD"
      },
      "execution_count": null,
      "outputs": []
    },
    {
      "cell_type": "code",
      "source": [
        "path = '/content/drive/MyDrive/Poto/model1.pth'\n",
        "torch.save(model, path)"
      ],
      "metadata": {
        "id": "5W8cGrnrA0VT"
      },
      "execution_count": null,
      "outputs": []
    },
    {
      "cell_type": "markdown",
      "source": [
        "#Evaluate"
      ],
      "metadata": {
        "id": "nhZGRmEXNp7D"
      }
    },
    {
      "cell_type": "code",
      "source": [
        "#evaluate model vua train\n",
        "trainer.evaluate()"
      ],
      "metadata": {
        "colab": {
          "base_uri": "https://localhost:8080/",
          "height": 201
        },
        "id": "jG1vuOVSD93N",
        "outputId": "0026ad41-34eb-4a1c-8da8-9d028966e24e"
      },
      "execution_count": null,
      "outputs": [
        {
          "output_type": "display_data",
          "data": {
            "text/plain": [
              "<IPython.core.display.HTML object>"
            ],
            "text/html": [
              "\n",
              "    <div>\n",
              "      \n",
              "      <progress value='7' max='7' style='width:300px; height:20px; vertical-align: middle;'></progress>\n",
              "      [7/7 00:00]\n",
              "    </div>\n",
              "    "
            ]
          },
          "metadata": {}
        },
        {
          "output_type": "execute_result",
          "data": {
            "text/plain": [
              "{'eval_loss': 0.4974914491176605,\n",
              " 'eval_accuracy': 0.8878504672897196,\n",
              " 'eval_f1': 0.8233965268448027,\n",
              " 'eval_precision': 0.8258778258778259,\n",
              " 'eval_recall': 0.8221429986135869,\n",
              " 'eval_runtime': 0.3258,\n",
              " 'eval_samples_per_second': 328.472,\n",
              " 'eval_steps_per_second': 21.489,\n",
              " 'epoch': 3.0}"
            ]
          },
          "metadata": {},
          "execution_count": 83
        }
      ]
    },
    {
      "cell_type": "code",
      "source": [
        "#load model tu file output vua luu\n",
        "model1 = RobertaForSequenceClassification.from_pretrained(\"/content/out_model\")\n",
        "model1.cuda()"
      ],
      "metadata": {
        "id": "lH7QP_qLA6UQ"
      },
      "execution_count": null,
      "outputs": []
    },
    {
      "cell_type": "code",
      "source": [
        "#load model da duoc train truoc day\n",
        "model2 = RobertaForSequenceClassification.from_pretrained(\"/content/drive/MyDrive/retrained\")\n",
        "model2.cuda()"
      ],
      "metadata": {
        "id": "SLXK4o9XzHG8"
      },
      "execution_count": null,
      "outputs": []
    },
    {
      "cell_type": "code",
      "source": [
        "import numpy as np"
      ],
      "metadata": {
        "id": "r0a6kviX2ONA"
      },
      "execution_count": null,
      "outputs": []
    },
    {
      "cell_type": "code",
      "source": [
        "ans = []\n",
        "ans1 = []\n",
        "ans2 = []\n",
        "eval = []\n",
        "eval1 = []\n",
        "eval2 = []\n",
        "\n",
        "for sentence in val_dataset['text']:\n",
        "  be = sentence\n",
        "  sentence = scanerr(sentence)\n",
        "  sen_af = rdrsegmenter.word_segment(sentence)\n",
        "  input_ids = torch.tensor([tokenizer.encode(sen_af[0])]).to(device)\n",
        "\n",
        "  with torch.no_grad():\n",
        "      out = model(input_ids)\n",
        "      if np.argmax(out.logits.softmax(dim=-1).tolist())==0:\n",
        "        ans.append('negative')\n",
        "      elif np.argmax(out.logits.softmax(dim=-1).tolist())==1:\n",
        "        ans.append('positive')\n",
        "      else:\n",
        "        ans.append('neutral')\n",
        "      eval.append(np.argmax(out.logits.softmax(dim=-1).tolist()))\n",
        "      out1 = model1(input_ids)\n",
        "      if np.argmax(out1.logits.softmax(dim=-1).tolist())==0:\n",
        "        ans1.append('negative')\n",
        "      elif np.argmax(out1.logits.softmax(dim=-1).tolist())==1:\n",
        "        ans1.append('positive')\n",
        "      else:\n",
        "        ans1.append('neutral')\n",
        "      eval1.append(np.argmax(out1.logits.softmax(dim=-1).tolist()))\n",
        "      out2 = model2(input_ids)\n",
        "      if np.argmax(out2.logits.softmax(dim=-1).tolist())==0:\n",
        "        ans2.append('negative')\n",
        "      elif np.argmax(out2.logits.softmax(dim=-1).tolist())==1:\n",
        "        ans2.append('positive')\n",
        "      else:\n",
        "        ans2.append('neutral')\n",
        "      eval2.append(np.argmax(out2.logits.softmax(dim=-1).tolist()))\n",
        "      print(be)\n",
        "      print(sentence)\n",
        "      print(ans[-1])\n",
        "      print(ans1[-1])\n",
        "      print(ans2[-1])\n"
      ],
      "metadata": {
        "colab": {
          "base_uri": "https://localhost:8080/"
        },
        "id": "yRryXqNPNsZb",
        "outputId": "be05f21c-2e6e-490e-ee31-756d4bb16fb8"
      },
      "execution_count": null,
      "outputs": [
        {
          "output_type": "stream",
          "name": "stdout",
          "text": [
            "tài_liệu được bổ_sung nhiều và đầy_đủ trên moodle .\n",
            "tàiliệu được bổsung nhiều và đầyđủ trên moodle .\n",
            "positive\n",
            "positive\n",
            "positive\n",
            "giảng_viên phải nên cho ví_dụ cụ_thể những phần quan_trọng nên nói kỹ có_thể lấy ví_dụ minh_hoạ tránh việc lập đi lập lại nhiều lần sẽ tạo cảm_giác chán cho sinh_viên .\n",
            "giảngviên phải nên cho vídụ cụthể những phần quantrọng nên nói kỹ cóthể lấy vídụ minhhoạ tránh việc lập đi lập lại nhiều lần sẽ tạo cảmgiác chán cho sinhviên .\n",
            "negative\n",
            "negative\n",
            "negative\n",
            "bài_tập đa_dạng , cụ_thể .\n",
            "bàitập đadạng  cụthể .\n",
            "negative\n",
            "negative\n",
            "negative\n",
            "slide up đầy_đủ trước mỗi buổi học .\n",
            "slide up đầyđủ trước mỗi buổi học .\n",
            "positive\n",
            "positive\n",
            "neutral\n",
            "nội_dung giảng_dạy quá nhàm_chán , khô_khan .\n",
            "nộidung giảngdạy quá nhàmchán  khôkhan .\n",
            "negative\n",
            "negative\n",
            "negative\n",
            "thầy chép bảng nhiều .\n",
            "thầy chép bảng nhiều .\n",
            "negative\n",
            "negative\n",
            "neutral\n",
            "thầy tận_tình hướng_dẫn cách làm , giải_quyết những thắc_mắc của sinh_viên .\n",
            "thầy tậntình hướngdẫn cách làm  giảiquyết những thắcmắc của sinhviên .\n",
            "positive\n",
            "positive\n",
            "positive\n",
            "rất ổn .\n",
            "rất ổn .\n",
            "positive\n",
            "positive\n",
            "positive\n",
            "thầy dạy khás hay , cung_cấp nhiều thông_tin liên_quan đến môn_học , đưa ra nhiều hướng giải_quyết khi sinh_viên gặp vấn_đề khó_khăn với đồ_án !\n",
            "thầy dạy khás hay  cungcấp nhiều thôngtin liênquan đến mônhọc  đưa ra nhiều hướng giảiquyết khi sinhviên gặp vấnđề khókhăn với đồán \n",
            "negative\n",
            "negative\n",
            "negative\n",
            "hy_vọng học_kỳ sau có_thể học được với cô .\n",
            "hyvọng họckỳ sau cóthể học được với cô .\n",
            "positive\n",
            "neutral\n",
            "positive\n",
            "kết_thúc môn rồi mà vẫn không biết mình đang học cái gì : 3\n",
            "kếtthúc môn rồi mà vẫn không biết mình đang học cái gì : 3\n",
            "neutral\n",
            "negative\n",
            "negative\n",
            "trong khi giảng nói_nhỏ quá .\n",
            "trong khi giảng nóinhỏ quá .\n",
            "negative\n",
            "negative\n",
            "negative\n",
            "thực_hành khó hiểu .\n",
            "thựchành khó hiểu .\n",
            "negative\n",
            "negative\n",
            "negative\n",
            "thầy rất tận_tâm nhiệt_tình , quan_tâm đến sinh_viên , giảng bài dễ hiểu , kiến_thức sâu_rộng am_hiểu cao .\n",
            "thầy rất tậntâm nhiệttình  quantâm đến sinhviên  giảng bài dễ hiểu  kiếnthức sâurộng amhiểu cao .\n",
            "positive\n",
            "positive\n",
            "positive\n",
            "cô dạy với nhiệt_huyết của mình , dù như_thế_nào , cô vẫn luôn mỉm cười và kiên_trì giảng bài cho chúng_em đến khi chúng_em hiểu .\n",
            "cô dạy với nhiệthuyết của mình  dù nhưthếnào  cô vẫn luôn mỉm cười và kiêntrì giảng bài cho chúngem đến khi chúngem hiểu .\n",
            "positive\n",
            "positive\n",
            "positive\n",
            "cô lên_lớp đúng giờ , giảng bài rất dễ hiểu cho sinh_viên .\n",
            "cô lênlớp đúng giờ  giảng bài rất dễ hiểu cho sinhviên .\n",
            "positive\n",
            "positive\n",
            "positive\n",
            "cô rất nhiệt_tình và tận_dụng tốt thời_gian .\n",
            "cô rất nhiệttình và tậndụng tốt thờigian .\n",
            "positive\n",
            "positive\n",
            "positive\n",
            "giảng_viên tận_tâm , nhiệt_huyết trong giảng_dạy .\n",
            "giảngviên tậntâm  nhiệthuyết trong giảngdạy .\n",
            "positive\n",
            "positive\n",
            "positive\n",
            "thầy nhiệt_tình , gần_gũi .\n",
            "thầy nhiệttình  gầngũi .\n",
            "positive\n",
            "positive\n",
            "positive\n",
            "giảng_viên tận_tâm , giảng dễ hiểu , dễ tiếp_thu .\n",
            "giảngviên tậntâm  giảng dễ hiểu  dễ tiếpthu .\n",
            "positive\n",
            "positive\n",
            "positive\n",
            "tạo ra sự cạnh_tranh trong mỗi buổi thực_hành .\n",
            "tạo ra sự cạnhtranh trong mỗi buổi thựchành .\n",
            "neutral\n",
            "positive\n",
            "neutral\n",
            "cần nâng_cấp hệ_thống wifi , vì khi vào phòng thực_hành , sinh_viên không_thể truy_cập internet , buộc phải xin phép ra ngoài để làm bài .\n",
            "cần nângcấp hệthống wifi  vì khi vào phòng thựchành  sinhviên khôngthể truycập internet  buộc phải xin phép ra ngoài để làm bài .\n",
            "neutral\n",
            "negative\n",
            "negative\n",
            "tài_liệu không được detail cho lắm .\n",
            "tàiliệu không được detail cho lắm .\n",
            "negative\n",
            "negative\n",
            "negative\n",
            "thầy dạy không đúng giờ , không hướng_dẫn sinh_viên thực_hành .\n",
            "thầy dạy không đúng giờ  không hướngdẫn sinhviên thựchành .\n",
            "negative\n",
            "negative\n",
            "negative\n",
            "cô dạy buồn_ngủ quá .\n",
            "cô dạy buồnngủ quá .\n",
            "neutral\n",
            "negative\n",
            "negative\n",
            "nên kinh mong nội_dung môn_học được giảm tải cho phù_hợp hơn với đặc_thù của một trường công_nghệ_thông_tin .\n",
            "nên kinh mong nộidung mônhọc được giảm tải cho phùhợp hơn với đặcthù của một trường côngnghệthôngtin .\n",
            "negative\n",
            "negative\n",
            "negative\n",
            "thầy tận_tình vui_tính .\n",
            "thầy tậntình vuitính .\n",
            "positive\n",
            "positive\n",
            "positive\n",
            "cô giảng hay cuốn_hút và truyền_đạt dễ hiuể .\n",
            "cô giảng hay cuốnhút và truyềnđạt dễ hiuể .\n",
            "positive\n",
            "positive\n",
            "positive\n",
            "có hứng_thú học .\n",
            "có hứngthú học .\n",
            "positive\n",
            "positive\n",
            "positive\n",
            "ôn_tập đúng theo thầy nhưng không biết cuối kỳ được mấy điểm .\n",
            "ôntập đúng theo thầy nhưng không biết cuối kỳ được mấy điểm .\n",
            "neutral\n",
            "negative\n",
            "negative\n",
            "giáo_viên nghỉ dạy liên_tục , cuối học_kỳ lại tăng học bù , những tiết học bù đó đã ảnh_hưởng đến những đồ_án , và trễ deadline .\n",
            "giáoviên nghỉ dạy liêntục  cuối họckỳ lại tăng học bù  những tiết học bù đó đã ảnhhưởng đến những đồán  và trễ deadline .\n",
            "neutral\n",
            "negative\n",
            "negative\n",
            "giáo_viên lúc dạy lúc không , không dạy cũng không thông_báo , sinh_viên tệ , tốn thời_gian , công_sức , tiền_bạc rồi ngồi đợi và đi về .\n",
            "giáoviên lúc dạy lúc không  không dạy cũng không thôngbáo  sinhviên tệ  tốn thờigian  côngsức  tiềnbạc rồi ngồi đợi và đi về .\n",
            "negative\n",
            "negative\n",
            "negative\n",
            "cần có một phòng máy tốt hơn , hiện_đại hơn .\n",
            "cần có một phòng máy tốt hơn  hiệnđại hơn .\n",
            "positive\n",
            "negative\n",
            "negative\n",
            "giảng_viên đánh_giá sai điểm và năng_lực của học_sinh .\n",
            "giảngviên đánhgiá sai điểm và nănglực của họcsinh .\n",
            "negative\n",
            "negative\n",
            "negative\n",
            "giảng_viên thân_thiện , quan_tâm tới sinh_viên .\n",
            "giảngviên thânthiện  quantâm tới sinhviên .\n",
            "positive\n",
            "positive\n",
            "positive\n",
            "môn lập_trình hướng đối_tượng nên cập_nhật thêm những nội_dung mới , dễ hiểu và giảng_giải cụ_thể hơn .\n",
            "môn lậptrình hướng đốitượng nên cậpnhật thêm những nộidung mới  dễ hiểu và giảnggiải cụthể hơn .\n",
            "negative\n",
            "negative\n",
            "negative\n",
            "giáo_viên nhiệt_tình , tâm_huyết , khả_năng truyền_đạt tốt .\n",
            "giáoviên nhiệttình  tâmhuyết  khảnăng truyềnđạt tốt .\n",
            "positive\n",
            "positive\n",
            "positive\n",
            "thầy dạy rất tốt và nhiệt_tình .\n",
            "thầy dạy rất tốt và nhiệttình .\n",
            "positive\n",
            "positive\n",
            "positive\n",
            "cô nói hơi nhỏ , nếu lớp ồn sẽ khó nghe .\n",
            "cô nói hơi nhỏ  nếu lớp ồn sẽ khó nghe .\n",
            "negative\n",
            "negative\n",
            "negative\n",
            "bài_tập cô đưa ra nhiều , và khó tìm_hiểu , với kiến thực_hiện tại của sinh_viên thì khó có_thể tìm_hiểu và làm tốt bài_tập cô ra .\n",
            "bàitập cô đưa ra nhiều  và khó tìmhiểu  với kiến thựchiện tại của sinhviên thì khó cóthể tìmhiểu và làm tốt bàitập cô ra .\n",
            "negative\n",
            "negative\n",
            "negative\n",
            "bài_tập và hoạt_động nhóm còn ít .\n",
            "bàitập và hoạtđộng nhóm còn ít .\n",
            "neutral\n",
            "negative\n",
            "negative\n",
            "cô hướng_dẫn thực_hành khá đầy_đủ .\n",
            "cô hướngdẫn thựchành khá đầyđủ .\n",
            "positive\n",
            "positive\n",
            "negative\n",
            "được học nhiều kinh_nghiệm từ thầy wzjwz163 .\n",
            "được học nhiều kinhnghiệm từ thầy wzjwz163 .\n",
            "positive\n",
            "positive\n",
            "neutral\n",
            "kiến_thức của thầy rất tốt , bảo_đảm giờ lên_lớp .\n",
            "kiếnthức của thầy rất tốt  bảođảm giờ lênlớp .\n",
            "positive\n",
            "positive\n",
            "positive\n",
            "cải_thiện lại cơ_sở vật_chất máy_chiếu trong phòng học .\n",
            "cảithiện lại cơsở vậtchất máychiếu trong phòng học .\n",
            "positive\n",
            "neutral\n",
            "neutral\n",
            "dạy không phù_hợp với cách học của em .\n",
            "dạy không phùhợp với cách học của em .\n",
            "negative\n",
            "negative\n",
            "negative\n",
            "lớp_học quá đông !\n",
            "lớphọc quá đông \n",
            "negative\n",
            "negative\n",
            "negative\n",
            "môn căn_bản mà thầy không dạy cho sinh_viên kỹ , gây không hiểu , mất căn_bản .\n",
            "môn cănbản mà thầy không dạy cho sinhviên kỹ  gây không hiểu  mất cănbản .\n",
            "negative\n",
            "negative\n",
            "negative\n",
            "tôi cảm_thấy giảng_viên dạy rất tốt .\n",
            "tôi cảmthấy giảngviên dạy rất tốt .\n",
            "positive\n",
            "positive\n",
            "positive\n",
            "cần có sự tương_tác giữa giảng_viên và sinh_viên nhiều hơn .\n",
            "cần có sự tươngtác giữa giảngviên và sinhviên nhiều hơn .\n",
            "negative\n",
            "negative\n",
            "negative\n",
            "giáo_viên có mời các công_ty về trình_bày , giúp sinh_viên cập_nhật kiến_thức thực_tiễn .\n",
            "giáoviên có mời các côngty về trìnhbày  giúp sinhviên cậpnhật kiếnthức thựctiễn .\n",
            "positive\n",
            "neutral\n",
            "positive\n",
            "coi lại thái_độ giảng_viên thực_hành .\n",
            "coi lại tháiđộ giảngviên thựchành .\n",
            "negative\n",
            "negative\n",
            "neutral\n",
            "bài giảng của thầy rất nhiệt_tình .\n",
            "bài giảng của thầy rất nhiệttình .\n",
            "positive\n",
            "positive\n",
            "positive\n",
            "môn_học chưa thực_tiễn , chưa thu_hút sinh_viên .\n",
            "mônhọc chưa thựctiễn  chưa thuhút sinhviên .\n",
            "negative\n",
            "negative\n",
            "negative\n",
            "ít làm bài_tập .\n",
            "ít làm bàitập .\n",
            "negative\n",
            "negative\n",
            "negative\n",
            "giảng bài kém thu_hút , vị_trí đứng giảng không hợp_lý , ôn_tập cuối kỳ còn chưa tập_trung vào vấn_đề .\n",
            "giảng bài kém thuhút  vịtrí đứng giảng không hợplý  ôntập cuối kỳ còn chưa tậptrung vào vấnđề .\n",
            "negative\n",
            "negative\n",
            "negative\n",
            "giảng_viên nhiệt_tình , bài giảng thu_hút .\n",
            "giảngviên nhiệttình  bài giảng thuhút .\n",
            "positive\n",
            "positive\n",
            "positive\n",
            "nhờ thầy và giảng_viên lý_thuyết , em đã hiểu rõ về môn này rất nhiều !\n",
            "nhờ thầy và giảngviên lýthuyết  em đã hiểu rõ về môn này rất nhiều \n",
            "positive\n",
            "positive\n",
            "positive\n",
            "cần thêm nhiều tài_liệu cho sinh_viên .\n",
            "cần thêm nhiều tàiliệu cho sinhviên .\n",
            "positive\n",
            "negative\n",
            "negative\n",
            "bài_tập trên lớp .\n",
            "bàitập trên lớp .\n",
            "neutral\n",
            "neutral\n",
            "neutral\n",
            "tăng số tiết dạy lên để sinh_viên có nhiều cơ_hội hỏi_đáp thắc_mắc về môn_học .\n",
            "tăng số tiết dạy lên để sinhviên có nhiều cơhội hỏiđáp thắcmắc về mônhọc .\n",
            "negative\n",
            "negative\n",
            "negative\n",
            "thầy nhiệt_tình dễ hiểu .\n",
            "thầy nhiệttình dễ hiểu .\n",
            "positive\n",
            "positive\n",
            "positive\n",
            "thực_hành và lý_thuyết nên dạy song_song .\n",
            "thựchành và lýthuyết nên dạy songsong .\n",
            "negative\n",
            "negative\n",
            "negative\n",
            "bài_tập trên lớp nên được giới_thiệu ngay từ đầu tiết học để học_sinh không tệ , tốn thời_gian đọc đề cũng như có_thể suy_nghĩ cách giải cùng lúc với việc nghe giảng .\n",
            "bàitập trên lớp nên được giớithiệu ngay từ đầu tiết học để họcsinh không tệ  tốn thờigian đọc đề cũng như cóthể suynghĩ cách giải cùng lúc với việc nghe giảng .\n",
            "positive\n",
            "negative\n",
            "negative\n",
            "cập_nhật bài_tập mới .\n",
            "cậpnhật bàitập mới .\n",
            "positive\n",
            "neutral\n",
            "neutral\n",
            "tận_tâm , nhiệt_tình , quan_tâm đến sinh_viên .\n",
            "tậntâm  nhiệttình  quantâm đến sinhviên .\n",
            "positive\n",
            "positive\n",
            "positive\n",
            "phản_hồi giải_đáp thắc_mắc cho sinh_viên .\n",
            "phảnhồi giảiđáp thắcmắc cho sinhviên .\n",
            "negative\n",
            "negative\n",
            "neutral\n",
            "mong ban thiết_bị sớm khắc_phục ạ !\n",
            "mong ban thiếtbị sớm khắcphục ạ \n",
            "neutral\n",
            "negative\n",
            "negative\n",
            "môn này cần làm đề_tài để áp_dụng lý_thuyết vào thực_tiễn mà trên lớp chỉ học một đống lý_thuyết và hiếm ai nhớ đa_số khá buồn_ngủ khi lên_lớp .\n",
            "môn này cần làm đềtài để ápdụng lýthuyết vào thựctiễn mà trên lớp chỉ học một đống lýthuyết và hiếm ai nhớ đasố khá buồnngủ khi lênlớp .\n",
            "negative\n",
            "negative\n",
            "negative\n",
            "giảng_viên nên đổi_mới phương_pháp giảng_dạy , tránh thô cứng , không hấp_dẫn sinh_viên .\n",
            "giảngviên nên đổimới phươngpháp giảngdạy  tránh thô cứng  không hấpdẫn sinhviên .\n",
            "negative\n",
            "negative\n",
            "negative\n",
            "thầy rất nhiệt_tình với chúng_em và điều này làm em rất hài_lòng .\n",
            "thầy rất nhiệttình với chúngem và điều này làm em rất hàilòng .\n",
            "positive\n",
            "positive\n",
            "positive\n",
            "cách giảng_dạy của thầy rất hay và có phần dễ hiễu .\n",
            "cách giảngdạy của thầy rất hay và có phần dễ hiễu .\n",
            "negative\n",
            "positive\n",
            "positive\n",
            "không hướng_dẫn đồ_án .\n",
            "không hướngdẫn đồán .\n",
            "negative\n",
            "negative\n",
            "negative\n",
            "em xin đề_nghị nhà_trường nên bổ_sung tài_liệu về môn_học và cập_nhật nội_dung .\n",
            "em xin đềnghị nhàtrường nên bổsung tàiliệu về mônhọc và cậpnhật nộidung .\n",
            "negative\n",
            "negative\n",
            "negative\n",
            "chép bài rất nhiều , lãng_phí thời_gian nghe giảng .\n",
            "chép bài rất nhiều  lãngphí thờigian nghe giảng .\n",
            "positive\n",
            "negative\n",
            "neutral\n",
            "em không học thầy wzjwz178 kỳ này , giáo_viên thực_hành có 2 người nên có_lẽ daa nhầm .\n",
            "em không học thầy wzjwz178 kỳ này  giáoviên thựchành có 2 người nên cólẽ da nhầm .\n",
            "neutral\n",
            "negative\n",
            "neutral\n",
            "đề thi môn dài sinh_viên làm không đủ thời_gian .\n",
            "đề thi môn dài sinhviên làm không đủ thờigian .\n",
            "negative\n",
            "negative\n",
            "negative\n",
            "cho làm nhiều bài test .\n",
            "cho làm nhiều bài test .\n",
            "neutral\n",
            "neutral\n",
            "neutral\n",
            "theo em thì nên thi phòng máy nào có visual 2013 trở lên .\n",
            "theo em thì nên thi phòng máy nào có visual 2013 trở lên .\n",
            "neutral\n",
            "neutral\n",
            "neutral\n",
            "thầy cần cho bài_tập và hướng_dẫn nhiều hơn .\n",
            "thầy cần cho bàitập và hướngdẫn nhiều hơn .\n",
            "positive\n",
            "negative\n",
            "negative\n",
            "em thấy thầy chỉ giảng cho có .\n",
            "em thấy thầy chỉ giảng cho có .\n",
            "negative\n",
            "negative\n",
            "negative\n",
            "cần xác_định rõ mục_đích môn_học và cho sinh_viên đề_cương chi_tiết môn_học trước khi bắt_đầu .\n",
            "cần xácđịnh rõ mụcđích mônhọc và cho sinhviên đềcương chitiết mônhọc trước khi bắtđầu .\n",
            "negative\n",
            "negative\n",
            "negative\n",
            "thầy nói_chuyện với sinh_viên rất tự_nhiên , chia_sẻ kinh_nghiệm thực_tế .\n",
            "thầy nóichuyện với sinhviên rất tựnhiên  chiasẻ kinhnghiệm thựctế .\n",
            "positive\n",
            "positive\n",
            "positive\n",
            "dạy theo sát chương_trình .\n",
            "dạy theo sát chươngtrình .\n",
            "positive\n",
            "positive\n",
            "positive\n",
            "cung_cấp thêm trang_thiết_bị phục_vụ nhu_cầu_môn_học .\n",
            "cungcấp thêm trangthiếtbị phụcvụ nhucầumônhọc .\n",
            "negative\n",
            "negative\n",
            "negative\n",
            "đề_nghị nâng_cấp phòng lab khoa mạng .\n",
            "đềnghị nângcấp phòng lab khoa mạng .\n",
            "negative\n",
            "negative\n",
            "negative\n",
            "thầy giảng hay và tâm_huyết , bài giảng có tính thực_tiễn cao .\n",
            "thầy giảng hay và tâmhuyết  bài giảng có tính thựctiễn cao .\n",
            "positive\n",
            "positive\n",
            "positive\n",
            "đi dạy đúng giờ .\n",
            "đi dạy đúng giờ .\n",
            "positive\n",
            "positive\n",
            "neutral\n",
            "các yêu_cầu về đồ_án môn_học nên đươc đưa ra chính_xác trước khi sinh_viên bắt_đầu thực_hiện chia nhóm và làm đồ_án .\n",
            "các yêucầu về đồán mônhọc nên đươc đưa ra chínhxác trước khi sinhviên bắtđầu thựchiện chia nhóm và làm đồán .\n",
            "negative\n",
            "negative\n",
            "negative\n",
            "dạy dễ hiểu dễ tiếp_thu , tập_trung vài kiến_thức trọng_tâm .\n",
            "dạy dễ hiểu dễ tiếpthu  tậptrung vài kiếnthức trọngtâm .\n",
            "positive\n",
            "positive\n",
            "positive\n",
            "cô khá tận_tâm cho học_sinh .\n",
            "cô khá tậntâm cho họcsinh .\n",
            "positive\n",
            "positive\n",
            "positive\n",
            "cần cải_cách lại nội_dung các bài thực_hành , một_số_kiến nội_dung trong bài thực_hành đã trở_nên lỗi_thời .\n",
            "cần cảicách lại nộidung các bài thựchành  mộtsốkiến nộidung trong bài thựchành đã trởnên lỗithời .\n",
            "positive\n",
            "negative\n",
            "negative\n",
            "cho làm nhiều bài_tập .\n",
            "cho làm nhiều bàitập .\n",
            "neutral\n",
            "neutral\n",
            "neutral\n",
            "nghiên_cứu khoa_học .\n",
            "nghiêncứu khoahọc .\n",
            "positive\n",
            "positive\n",
            "neutral\n",
            "giáo_viên dạy rất tận_tâm , nhiệt_tình .\n",
            "giáoviên dạy rất tậntâm  nhiệttình .\n",
            "positive\n",
            "positive\n",
            "positive\n",
            "chỉ thông_báo trên lớp sẽ khó tránh sai_sót .\n",
            "chỉ thôngbáo trên lớp sẽ khó tránh saisót .\n",
            "negative\n",
            "negative\n",
            "negative\n",
            "đề_nghị lắp thêm quạt .\n",
            "đềnghị lắp thêm quạt .\n",
            "neutral\n",
            "negative\n",
            "negative\n",
            "dạy kỹ , bình_thường : ) )\n",
            "dạy kỹ bìnhthường : \n",
            "negative\n",
            "positive\n",
            "neutral\n",
            "bài_tập cần đa_dạng hơn .\n",
            "bàitập cần đadạng hơn .\n",
            "negative\n",
            "negative\n",
            "negative\n",
            "nói rất nhỏ .\n",
            "nói rất nhỏ .\n",
            "negative\n",
            "negative\n",
            "negative\n",
            "giaos vien làm bài sai bị nhawc thì tự ais\n",
            "giaos vien làm bài sai bị nhawc thì tự ais\n",
            "negative\n",
            "negative\n",
            "negative\n",
            "không sửa các bài_tập thực_hành .\n",
            "không sửa các bàitập thựchành .\n",
            "negative\n",
            "negative\n",
            "negative\n",
            "làm bài_tập nhiều mặc_dù không hiểu lắm .\n",
            "làm bàitập nhiều mặcdù không hiểu lắm .\n",
            "negative\n",
            "negative\n",
            "negative\n",
            "thầy dạy dễ hiểu , tiết học dễ hiểu , sôi_nổi .\n",
            "thầy dạy dễ hiểu  tiết học dễ hiểu  sôinổi .\n",
            "positive\n",
            "positive\n",
            "positive\n",
            "thầy giảng_dạy nhiệt_tình , truyền_cảm .\n",
            "thầy giảngdạy nhiệttình  truyềncảm .\n",
            "positive\n",
            "positive\n",
            "positive\n",
            "giảng_dạy rất chi_tiết , dễ hiểu và dễ tiếp_thu .\n",
            "giảngdạy rất chitiết  dễ hiểu và dễ tiếpthu .\n",
            "positive\n",
            "positive\n",
            "positive\n",
            "truyền_đạt rất dễ hỉu .\n",
            "truyềnđạt rất dễ hiểu .\n",
            "positive\n",
            "positive\n",
            "positive\n"
          ]
        }
      ]
    },
    {
      "cell_type": "code",
      "source": [
        "from sklearn.metrics import f1_score\n",
        "print(f1_score(eval,val_dataset['label'], average='macro'))\n",
        "print(f1_score(eval1,val_dataset['label'], average='macro'))\n",
        "print(f1_score(eval2,val_dataset['label'], average='macro'))\n"
      ],
      "metadata": {
        "colab": {
          "base_uri": "https://localhost:8080/"
        },
        "id": "UQtBLtIQPAmY",
        "outputId": "0610fc53-90c7-44ee-8405-1a66f254e30e"
      },
      "execution_count": null,
      "outputs": [
        {
          "output_type": "stream",
          "name": "stdout",
          "text": [
            "0.6484509145203434\n",
            "0.6850843584055926\n",
            "0.7077414455463237\n"
          ]
        }
      ]
    },
    {
      "cell_type": "markdown",
      "source": [
        "#Infer"
      ],
      "metadata": {
        "id": "uKSejdwGHEyX"
      }
    },
    {
      "cell_type": "code",
      "source": [
        "model = RobertaForSequenceClassification.from_pretrained(\"wonrax/phobert-base-vietnamese-sentiment\") #day la default model, ban co the folder chua model khac"
      ],
      "metadata": {
        "id": "fTXNmhDJLCU7"
      },
      "execution_count": null,
      "outputs": []
    },
    {
      "cell_type": "code",
      "source": [
        "test_df = pd.read_csv(\"/content/drive/MyDrive/data_phase_2.txt\", sep=\"\\t\", header=None)\n",
        "print(test_df[0][:5])"
      ],
      "metadata": {
        "id": "4GJJ2NFQeE15",
        "colab": {
          "base_uri": "https://localhost:8080/"
        },
        "outputId": "8ac5fc81-78cc-4883-9ab7-7d538cd686e8"
      },
      "execution_count": null,
      "outputs": [
        {
          "output_type": "stream",
          "name": "stdout",
          "text": [
            "0                     Tiến sĩ câu giờ, hoàng đế gây mê\n",
            "1    Mới học 2 bữa thôi là đã nghiện cách giảng dạy...\n",
            "2     kêu giơ tay phát biểu cộng điểm nhưng có cái nịt\n",
            "3               thầy mãi là number one trong lòng em !\n",
            "4    Thầy như là người được chọn, sỡ hữu haki bá vư...\n",
            "Name: 0, dtype: object\n"
          ]
        }
      ]
    },
    {
      "cell_type": "code",
      "source": [
        "test_df = [\"Tiến sĩ câu giờ, hoàng đế gây mê\", \"thầy này dạy chán quá\"]"
      ],
      "metadata": {
        "id": "1Uq43h2b9Xv8"
      },
      "execution_count": null,
      "outputs": []
    },
    {
      "cell_type": "code",
      "source": [
        "import numpy as np\n",
        "ans = []\n",
        "for sentence in test_df[0]:\n",
        "  be = sentence\n",
        "  sentence = scanerr(sentence)\n",
        "  sen_af = rdrsegmenter.word_segment(sentence)\n",
        "  input_ids = torch.tensor([tokenizer.encode(sen_af[0])]).to(device)\n",
        "\n",
        "\n",
        "  with torch.no_grad():\n",
        "      out = model(input_ids)\n",
        "      if np.argmax(out.logits.softmax(dim=-1).tolist())==0:\n",
        "        ans.append('negative')\n",
        "      elif np.argmax(out.logits.softmax(dim=-1).tolist())==1:\n",
        "        ans.append('positive')\n",
        "      else:\n",
        "        ans.append('neutral')\n",
        "      print(be)\n",
        "      print(sentence)\n",
        "      print(np.argmax(out.logits.softmax(dim=-1).tolist()))\n",
        "\n",
        "\n"
      ],
      "metadata": {
        "colab": {
          "base_uri": "https://localhost:8080/",
          "height": 453
        },
        "id": "_sHsU9onah9j",
        "outputId": "863dd28b-fb33-40e0-8381-ff727325fa80"
      },
      "execution_count": null,
      "outputs": [
        {
          "output_type": "stream",
          "name": "stdout",
          "text": [
            "T\n",
            "t\n",
            "2\n",
            "i\n",
            "i\n",
            "2\n",
            "ế\n",
            "ế\n",
            "0\n",
            "n\n",
            "n\n",
            "2\n"
          ]
        },
        {
          "output_type": "error",
          "ename": "IndexError",
          "evalue": "ignored",
          "traceback": [
            "\u001b[0;31m---------------------------------------------------------------------------\u001b[0m",
            "\u001b[0;31mIndexError\u001b[0m                                Traceback (most recent call last)",
            "\u001b[0;32m<ipython-input-24-de5d3d8d09b3>\u001b[0m in \u001b[0;36m<cell line: 3>\u001b[0;34m()\u001b[0m\n\u001b[1;32m      5\u001b[0m   \u001b[0msentence\u001b[0m \u001b[0;34m=\u001b[0m \u001b[0mscanerr\u001b[0m\u001b[0;34m(\u001b[0m\u001b[0msentence\u001b[0m\u001b[0;34m)\u001b[0m\u001b[0;34m\u001b[0m\u001b[0;34m\u001b[0m\u001b[0m\n\u001b[1;32m      6\u001b[0m   \u001b[0msen_af\u001b[0m \u001b[0;34m=\u001b[0m \u001b[0mrdrsegmenter\u001b[0m\u001b[0;34m.\u001b[0m\u001b[0mword_segment\u001b[0m\u001b[0;34m(\u001b[0m\u001b[0msentence\u001b[0m\u001b[0;34m)\u001b[0m\u001b[0;34m\u001b[0m\u001b[0;34m\u001b[0m\u001b[0m\n\u001b[0;32m----> 7\u001b[0;31m   \u001b[0minput_ids\u001b[0m \u001b[0;34m=\u001b[0m \u001b[0mtorch\u001b[0m\u001b[0;34m.\u001b[0m\u001b[0mtensor\u001b[0m\u001b[0;34m(\u001b[0m\u001b[0;34m[\u001b[0m\u001b[0mtokenizer\u001b[0m\u001b[0;34m.\u001b[0m\u001b[0mencode\u001b[0m\u001b[0;34m(\u001b[0m\u001b[0msen_af\u001b[0m\u001b[0;34m[\u001b[0m\u001b[0;36m0\u001b[0m\u001b[0;34m]\u001b[0m\u001b[0;34m)\u001b[0m\u001b[0;34m]\u001b[0m\u001b[0;34m)\u001b[0m\u001b[0;34m.\u001b[0m\u001b[0mto\u001b[0m\u001b[0;34m(\u001b[0m\u001b[0mdevice\u001b[0m\u001b[0;34m)\u001b[0m\u001b[0;34m\u001b[0m\u001b[0;34m\u001b[0m\u001b[0m\n\u001b[0m\u001b[1;32m      8\u001b[0m \u001b[0;34m\u001b[0m\u001b[0m\n\u001b[1;32m      9\u001b[0m \u001b[0;34m\u001b[0m\u001b[0m\n",
            "\u001b[0;31mIndexError\u001b[0m: list index out of range"
          ]
        }
      ]
    },
    {
      "cell_type": "code",
      "source": [
        "with open(\"/content/submit.txt\", \"w\") as txt_file:\n",
        "    for line in ans:\n",
        "        txt_file.write(\"\".join(line) + \"\\n\")"
      ],
      "metadata": {
        "id": "MGl0EC7kvfoQ"
      },
      "execution_count": null,
      "outputs": []
    },
    {
      "cell_type": "code",
      "source": [],
      "metadata": {
        "id": "U3Lh7twkuyZJ"
      },
      "execution_count": null,
      "outputs": []
    },
    {
      "cell_type": "markdown",
      "source": [
        "#TEsst convert from pytorch to tf"
      ],
      "metadata": {
        "id": "baAR-Yt9uy45"
      }
    },
    {
      "cell_type": "code",
      "source": [
        "pip install onnx"
      ],
      "metadata": {
        "colab": {
          "base_uri": "https://localhost:8080/"
        },
        "id": "1tzjsiryu4nN",
        "outputId": "e616abb0-298e-49ba-acfc-e7625beb323e"
      },
      "execution_count": null,
      "outputs": [
        {
          "output_type": "stream",
          "name": "stdout",
          "text": [
            "Collecting onnx\n",
            "  Downloading onnx-1.14.1-cp310-cp310-manylinux_2_17_x86_64.manylinux2014_x86_64.whl (14.6 MB)\n",
            "\u001b[2K     \u001b[90m━━━━━━━━━━━━━━━━━━━━━━━━━━━━━━━━━━━━━━━━\u001b[0m \u001b[32m14.6/14.6 MB\u001b[0m \u001b[31m24.8 MB/s\u001b[0m eta \u001b[36m0:00:00\u001b[0m\n",
            "\u001b[?25hRequirement already satisfied: numpy in /usr/local/lib/python3.10/dist-packages (from onnx) (1.23.5)\n",
            "Requirement already satisfied: protobuf>=3.20.2 in /usr/local/lib/python3.10/dist-packages (from onnx) (3.20.3)\n",
            "Requirement already satisfied: typing-extensions>=3.6.2.1 in /usr/local/lib/python3.10/dist-packages (from onnx) (4.5.0)\n",
            "Installing collected packages: onnx\n",
            "Successfully installed onnx-1.14.1\n"
          ]
        }
      ]
    },
    {
      "cell_type": "code",
      "source": [
        "pip install onnx-tf"
      ],
      "metadata": {
        "colab": {
          "base_uri": "https://localhost:8080/"
        },
        "id": "4hkAlec2vPSt",
        "outputId": "823106c8-42b2-469b-8cf6-766165019e20"
      },
      "execution_count": null,
      "outputs": [
        {
          "output_type": "stream",
          "name": "stdout",
          "text": [
            "Collecting onnx-tf\n",
            "  Downloading onnx_tf-1.10.0-py3-none-any.whl (226 kB)\n",
            "\u001b[?25l     \u001b[90m━━━━━━━━━━━━━━━━━━━━━━━━━━━━━━━━━━━━━━━━\u001b[0m \u001b[32m0.0/226.1 kB\u001b[0m \u001b[31m?\u001b[0m eta \u001b[36m-:--:--\u001b[0m\r\u001b[2K     \u001b[91m━━━━━━━━━━━━\u001b[0m\u001b[91m╸\u001b[0m\u001b[90m━━━━━━━━━━━━━━━━━━━━━━━━━━━\u001b[0m \u001b[32m71.7/226.1 kB\u001b[0m \u001b[31m1.9 MB/s\u001b[0m eta \u001b[36m0:00:01\u001b[0m\r\u001b[2K     \u001b[90m━━━━━━━━━━━━━━━━━━━━━━━━━━━━━━━━━━━━━━━━\u001b[0m \u001b[32m226.1/226.1 kB\u001b[0m \u001b[31m3.6 MB/s\u001b[0m eta \u001b[36m0:00:00\u001b[0m\n",
            "\u001b[?25hRequirement already satisfied: onnx>=1.10.2 in /usr/local/lib/python3.10/dist-packages (from onnx-tf) (1.14.1)\n",
            "Requirement already satisfied: PyYAML in /usr/local/lib/python3.10/dist-packages (from onnx-tf) (6.0.1)\n",
            "Collecting tensorflow-addons (from onnx-tf)\n",
            "  Downloading tensorflow_addons-0.21.0-cp310-cp310-manylinux_2_17_x86_64.manylinux2014_x86_64.whl (612 kB)\n",
            "\u001b[2K     \u001b[90m━━━━━━━━━━━━━━━━━━━━━━━━━━━━━━━━━━━━━━━━\u001b[0m \u001b[32m612.1/612.1 kB\u001b[0m \u001b[31m10.9 MB/s\u001b[0m eta \u001b[36m0:00:00\u001b[0m\n",
            "\u001b[?25hRequirement already satisfied: numpy in /usr/local/lib/python3.10/dist-packages (from onnx>=1.10.2->onnx-tf) (1.23.5)\n",
            "Requirement already satisfied: protobuf>=3.20.2 in /usr/local/lib/python3.10/dist-packages (from onnx>=1.10.2->onnx-tf) (3.20.3)\n",
            "Requirement already satisfied: typing-extensions>=3.6.2.1 in /usr/local/lib/python3.10/dist-packages (from onnx>=1.10.2->onnx-tf) (4.5.0)\n",
            "Requirement already satisfied: packaging in /usr/local/lib/python3.10/dist-packages (from tensorflow-addons->onnx-tf) (23.2)\n",
            "Collecting typeguard<3.0.0,>=2.7 (from tensorflow-addons->onnx-tf)\n",
            "  Downloading typeguard-2.13.3-py3-none-any.whl (17 kB)\n",
            "Installing collected packages: typeguard, tensorflow-addons, onnx-tf\n",
            "Successfully installed onnx-tf-1.10.0 tensorflow-addons-0.21.0 typeguard-2.13.3\n"
          ]
        }
      ]
    },
    {
      "cell_type": "code",
      "source": [
        "import os\n",
        "import shutil\n",
        "import sys\n",
        "\n",
        "import cv2\n",
        "import numpy as np\n",
        "import onnx\n",
        "import torch\n",
        "import tensorflow as tf\n",
        "from PIL import Image\n",
        "from torchvision import transforms\n",
        "from torchvision.models import *\n",
        "from torchsummary import summary\n",
        "from onnx_tf.backend import prepare\n"
      ],
      "metadata": {
        "colab": {
          "base_uri": "https://localhost:8080/"
        },
        "id": "aoNEdIP-uyb8",
        "outputId": "94319dd7-9086-4105-d3ad-dcb961f3684e"
      },
      "execution_count": null,
      "outputs": [
        {
          "output_type": "stream",
          "name": "stderr",
          "text": [
            "/usr/local/lib/python3.10/dist-packages/tensorflow_addons/utils/tfa_eol_msg.py:23: UserWarning: \n",
            "\n",
            "TensorFlow Addons (TFA) has ended development and introduction of new features.\n",
            "TFA has entered a minimal maintenance and release mode until a planned end of life in May 2024.\n",
            "Please modify downstream libraries to take dependencies from other repositories in our TensorFlow community (e.g. Keras, Keras-CV, and Keras-NLP). \n",
            "\n",
            "For more information see: https://github.com/tensorflow/addons/issues/2807 \n",
            "\n",
            "  warnings.warn(\n"
          ]
        }
      ]
    },
    {
      "cell_type": "code",
      "source": [
        "def convert_torch_to_onnx(onnx_path, image_path, model=None, torch_path=None):\n",
        "    \"\"\"\n",
        "        Coverts Pytorch model file to ONNX\n",
        "        :param torch_path: Torch model path to load\n",
        "        :param onnx_path: ONNX model path to save\n",
        "        :param image_path: Path to test image to use in export progress\n",
        "    \"\"\"\n",
        "    if torch_path is not None:\n",
        "        pytorch_model = get_torch_model(torch_path)\n",
        "    else:\n",
        "        pytorch_model = model\n",
        "\n",
        "    image, _, torch_image = get_example_input(image_path)\n",
        "\n",
        "    torch.onnx.export(\n",
        "        model = pytorch_model,\n",
        "        args = torch_image,\n",
        "        f = onnx_path,\n",
        "        verbose = False,\n",
        "        export_params=True,\n",
        "        do_constant_folding = False,\n",
        "        input_names = ['input'],\n",
        "        opset_version = 10,\n",
        "        output_names = ['output'])\n"
      ],
      "metadata": {
        "id": "mF7ZfaflvbGY"
      },
      "execution_count": null,
      "outputs": []
    },
    {
      "cell_type": "code",
      "source": [
        "def get_example_input(image_file):\n",
        "    \"\"\"\n",
        "        Load image from disk and converts to compatible shape\n",
        "        :param image_file: Path to single image file\n",
        "        :return: Orginal image, numpy.ndarray instance image, torch.Tensor image\n",
        "    \"\"\"\n",
        "    transform = transforms.Compose([\n",
        "        transforms.Resize((224,224)),\n",
        "        transforms.ToTensor(),\n",
        "    ])\n",
        "\n",
        "    image = cv2.imread(image_file)\n",
        "    image = cv2.cvtColor(image, cv2.COLOR_BGR2RGB)\n",
        "    pil_img = Image.fromarray(image)\n",
        "    torch_img = transform(pil_img)\n",
        "    torch_img = torch_img.unsqueeze(0)\n",
        "    torch_img = torch_img.to(torch.device(\"cpu\"))\n",
        "    print(torch_img.shape)\n",
        "    return image, torch_img.numpy(), torch_img\n"
      ],
      "metadata": {
        "id": "oCywVcDJvh8a"
      },
      "execution_count": null,
      "outputs": []
    },
    {
      "cell_type": "code",
      "source": [
        "\n",
        "onnx_model_path ='/content/drive/MyDrive/Poto/model.onnx'\n",
        "\n"
      ],
      "metadata": {
        "id": "7L8MfyKsvjS5"
      },
      "execution_count": null,
      "outputs": []
    },
    {
      "cell_type": "code",
      "source": [
        "pip install onnxscript"
      ],
      "metadata": {
        "colab": {
          "base_uri": "https://localhost:8080/"
        },
        "id": "W8BB1oQhyTFK",
        "outputId": "01555be3-86cb-4600-f049-08d945b56588"
      },
      "execution_count": null,
      "outputs": [
        {
          "output_type": "stream",
          "name": "stdout",
          "text": [
            "Collecting onnxscript\n",
            "  Downloading onnxscript-0.1.0.dev20231016-py3-none-any.whl (535 kB)\n",
            "\u001b[2K     \u001b[90m━━━━━━━━━━━━━━━━━━━━━━━━━━━━━━━━━━━━━━━━\u001b[0m \u001b[32m535.6/535.6 kB\u001b[0m \u001b[31m6.1 MB/s\u001b[0m eta \u001b[36m0:00:00\u001b[0m\n",
            "\u001b[?25hRequirement already satisfied: numpy in /usr/local/lib/python3.10/dist-packages (from onnxscript) (1.23.5)\n",
            "Collecting onnx>=1.14 (from onnxscript)\n",
            "  Downloading onnx-1.14.1-cp310-cp310-manylinux_2_17_x86_64.manylinux2014_x86_64.whl (14.6 MB)\n",
            "\u001b[2K     \u001b[90m━━━━━━━━━━━━━━━━━━━━━━━━━━━━━━━━━━━━━━━━\u001b[0m \u001b[32m14.6/14.6 MB\u001b[0m \u001b[31m29.6 MB/s\u001b[0m eta \u001b[36m0:00:00\u001b[0m\n",
            "\u001b[?25hRequirement already satisfied: typing-extensions in /usr/local/lib/python3.10/dist-packages (from onnxscript) (4.5.0)\n",
            "Requirement already satisfied: protobuf>=3.20.2 in /usr/local/lib/python3.10/dist-packages (from onnx>=1.14->onnxscript) (3.20.3)\n",
            "Installing collected packages: onnx, onnxscript\n",
            "Successfully installed onnx-1.14.1 onnxscript-0.1.0.dev20231016\n"
          ]
        }
      ]
    },
    {
      "cell_type": "code",
      "source": [
        "import onnx"
      ],
      "metadata": {
        "id": "uiHY1ZfuBE_2"
      },
      "execution_count": null,
      "outputs": []
    },
    {
      "cell_type": "code",
      "source": [
        "input_text = \"This.\"\n",
        "input_ids = tokenizer.encode(input_text, add_special_tokens=True, max_length=64, truncation=True, pad_to_max_length=True)\n",
        "input_tensor = torch.tensor([input_ids])\n",
        "\n",
        "# Export the model to ONNX\n",
        "onnx_path = \"roberta_sequence_classification.onnx\"\n",
        "torch.onnx.export(model, input_tensor, onnx_model_path, verbose=True)\n",
        "\n",
        "# Load the ONNX model\n",
        "onnx_model = onnx.load(onnx_model_path)"
      ],
      "metadata": {
        "colab": {
          "base_uri": "https://localhost:8080/"
        },
        "id": "0c6lCmcryHsn",
        "outputId": "bcc546bd-0426-4f4f-d4a1-601156aaa00d"
      },
      "execution_count": null,
      "outputs": [
        {
          "output_type": "stream",
          "name": "stdout",
          "text": [
            "============= Diagnostic Run torch.onnx.export version 2.0.1+cu118 =============\n",
            "verbose: False, log level: Level.ERROR\n",
            "======================= 0 NONE 0 NOTE 0 WARNING 0 ERROR ========================\n",
            "\n"
          ]
        }
      ]
    },
    {
      "cell_type": "code",
      "source": [],
      "metadata": {
        "id": "EKQr-763CVWJ"
      },
      "execution_count": null,
      "outputs": []
    },
    {
      "cell_type": "code",
      "source": [
        "pip install tf2onnx tensorflow onnx\n"
      ],
      "metadata": {
        "id": "qPjYjurayLR0"
      },
      "execution_count": null,
      "outputs": []
    },
    {
      "cell_type": "code",
      "source": [
        "from onnx_tf.backend import prepare\n",
        "\n",
        "tf_rep = prepare(onnx_model)"
      ],
      "metadata": {
        "id": "HYIRV7413Z49"
      },
      "execution_count": null,
      "outputs": []
    },
    {
      "cell_type": "code",
      "source": [
        "tf_model_path = \"/content/drive/MyDrive/Musi\"\n",
        "tflite_model_path = \"/content/drive/MyDrive/Musi/assets/converted_model.tflite\""
      ],
      "metadata": {
        "id": "tfIoAnQK4wXe"
      },
      "execution_count": null,
      "outputs": []
    },
    {
      "cell_type": "code",
      "source": [
        "tf_model_path_new = \"/content/drive/MyDrive/Musi\""
      ],
      "metadata": {
        "id": "Ac6yA4I08Wvp"
      },
      "execution_count": null,
      "outputs": []
    },
    {
      "cell_type": "code",
      "source": [
        "pip install tensorflow\n"
      ],
      "metadata": {
        "id": "3-ywRnmh6ee4"
      },
      "execution_count": null,
      "outputs": []
    },
    {
      "cell_type": "code",
      "source": [
        "import tensorflow as tf"
      ],
      "metadata": {
        "id": "ZExhySQh9ja9"
      },
      "execution_count": null,
      "outputs": []
    },
    {
      "cell_type": "code",
      "source": [
        "converter = tf.lite.TFLiteConverter.from_saved_model(tf_model_path)\n",
        "converter.target_spec.supported_ops = [\n",
        "  tf.lite.OpsSet.TFLITE_BUILTINS, # enable TensorFlow Lite ops.\n",
        "  tf.lite.OpsSet.SELECT_TF_OPS # enable TensorFlow ops.\n",
        "]\n",
        "tflite_model = converter.convert()\n",
        "open(tflite_model_path, \"wb\").write(tflite_model)"
      ],
      "metadata": {
        "colab": {
          "base_uri": "https://localhost:8080/",
          "height": 210
        },
        "id": "BC-PJn3k9Ify",
        "outputId": "3e8cbe4a-2202-4a31-d8bd-4c3dacd94671"
      },
      "execution_count": null,
      "outputs": [
        {
          "output_type": "error",
          "ename": "IsADirectoryError",
          "evalue": "ignored",
          "traceback": [
            "\u001b[0;31m---------------------------------------------------------------------------\u001b[0m",
            "\u001b[0;31mIsADirectoryError\u001b[0m                         Traceback (most recent call last)",
            "\u001b[0;32m<ipython-input-7-dc3d3b1559a7>\u001b[0m in \u001b[0;36m<cell line: 7>\u001b[0;34m()\u001b[0m\n\u001b[1;32m      5\u001b[0m ]\n\u001b[1;32m      6\u001b[0m \u001b[0mtflite_model\u001b[0m \u001b[0;34m=\u001b[0m \u001b[0mconverter\u001b[0m\u001b[0;34m.\u001b[0m\u001b[0mconvert\u001b[0m\u001b[0;34m(\u001b[0m\u001b[0;34m)\u001b[0m\u001b[0;34m\u001b[0m\u001b[0;34m\u001b[0m\u001b[0m\n\u001b[0;32m----> 7\u001b[0;31m \u001b[0mopen\u001b[0m\u001b[0;34m(\u001b[0m\u001b[0mtflite_model_path\u001b[0m\u001b[0;34m,\u001b[0m \u001b[0;34m\"wb\"\u001b[0m\u001b[0;34m)\u001b[0m\u001b[0;34m.\u001b[0m\u001b[0mwrite\u001b[0m\u001b[0;34m(\u001b[0m\u001b[0mtflite_model\u001b[0m\u001b[0;34m)\u001b[0m\u001b[0;34m\u001b[0m\u001b[0;34m\u001b[0m\u001b[0m\n\u001b[0m",
            "\u001b[0;31mIsADirectoryError\u001b[0m: [Errno 21] Is a directory: '/content/drive/MyDrive/Musi/assets'"
          ]
        }
      ]
    },
    {
      "cell_type": "markdown",
      "source": [
        "#new test"
      ],
      "metadata": {
        "id": "mONZjfwsEmgW"
      }
    },
    {
      "cell_type": "code",
      "source": [
        "from transformers import AutoTokenizer, AutoModelForSeq2SeqLM\n",
        "\n",
        "\n",
        "model_name = \"VietAI/envit5-translation\"\n",
        "tokenizer = AutoTokenizer.from_pretrained(model_name)\n",
        "model = AutoModelForSeq2SeqLM.from_pretrained(model_name)"
      ],
      "metadata": {
        "colab": {
          "base_uri": "https://localhost:8080/",
          "height": 209,
          "referenced_widgets": [
            "ee26de1695214aa783ea46510c4daafa",
            "eb1a178c4d6e479186d4f6151a15cf1e",
            "e736404940a748ef8b37a88d403d5808",
            "ab86d8116c0a44f48089ff74c7e6ac22",
            "c4a65666752945d1bf415a3b1586aa11",
            "bf161fb3789c4461a98bd8f24ec276c2",
            "c9f52465ee504b149a91a74c0266e7eb",
            "7d1a9ba2be6746a8972f4329fbb45f91",
            "930b0add86d6420ca4b68b4853ae404c",
            "ba4f57d9275b4d659f232fc0e45b4570",
            "88500dc849fd4248b10401ed29842e28",
            "333554f3ad5b44378f01753baf92136a",
            "1ab575ea97a7438abcc5e761bec5cf50",
            "fe92cf4fe911481a81e9dfb62beed5f7",
            "3857d70a877747beba4bc5b862ae4e66",
            "42e5e3d18635467c9e6f735cc1bfd742",
            "e0aa1ce754224a588b0c7bcd262dc9ff",
            "53515df4d8fb42ff9a0fa51c236f48a9",
            "207e0ab654714bef8d29c043b33e4f85",
            "554331b293d24ec6959520ba73cab54f",
            "5f7526e0ab1a49fd8283a119b1fa0bef",
            "4712e1ec6c0e473d9044cdcaca816d8d",
            "82abbf925ffe4c79b17b645737618b6b",
            "27b9053154e944868aab56b4d5f7e7e4",
            "76387cf54e5c4d59bd4f785554c39bc9",
            "e1854a95b2af480fabe1c13f9f9afc53",
            "f91ca9dec7a94a96ab2224905b5310e6",
            "a52660f2e6314ae9810324731789747b",
            "d7ae39fbac8d45a59a53706ae1accff2",
            "2b3a15f98d614815b17657e38549eede",
            "92e48d7cee3c4c3f89ffe8602a3f2050",
            "bdd2f3d71d8049b5b7391bbdbafd333a",
            "19f154e728c8403ca5b139a269e609dd",
            "6564959a258544999d7f122d44881033",
            "92e2c5043443468899312127ffcb2dea",
            "ba63971194ca481d8927beb0c0d65d5d",
            "07ab0d24e5824e5eaa70671ead1615b2",
            "8054632277084a1c85a881bbcaf81791",
            "9cec8e1699e1424690565cb50f73b0d1",
            "998ec4ba579a46fabe21d5f76f3b0a28",
            "6f85bd26e3fd432692c66387c9721823",
            "fa0ed3d8f109468eafedcfbd8aaaadb8",
            "38b2db365cb64940a33f10c4b484e318",
            "495deca2806f4853afceb0a640d04d91",
            "17efaac0dbf64ae38b167c314a5195b3",
            "d12eb050ebe3483da1409cd5d284d764",
            "565700540275409fa050cbfc5ce2b98b",
            "a77b515ff8a44a62b0d3aba7b6f0cd2f",
            "11097f753f7d48439925fba43c0a99f1",
            "3976243b9c7e4b6397aaebacf4b1fa95",
            "d846b8fce10140759a071549823cd7f9",
            "dc09226c9c474c2494f6a96b63f7a299",
            "668bbd050c1545cd9d0f6d2596dae37a",
            "ac7e15c966834ab4ad653294972ce955",
            "fb31e3c630084f9aa0154beb76fdc1bc",
            "c78ebc1ec97c4df88376938af3b8627d",
            "a8f77024ba6b4276afda73fbd0f4dd0b",
            "d495b99f30e8495b958b8f26a49a9787",
            "b12aa37b08d7414d95f957b4afc8f2d6",
            "5332602cce564c2ab34939e1d9b00d12",
            "6c486c36651046aa95963d31dd4ce74f",
            "0d74b83b63354617b721c226cfcea6e9",
            "81deb93636d94c808a8a0cc324d4c5e3",
            "d187776f1aa54bf0bec7866ff208ce1b",
            "022ff7f6e20f4dfdb7720a82b5adc841",
            "d0080b7aaa1349e79e297795356b8460"
          ]
        },
        "id": "cqwxhoWUEntW",
        "outputId": "91ff2023-cea9-440f-b6fd-c6891fb66542"
      },
      "execution_count": null,
      "outputs": [
        {
          "output_type": "display_data",
          "data": {
            "text/plain": [
              "(…)ation/resolve/main/tokenizer_config.json:   0%|          | 0.00/1.19k [00:00<?, ?B/s]"
            ],
            "application/vnd.jupyter.widget-view+json": {
              "version_major": 2,
              "version_minor": 0,
              "model_id": "ee26de1695214aa783ea46510c4daafa"
            }
          },
          "metadata": {}
        },
        {
          "output_type": "display_data",
          "data": {
            "text/plain": [
              "spiece.model:   0%|          | 0.00/1.10M [00:00<?, ?B/s]"
            ],
            "application/vnd.jupyter.widget-view+json": {
              "version_major": 2,
              "version_minor": 0,
              "model_id": "333554f3ad5b44378f01753baf92136a"
            }
          },
          "metadata": {}
        },
        {
          "output_type": "display_data",
          "data": {
            "text/plain": [
              "(…)-translation/resolve/main/tokenizer.json:   0%|          | 0.00/3.49M [00:00<?, ?B/s]"
            ],
            "application/vnd.jupyter.widget-view+json": {
              "version_major": 2,
              "version_minor": 0,
              "model_id": "82abbf925ffe4c79b17b645737618b6b"
            }
          },
          "metadata": {}
        },
        {
          "output_type": "display_data",
          "data": {
            "text/plain": [
              "(…)ion/resolve/main/special_tokens_map.json:   0%|          | 0.00/1.11k [00:00<?, ?B/s]"
            ],
            "application/vnd.jupyter.widget-view+json": {
              "version_major": 2,
              "version_minor": 0,
              "model_id": "6564959a258544999d7f122d44881033"
            }
          },
          "metadata": {}
        },
        {
          "output_type": "display_data",
          "data": {
            "text/plain": [
              "(…)it5-translation/resolve/main/config.json:   0%|          | 0.00/721 [00:00<?, ?B/s]"
            ],
            "application/vnd.jupyter.widget-view+json": {
              "version_major": 2,
              "version_minor": 0,
              "model_id": "17efaac0dbf64ae38b167c314a5195b3"
            }
          },
          "metadata": {}
        },
        {
          "output_type": "display_data",
          "data": {
            "text/plain": [
              "pytorch_model.bin:   0%|          | 0.00/1.10G [00:00<?, ?B/s]"
            ],
            "application/vnd.jupyter.widget-view+json": {
              "version_major": 2,
              "version_minor": 0,
              "model_id": "c78ebc1ec97c4df88376938af3b8627d"
            }
          },
          "metadata": {}
        }
      ]
    },
    {
      "cell_type": "code",
      "source": [
        "# Dummy input data for the model\n",
        "input_data = \"This is a test sentence\"\n",
        "inputs = tokenizer(input_data, return_tensors=\"pt\")\n",
        "\n",
        "\n",
        "# Export the model to ONNX\n",
        "onnx_path = \"envit5_translation.onnx\"\n",
        "dynamic_axes = {\"input_ids\": {0: \"batch_size\"}, \"attention_mask\": {0: \"batch_size\"}}\n",
        "torch.onnx.export(\n",
        "    model,\n",
        "    (inputs[\"input_ids\"], inputs[\"attention_mask\"]),\n",
        "    onnx_path,\n",
        "    dynamic_axes=dynamic_axes,\n",
        "    verbose=True\n",
        ")"
      ],
      "metadata": {
        "colab": {
          "base_uri": "https://localhost:8080/",
          "height": 245
        },
        "id": "FSEuazoiE1Wg",
        "outputId": "b1b3cf49-49e8-4e5d-b1d2-7f60e8cd5ec7"
      },
      "execution_count": null,
      "outputs": [
        {
          "output_type": "error",
          "ename": "NameError",
          "evalue": "ignored",
          "traceback": [
            "\u001b[0;31m---------------------------------------------------------------------------\u001b[0m",
            "\u001b[0;31mNameError\u001b[0m                                 Traceback (most recent call last)",
            "\u001b[0;32m<ipython-input-1-6e73b9016c71>\u001b[0m in \u001b[0;36m<cell line: 3>\u001b[0;34m()\u001b[0m\n\u001b[1;32m      1\u001b[0m \u001b[0;31m# Dummy input data for the model\u001b[0m\u001b[0;34m\u001b[0m\u001b[0;34m\u001b[0m\u001b[0m\n\u001b[1;32m      2\u001b[0m \u001b[0minput_data\u001b[0m \u001b[0;34m=\u001b[0m \u001b[0;34m\"This is a test sentence\"\u001b[0m\u001b[0;34m\u001b[0m\u001b[0;34m\u001b[0m\u001b[0m\n\u001b[0;32m----> 3\u001b[0;31m \u001b[0minputs\u001b[0m \u001b[0;34m=\u001b[0m \u001b[0mtokenizer\u001b[0m\u001b[0;34m(\u001b[0m\u001b[0minput_data\u001b[0m\u001b[0;34m,\u001b[0m \u001b[0mreturn_tensors\u001b[0m\u001b[0;34m=\u001b[0m\u001b[0;34m\"pt\"\u001b[0m\u001b[0;34m)\u001b[0m\u001b[0;34m\u001b[0m\u001b[0;34m\u001b[0m\u001b[0m\n\u001b[0m\u001b[1;32m      4\u001b[0m \u001b[0;34m\u001b[0m\u001b[0m\n\u001b[1;32m      5\u001b[0m \u001b[0;34m\u001b[0m\u001b[0m\n",
            "\u001b[0;31mNameError\u001b[0m: name 'tokenizer' is not defined"
          ]
        }
      ]
    }
  ]
}